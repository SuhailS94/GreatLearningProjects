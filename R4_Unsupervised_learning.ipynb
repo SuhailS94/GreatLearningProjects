{
 "cells": [
  {
   "cell_type": "code",
   "execution_count": 83,
   "metadata": {
    "ExecuteTime": {
     "end_time": "2019-11-03T10:58:32.959783Z",
     "start_time": "2019-11-03T10:58:32.953823Z"
    }
   },
   "outputs": [],
   "source": [
    "import numpy as np\n",
    "import pandas as pd\n",
    "import matplotlib.pyplot as plt\n",
    "import seaborn as sns\n",
    "from sklearn.model_selection import train_test_split\n",
    "from sklearn.metrics import accuracy_score, confusion_matrix, recall_score, precision_score, f1_score, auc, roc_curve\n",
    "from sklearn.metrics import classification_report\n",
    "from scipy.stats import zscore\n",
    "from sklearn.cluster import KMeans\n",
    "from scipy.spatial import distance\n",
    "from sklearn.model_selection import train_test_split\n",
    "from sklearn.linear_model import LinearRegression"
   ]
  },
  {
   "cell_type": "code",
   "execution_count": 84,
   "metadata": {
    "ExecuteTime": {
     "end_time": "2019-11-03T10:58:32.973758Z",
     "start_time": "2019-11-03T10:58:32.961813Z"
    }
   },
   "outputs": [],
   "source": [
    "cars_df = pd.read_csv('cars-dataset.csv')"
   ]
  },
  {
   "cell_type": "markdown",
   "metadata": {},
   "source": [
    "Using Qgrid to browse through the data"
   ]
  },
  {
   "cell_type": "code",
   "execution_count": 85,
   "metadata": {
    "ExecuteTime": {
     "end_time": "2019-11-03T10:58:33.017625Z",
     "start_time": "2019-11-03T10:58:32.975739Z"
    }
   },
   "outputs": [
    {
     "data": {
      "application/vnd.jupyter.widget-view+json": {
       "model_id": "f2d8bad117904cd581faa6a19acd6d4a",
       "version_major": 2,
       "version_minor": 0
      },
      "text/plain": [
       "QgridWidget(grid_options={'fullWidthRows': True, 'syncColumnCellResize': True, 'forceFitColumns': True, 'defau…"
      ]
     },
     "metadata": {},
     "output_type": "display_data"
    }
   ],
   "source": [
    "import qgrid\n",
    "qgrid_widget = qgrid.show_grid(cars_df, show_toolbar=True)\n",
    "qgrid_widget"
   ]
  },
  {
   "cell_type": "markdown",
   "metadata": {},
   "source": [
    "Printing sample data from the dataset"
   ]
  },
  {
   "cell_type": "code",
   "execution_count": 86,
   "metadata": {
    "ExecuteTime": {
     "end_time": "2019-11-03T10:58:33.033584Z",
     "start_time": "2019-11-03T10:58:33.018623Z"
    }
   },
   "outputs": [
    {
     "data": {
      "text/html": [
       "<div>\n",
       "<style scoped>\n",
       "    .dataframe tbody tr th:only-of-type {\n",
       "        vertical-align: middle;\n",
       "    }\n",
       "\n",
       "    .dataframe tbody tr th {\n",
       "        vertical-align: top;\n",
       "    }\n",
       "\n",
       "    .dataframe thead th {\n",
       "        text-align: right;\n",
       "    }\n",
       "</style>\n",
       "<table border=\"1\" class=\"dataframe\">\n",
       "  <thead>\n",
       "    <tr style=\"text-align: right;\">\n",
       "      <th></th>\n",
       "      <th>car name</th>\n",
       "      <th>cyl</th>\n",
       "      <th>disp</th>\n",
       "      <th>hp</th>\n",
       "      <th>wt</th>\n",
       "      <th>acc</th>\n",
       "      <th>yr</th>\n",
       "      <th>mpg</th>\n",
       "    </tr>\n",
       "  </thead>\n",
       "  <tbody>\n",
       "    <tr>\n",
       "      <th>339</th>\n",
       "      <td>buick skylark</td>\n",
       "      <td>4</td>\n",
       "      <td>151.0</td>\n",
       "      <td>84</td>\n",
       "      <td>2635</td>\n",
       "      <td>16.4</td>\n",
       "      <td>81</td>\n",
       "      <td>26.6</td>\n",
       "    </tr>\n",
       "    <tr>\n",
       "      <th>40</th>\n",
       "      <td>ford galaxie 500</td>\n",
       "      <td>8</td>\n",
       "      <td>351.0</td>\n",
       "      <td>153</td>\n",
       "      <td>4154</td>\n",
       "      <td>13.5</td>\n",
       "      <td>71</td>\n",
       "      <td>14.0</td>\n",
       "    </tr>\n",
       "    <tr>\n",
       "      <th>361</th>\n",
       "      <td>toyota cressida</td>\n",
       "      <td>6</td>\n",
       "      <td>168.0</td>\n",
       "      <td>116</td>\n",
       "      <td>2900</td>\n",
       "      <td>12.6</td>\n",
       "      <td>81</td>\n",
       "      <td>25.4</td>\n",
       "    </tr>\n",
       "    <tr>\n",
       "      <th>260</th>\n",
       "      <td>dodge aspen</td>\n",
       "      <td>6</td>\n",
       "      <td>225.0</td>\n",
       "      <td>110</td>\n",
       "      <td>3620</td>\n",
       "      <td>18.7</td>\n",
       "      <td>78</td>\n",
       "      <td>18.6</td>\n",
       "    </tr>\n",
       "    <tr>\n",
       "      <th>213</th>\n",
       "      <td>chevy c10</td>\n",
       "      <td>8</td>\n",
       "      <td>350.0</td>\n",
       "      <td>145</td>\n",
       "      <td>4055</td>\n",
       "      <td>12.0</td>\n",
       "      <td>76</td>\n",
       "      <td>13.0</td>\n",
       "    </tr>\n",
       "    <tr>\n",
       "      <th>19</th>\n",
       "      <td>volkswagen 1131 deluxe sedan</td>\n",
       "      <td>4</td>\n",
       "      <td>97.0</td>\n",
       "      <td>46</td>\n",
       "      <td>1835</td>\n",
       "      <td>20.5</td>\n",
       "      <td>70</td>\n",
       "      <td>26.0</td>\n",
       "    </tr>\n",
       "    <tr>\n",
       "      <th>340</th>\n",
       "      <td>dodge aries wagon (sw)</td>\n",
       "      <td>4</td>\n",
       "      <td>156.0</td>\n",
       "      <td>92</td>\n",
       "      <td>2620</td>\n",
       "      <td>14.4</td>\n",
       "      <td>81</td>\n",
       "      <td>25.8</td>\n",
       "    </tr>\n",
       "    <tr>\n",
       "      <th>208</th>\n",
       "      <td>plymouth volare premier v8</td>\n",
       "      <td>8</td>\n",
       "      <td>318.0</td>\n",
       "      <td>150</td>\n",
       "      <td>3940</td>\n",
       "      <td>13.2</td>\n",
       "      <td>76</td>\n",
       "      <td>13.0</td>\n",
       "    </tr>\n",
       "    <tr>\n",
       "      <th>224</th>\n",
       "      <td>mercury cougar brougham</td>\n",
       "      <td>8</td>\n",
       "      <td>302.0</td>\n",
       "      <td>130</td>\n",
       "      <td>4295</td>\n",
       "      <td>14.9</td>\n",
       "      <td>77</td>\n",
       "      <td>15.0</td>\n",
       "    </tr>\n",
       "    <tr>\n",
       "      <th>344</th>\n",
       "      <td>plymouth champ</td>\n",
       "      <td>4</td>\n",
       "      <td>86.0</td>\n",
       "      <td>64</td>\n",
       "      <td>1875</td>\n",
       "      <td>16.4</td>\n",
       "      <td>81</td>\n",
       "      <td>39.0</td>\n",
       "    </tr>\n",
       "  </tbody>\n",
       "</table>\n",
       "</div>"
      ],
      "text/plain": [
       "                         car name  cyl   disp   hp    wt   acc  yr   mpg\n",
       "339                 buick skylark    4  151.0   84  2635  16.4  81  26.6\n",
       "40               ford galaxie 500    8  351.0  153  4154  13.5  71  14.0\n",
       "361               toyota cressida    6  168.0  116  2900  12.6  81  25.4\n",
       "260                   dodge aspen    6  225.0  110  3620  18.7  78  18.6\n",
       "213                     chevy c10    8  350.0  145  4055  12.0  76  13.0\n",
       "19   volkswagen 1131 deluxe sedan    4   97.0   46  1835  20.5  70  26.0\n",
       "340        dodge aries wagon (sw)    4  156.0   92  2620  14.4  81  25.8\n",
       "208    plymouth volare premier v8    8  318.0  150  3940  13.2  76  13.0\n",
       "224       mercury cougar brougham    8  302.0  130  4295  14.9  77  15.0\n",
       "344                plymouth champ    4   86.0   64  1875  16.4  81  39.0"
      ]
     },
     "execution_count": 86,
     "metadata": {},
     "output_type": "execute_result"
    }
   ],
   "source": [
    "cars_df.sample(10)"
   ]
  },
  {
   "cell_type": "code",
   "execution_count": 87,
   "metadata": {
    "ExecuteTime": {
     "end_time": "2019-11-03T10:58:33.043557Z",
     "start_time": "2019-11-03T10:58:33.035578Z"
    }
   },
   "outputs": [
    {
     "name": "stdout",
     "output_type": "stream",
     "text": [
      "<class 'pandas.core.frame.DataFrame'>\n",
      "RangeIndex: 398 entries, 0 to 397\n",
      "Data columns (total 8 columns):\n",
      "car name    398 non-null object\n",
      "cyl         398 non-null int64\n",
      "disp        398 non-null float64\n",
      "hp          398 non-null object\n",
      "wt          398 non-null int64\n",
      "acc         398 non-null float64\n",
      "yr          398 non-null int64\n",
      "mpg         398 non-null float64\n",
      "dtypes: float64(3), int64(3), object(2)\n",
      "memory usage: 25.0+ KB\n"
     ]
    }
   ],
   "source": [
    "cars_df.info()"
   ]
  },
  {
   "cell_type": "markdown",
   "metadata": {},
   "source": [
    "Observed that hp is of datatype object, so it must contain special characters. Using the filter option in qgrid, it was identified as '?'"
   ]
  },
  {
   "cell_type": "code",
   "execution_count": 88,
   "metadata": {
    "ExecuteTime": {
     "end_time": "2019-11-03T10:58:33.050574Z",
     "start_time": "2019-11-03T10:58:33.045551Z"
    }
   },
   "outputs": [
    {
     "data": {
      "text/plain": [
       "(398, 8)"
      ]
     },
     "execution_count": 88,
     "metadata": {},
     "output_type": "execute_result"
    }
   ],
   "source": [
    "cars_df.shape"
   ]
  },
  {
   "cell_type": "code",
   "execution_count": 89,
   "metadata": {
    "ExecuteTime": {
     "end_time": "2019-11-03T10:58:33.059519Z",
     "start_time": "2019-11-03T10:58:33.053529Z"
    }
   },
   "outputs": [
    {
     "data": {
      "text/plain": [
       "0    150\n",
       "dtype: object"
      ]
     },
     "execution_count": 89,
     "metadata": {},
     "output_type": "execute_result"
    }
   ],
   "source": [
    "cars_df.hp.mode()"
   ]
  },
  {
   "cell_type": "markdown",
   "metadata": {},
   "source": [
    "Creating a dictionary with '?' as key and 150(mode) as value"
   ]
  },
  {
   "cell_type": "code",
   "execution_count": 90,
   "metadata": {
    "ExecuteTime": {
     "end_time": "2019-11-03T10:58:33.068509Z",
     "start_time": "2019-11-03T10:58:33.061518Z"
    }
   },
   "outputs": [],
   "source": [
    "dictionary = {'?': 150}\n",
    "cars_df.replace(dictionary, inplace=True)"
   ]
  },
  {
   "cell_type": "markdown",
   "metadata": {},
   "source": [
    "Converting hp datatyppe to int"
   ]
  },
  {
   "cell_type": "code",
   "execution_count": 91,
   "metadata": {
    "ExecuteTime": {
     "end_time": "2019-11-03T10:58:33.077465Z",
     "start_time": "2019-11-03T10:58:33.070483Z"
    }
   },
   "outputs": [],
   "source": [
    "cars_df['hp'] = cars_df['hp'].astype('str').astype('int')"
   ]
  },
  {
   "cell_type": "code",
   "execution_count": 92,
   "metadata": {
    "ExecuteTime": {
     "end_time": "2019-11-03T10:58:33.089434Z",
     "start_time": "2019-11-03T10:58:33.079461Z"
    }
   },
   "outputs": [
    {
     "name": "stdout",
     "output_type": "stream",
     "text": [
      "<class 'pandas.core.frame.DataFrame'>\n",
      "RangeIndex: 398 entries, 0 to 397\n",
      "Data columns (total 8 columns):\n",
      "car name    398 non-null object\n",
      "cyl         398 non-null int64\n",
      "disp        398 non-null float64\n",
      "hp          398 non-null int32\n",
      "wt          398 non-null int64\n",
      "acc         398 non-null float64\n",
      "yr          398 non-null int64\n",
      "mpg         398 non-null float64\n",
      "dtypes: float64(3), int32(1), int64(3), object(1)\n",
      "memory usage: 23.4+ KB\n"
     ]
    }
   ],
   "source": [
    "cars_df.info()"
   ]
  },
  {
   "cell_type": "code",
   "execution_count": 93,
   "metadata": {
    "ExecuteTime": {
     "end_time": "2019-11-03T10:58:33.125375Z",
     "start_time": "2019-11-03T10:58:33.091429Z"
    }
   },
   "outputs": [
    {
     "data": {
      "text/html": [
       "<div>\n",
       "<style scoped>\n",
       "    .dataframe tbody tr th:only-of-type {\n",
       "        vertical-align: middle;\n",
       "    }\n",
       "\n",
       "    .dataframe tbody tr th {\n",
       "        vertical-align: top;\n",
       "    }\n",
       "\n",
       "    .dataframe thead th {\n",
       "        text-align: right;\n",
       "    }\n",
       "</style>\n",
       "<table border=\"1\" class=\"dataframe\">\n",
       "  <thead>\n",
       "    <tr style=\"text-align: right;\">\n",
       "      <th></th>\n",
       "      <th>count</th>\n",
       "      <th>mean</th>\n",
       "      <th>std</th>\n",
       "      <th>min</th>\n",
       "      <th>25%</th>\n",
       "      <th>50%</th>\n",
       "      <th>75%</th>\n",
       "      <th>max</th>\n",
       "    </tr>\n",
       "  </thead>\n",
       "  <tbody>\n",
       "    <tr>\n",
       "      <th>cyl</th>\n",
       "      <td>398.0</td>\n",
       "      <td>5.454774</td>\n",
       "      <td>1.701004</td>\n",
       "      <td>3.0</td>\n",
       "      <td>4.000</td>\n",
       "      <td>4.0</td>\n",
       "      <td>8.000</td>\n",
       "      <td>8.0</td>\n",
       "    </tr>\n",
       "    <tr>\n",
       "      <th>disp</th>\n",
       "      <td>398.0</td>\n",
       "      <td>193.425879</td>\n",
       "      <td>104.269838</td>\n",
       "      <td>68.0</td>\n",
       "      <td>104.250</td>\n",
       "      <td>148.5</td>\n",
       "      <td>262.000</td>\n",
       "      <td>455.0</td>\n",
       "    </tr>\n",
       "    <tr>\n",
       "      <th>hp</th>\n",
       "      <td>398.0</td>\n",
       "      <td>105.155779</td>\n",
       "      <td>38.600986</td>\n",
       "      <td>46.0</td>\n",
       "      <td>76.000</td>\n",
       "      <td>95.0</td>\n",
       "      <td>130.000</td>\n",
       "      <td>230.0</td>\n",
       "    </tr>\n",
       "    <tr>\n",
       "      <th>wt</th>\n",
       "      <td>398.0</td>\n",
       "      <td>2970.424623</td>\n",
       "      <td>846.841774</td>\n",
       "      <td>1613.0</td>\n",
       "      <td>2223.750</td>\n",
       "      <td>2803.5</td>\n",
       "      <td>3608.000</td>\n",
       "      <td>5140.0</td>\n",
       "    </tr>\n",
       "    <tr>\n",
       "      <th>acc</th>\n",
       "      <td>398.0</td>\n",
       "      <td>15.568090</td>\n",
       "      <td>2.757689</td>\n",
       "      <td>8.0</td>\n",
       "      <td>13.825</td>\n",
       "      <td>15.5</td>\n",
       "      <td>17.175</td>\n",
       "      <td>24.8</td>\n",
       "    </tr>\n",
       "    <tr>\n",
       "      <th>yr</th>\n",
       "      <td>398.0</td>\n",
       "      <td>76.010050</td>\n",
       "      <td>3.697627</td>\n",
       "      <td>70.0</td>\n",
       "      <td>73.000</td>\n",
       "      <td>76.0</td>\n",
       "      <td>79.000</td>\n",
       "      <td>82.0</td>\n",
       "    </tr>\n",
       "    <tr>\n",
       "      <th>mpg</th>\n",
       "      <td>398.0</td>\n",
       "      <td>23.514573</td>\n",
       "      <td>7.815984</td>\n",
       "      <td>9.0</td>\n",
       "      <td>17.500</td>\n",
       "      <td>23.0</td>\n",
       "      <td>29.000</td>\n",
       "      <td>46.6</td>\n",
       "    </tr>\n",
       "  </tbody>\n",
       "</table>\n",
       "</div>"
      ],
      "text/plain": [
       "      count         mean         std     min       25%     50%       75%  \\\n",
       "cyl   398.0     5.454774    1.701004     3.0     4.000     4.0     8.000   \n",
       "disp  398.0   193.425879  104.269838    68.0   104.250   148.5   262.000   \n",
       "hp    398.0   105.155779   38.600986    46.0    76.000    95.0   130.000   \n",
       "wt    398.0  2970.424623  846.841774  1613.0  2223.750  2803.5  3608.000   \n",
       "acc   398.0    15.568090    2.757689     8.0    13.825    15.5    17.175   \n",
       "yr    398.0    76.010050    3.697627    70.0    73.000    76.0    79.000   \n",
       "mpg   398.0    23.514573    7.815984     9.0    17.500    23.0    29.000   \n",
       "\n",
       "         max  \n",
       "cyl      8.0  \n",
       "disp   455.0  \n",
       "hp     230.0  \n",
       "wt    5140.0  \n",
       "acc     24.8  \n",
       "yr      82.0  \n",
       "mpg     46.6  "
      ]
     },
     "execution_count": 93,
     "metadata": {},
     "output_type": "execute_result"
    }
   ],
   "source": [
    "cars_df.describe().T"
   ]
  },
  {
   "cell_type": "markdown",
   "metadata": {},
   "source": [
    "Copying cars_df dataframe to another dataframe 'df'"
   ]
  },
  {
   "cell_type": "code",
   "execution_count": 94,
   "metadata": {
    "ExecuteTime": {
     "end_time": "2019-11-03T10:58:33.132322Z",
     "start_time": "2019-11-03T10:58:33.127332Z"
    }
   },
   "outputs": [],
   "source": [
    "df = cars_df.copy()"
   ]
  },
  {
   "cell_type": "markdown",
   "metadata": {},
   "source": [
    "Checking the distribution of the data using histograms"
   ]
  },
  {
   "cell_type": "code",
   "execution_count": 95,
   "metadata": {
    "ExecuteTime": {
     "end_time": "2019-11-03T10:58:34.728658Z",
     "start_time": "2019-11-03T10:58:33.134314Z"
    }
   },
   "outputs": [
    {
     "data": {
      "image/png": "[encoded data removed]",
      "text/plain": [
       "<Figure size 720x648 with 9 Axes>"
      ]
     },
     "metadata": {
      "needs_background": "light"
     },
     "output_type": "display_data"
    }
   ],
   "source": [
    "fig = df.hist(bins=15,\n",
    "                 color='steelblue',\n",
    "                 edgecolor='black', linewidth=1.0,\n",
    "                 xlabelsize=10, ylabelsize=10,\n",
    "                 xrot=45, yrot=0,\n",
    "                 figsize=(10,9),\n",
    "                 grid=False)\n",
    "\n",
    "plt.tight_layout(rect=(0, 0, 1.5, 1.5)) "
   ]
  },
  {
   "cell_type": "code",
   "execution_count": 96,
   "metadata": {
    "ExecuteTime": {
     "end_time": "2019-11-03T10:58:34.742593Z",
     "start_time": "2019-11-03T10:58:34.730626Z"
    }
   },
   "outputs": [
    {
     "data": {
      "text/html": [
       "<div>\n",
       "<style scoped>\n",
       "    .dataframe tbody tr th:only-of-type {\n",
       "        vertical-align: middle;\n",
       "    }\n",
       "\n",
       "    .dataframe tbody tr th {\n",
       "        vertical-align: top;\n",
       "    }\n",
       "\n",
       "    .dataframe thead th {\n",
       "        text-align: right;\n",
       "    }\n",
       "</style>\n",
       "<table border=\"1\" class=\"dataframe\">\n",
       "  <thead>\n",
       "    <tr style=\"text-align: right;\">\n",
       "      <th></th>\n",
       "      <th>cyl</th>\n",
       "      <th>disp</th>\n",
       "      <th>hp</th>\n",
       "      <th>wt</th>\n",
       "      <th>acc</th>\n",
       "      <th>yr</th>\n",
       "      <th>mpg</th>\n",
       "    </tr>\n",
       "  </thead>\n",
       "  <tbody>\n",
       "    <tr>\n",
       "      <th>cyl</th>\n",
       "      <td>1.000000</td>\n",
       "      <td>0.950721</td>\n",
       "      <td>0.818454</td>\n",
       "      <td>0.896017</td>\n",
       "      <td>-0.505419</td>\n",
       "      <td>-0.348746</td>\n",
       "      <td>-0.775396</td>\n",
       "    </tr>\n",
       "    <tr>\n",
       "      <th>disp</th>\n",
       "      <td>0.950721</td>\n",
       "      <td>1.000000</td>\n",
       "      <td>0.873330</td>\n",
       "      <td>0.932824</td>\n",
       "      <td>-0.543684</td>\n",
       "      <td>-0.370164</td>\n",
       "      <td>-0.804203</td>\n",
       "    </tr>\n",
       "    <tr>\n",
       "      <th>hp</th>\n",
       "      <td>0.818454</td>\n",
       "      <td>0.873330</td>\n",
       "      <td>1.000000</td>\n",
       "      <td>0.841770</td>\n",
       "      <td>-0.665833</td>\n",
       "      <td>-0.397772</td>\n",
       "      <td>-0.753177</td>\n",
       "    </tr>\n",
       "    <tr>\n",
       "      <th>wt</th>\n",
       "      <td>0.896017</td>\n",
       "      <td>0.932824</td>\n",
       "      <td>0.841770</td>\n",
       "      <td>1.000000</td>\n",
       "      <td>-0.417457</td>\n",
       "      <td>-0.306564</td>\n",
       "      <td>-0.831741</td>\n",
       "    </tr>\n",
       "    <tr>\n",
       "      <th>acc</th>\n",
       "      <td>-0.505419</td>\n",
       "      <td>-0.543684</td>\n",
       "      <td>-0.665833</td>\n",
       "      <td>-0.417457</td>\n",
       "      <td>1.000000</td>\n",
       "      <td>0.288137</td>\n",
       "      <td>0.420289</td>\n",
       "    </tr>\n",
       "    <tr>\n",
       "      <th>yr</th>\n",
       "      <td>-0.348746</td>\n",
       "      <td>-0.370164</td>\n",
       "      <td>-0.397772</td>\n",
       "      <td>-0.306564</td>\n",
       "      <td>0.288137</td>\n",
       "      <td>1.000000</td>\n",
       "      <td>0.579267</td>\n",
       "    </tr>\n",
       "    <tr>\n",
       "      <th>mpg</th>\n",
       "      <td>-0.775396</td>\n",
       "      <td>-0.804203</td>\n",
       "      <td>-0.753177</td>\n",
       "      <td>-0.831741</td>\n",
       "      <td>0.420289</td>\n",
       "      <td>0.579267</td>\n",
       "      <td>1.000000</td>\n",
       "    </tr>\n",
       "  </tbody>\n",
       "</table>\n",
       "</div>"
      ],
      "text/plain": [
       "           cyl      disp        hp        wt       acc        yr       mpg\n",
       "cyl   1.000000  0.950721  0.818454  0.896017 -0.505419 -0.348746 -0.775396\n",
       "disp  0.950721  1.000000  0.873330  0.932824 -0.543684 -0.370164 -0.804203\n",
       "hp    0.818454  0.873330  1.000000  0.841770 -0.665833 -0.397772 -0.753177\n",
       "wt    0.896017  0.932824  0.841770  1.000000 -0.417457 -0.306564 -0.831741\n",
       "acc  -0.505419 -0.543684 -0.665833 -0.417457  1.000000  0.288137  0.420289\n",
       "yr   -0.348746 -0.370164 -0.397772 -0.306564  0.288137  1.000000  0.579267\n",
       "mpg  -0.775396 -0.804203 -0.753177 -0.831741  0.420289  0.579267  1.000000"
      ]
     },
     "execution_count": 96,
     "metadata": {},
     "output_type": "execute_result"
    }
   ],
   "source": [
    "corr = df.corr()\n",
    "corr"
   ]
  },
  {
   "cell_type": "code",
   "execution_count": 97,
   "metadata": {
    "ExecuteTime": {
     "end_time": "2019-11-03T10:58:35.155280Z",
     "start_time": "2019-11-03T10:58:34.744462Z"
    }
   },
   "outputs": [
    {
     "data": {
      "text/plain": [
       "Text(0.5, 0.98, 'Cars Correlation Heatmap')"
      ]
     },
     "execution_count": 97,
     "metadata": {},
     "output_type": "execute_result"
    },
    {
     "data": {
      "image/png": "[encoded data removed]",
      "text/plain": [
       "<Figure size 504x504 with 2 Axes>"
      ]
     },
     "metadata": {
      "needs_background": "light"
     },
     "output_type": "display_data"
    }
   ],
   "source": [
    "fig, (ax) = plt.subplots(1,1, figsize=(7,7))\n",
    "\n",
    "hm = sns.heatmap(corr, \n",
    "                 ax=ax,           \n",
    "                 cmap=\"coolwarm\", \n",
    "                 annot=True, \n",
    "                 fmt='.2f', \n",
    "                 linewidths=.05)\n",
    "\n",
    "fig.subplots_adjust(top=0.9)\n",
    "fig.suptitle('Cars Correlation Heatmap', \n",
    "              fontsize=14, \n",
    "              fontweight='bold')"
   ]
  },
  {
   "cell_type": "markdown",
   "metadata": {},
   "source": [
    "From the heatmap it looks like other than 'acceleration' and 'year', all other variables have a very strong negative correlation with the 'mpg'. This is good for model accuracy.<br> \n",
    "Also 'weight', 'hp', 'disp' and 'cyl' have a very strong positive correlation with each other. This is bad for the model accuracy. "
   ]
  },
  {
   "cell_type": "code",
   "execution_count": 98,
   "metadata": {
    "ExecuteTime": {
     "end_time": "2019-11-03T10:58:51.498590Z",
     "start_time": "2019-11-03T10:58:35.157240Z"
    },
    "scrolled": true
   },
   "outputs": [
    {
     "data": {
      "text/plain": [
       "Text(0.5, 0.98, 'Cars Pairwise Plots')"
      ]
     },
     "execution_count": 98,
     "metadata": {},
     "output_type": "execute_result"
    },
    {
     "data": {
      "image/png": "[encoded data removed]",
      "text/plain": [
       "<Figure size 1260x1260 with 56 Axes>"
      ]
     },
     "metadata": {
      "needs_background": "light"
     },
     "output_type": "display_data"
    }
   ],
   "source": [
    "pp = sns.pairplot(df, \n",
    "                  diag_kws=dict(shade=True), \n",
    "                  diag_kind=\"kde\",\n",
    "                  kind=\"reg\")\n",
    "\n",
    "fig = pp.fig \n",
    "fig.subplots_adjust(top=0.93, wspace=0.3)\n",
    "fig.suptitle('Cars Pairwise Plots', fontsize=14, fontweight='bold')"
   ]
  },
  {
   "cell_type": "markdown",
   "metadata": {},
   "source": [
    "The above scatter plot with a linear regression line confirms our initial hypothesis that there is a good negative correlation between all variables other than 'acc' and 'year'.<br>\n",
    "The distribution of 'acc' and 'year' with respect to 'mpg' are a cloud which iis not favourable.<br>\n",
    "We expect 3 clusters since there 3 well differentiated peaks for cyliner and displacement"
   ]
  },
  {
   "cell_type": "markdown",
   "metadata": {},
   "source": [
    "Dropping car name and copying to a new dataframe X"
   ]
  },
  {
   "cell_type": "code",
   "execution_count": 99,
   "metadata": {
    "ExecuteTime": {
     "end_time": "2019-11-03T10:58:51.506513Z",
     "start_time": "2019-11-03T10:58:51.500530Z"
    }
   },
   "outputs": [],
   "source": [
    "X = df.drop('car name', axis=1)"
   ]
  },
  {
   "cell_type": "code",
   "execution_count": 100,
   "metadata": {
    "ExecuteTime": {
     "end_time": "2019-11-03T10:58:51.522534Z",
     "start_time": "2019-11-03T10:58:51.511564Z"
    }
   },
   "outputs": [
    {
     "name": "stdout",
     "output_type": "stream",
     "text": [
      "<class 'pandas.core.frame.DataFrame'>\n",
      "RangeIndex: 398 entries, 0 to 397\n",
      "Data columns (total 7 columns):\n",
      "cyl     398 non-null int64\n",
      "disp    398 non-null float64\n",
      "hp      398 non-null int32\n",
      "wt      398 non-null int64\n",
      "acc     398 non-null float64\n",
      "yr      398 non-null int64\n",
      "mpg     398 non-null float64\n",
      "dtypes: float64(3), int32(1), int64(3)\n",
      "memory usage: 20.3 KB\n"
     ]
    }
   ],
   "source": [
    "X.info()"
   ]
  },
  {
   "cell_type": "markdown",
   "metadata": {},
   "source": [
    "Applying z score and looping through 10 differnt values to find the ideal value of k for the k means model"
   ]
  },
  {
   "cell_type": "code",
   "execution_count": 101,
   "metadata": {
    "ExecuteTime": {
     "end_time": "2019-11-03T10:58:51.533505Z",
     "start_time": "2019-11-03T10:58:51.525529Z"
    }
   },
   "outputs": [],
   "source": [
    "X = X.apply(zscore)"
   ]
  },
  {
   "cell_type": "code",
   "execution_count": 102,
   "metadata": {
    "ExecuteTime": {
     "end_time": "2019-11-03T10:58:51.539517Z",
     "start_time": "2019-11-03T10:58:51.535501Z"
    }
   },
   "outputs": [],
   "source": [
    "cluster_range = range(1,10)"
   ]
  },
  {
   "cell_type": "code",
   "execution_count": 103,
   "metadata": {
    "ExecuteTime": {
     "end_time": "2019-11-03T10:58:51.758915Z",
     "start_time": "2019-11-03T10:58:51.541484Z"
    }
   },
   "outputs": [],
   "source": [
    "cluster_errors = []\n",
    "cluster_sil_scores = []\n",
    "for num_clusters in cluster_range:\n",
    "    clusters = KMeans( num_clusters, n_init = 5)\n",
    "    clusters.fit(X)\n",
    "    labels = clusters.labels_                     \n",
    "    centroids = clusters.cluster_centers_         \n",
    "    cluster_errors.append(clusters.inertia_) \n",
    "    "
   ]
  },
  {
   "cell_type": "code",
   "execution_count": 104,
   "metadata": {
    "ExecuteTime": {
     "end_time": "2019-11-03T10:58:51.777866Z",
     "start_time": "2019-11-03T10:58:51.760910Z"
    }
   },
   "outputs": [
    {
     "data": {
      "text/html": [
       "<div>\n",
       "<style scoped>\n",
       "    .dataframe tbody tr th:only-of-type {\n",
       "        vertical-align: middle;\n",
       "    }\n",
       "\n",
       "    .dataframe tbody tr th {\n",
       "        vertical-align: top;\n",
       "    }\n",
       "\n",
       "    .dataframe thead th {\n",
       "        text-align: right;\n",
       "    }\n",
       "</style>\n",
       "<table border=\"1\" class=\"dataframe\">\n",
       "  <thead>\n",
       "    <tr style=\"text-align: right;\">\n",
       "      <th></th>\n",
       "      <th>num_clusters</th>\n",
       "      <th>cluster_errors</th>\n",
       "    </tr>\n",
       "  </thead>\n",
       "  <tbody>\n",
       "    <tr>\n",
       "      <th>0</th>\n",
       "      <td>1</td>\n",
       "      <td>2786.000000</td>\n",
       "    </tr>\n",
       "    <tr>\n",
       "      <th>1</th>\n",
       "      <td>2</td>\n",
       "      <td>1309.054976</td>\n",
       "    </tr>\n",
       "    <tr>\n",
       "      <th>2</th>\n",
       "      <td>3</td>\n",
       "      <td>961.382912</td>\n",
       "    </tr>\n",
       "    <tr>\n",
       "      <th>3</th>\n",
       "      <td>4</td>\n",
       "      <td>754.252064</td>\n",
       "    </tr>\n",
       "    <tr>\n",
       "      <th>4</th>\n",
       "      <td>5</td>\n",
       "      <td>679.279430</td>\n",
       "    </tr>\n",
       "    <tr>\n",
       "      <th>5</th>\n",
       "      <td>6</td>\n",
       "      <td>609.933542</td>\n",
       "    </tr>\n",
       "    <tr>\n",
       "      <th>6</th>\n",
       "      <td>7</td>\n",
       "      <td>560.303148</td>\n",
       "    </tr>\n",
       "    <tr>\n",
       "      <th>7</th>\n",
       "      <td>8</td>\n",
       "      <td>514.603775</td>\n",
       "    </tr>\n",
       "    <tr>\n",
       "      <th>8</th>\n",
       "      <td>9</td>\n",
       "      <td>477.688840</td>\n",
       "    </tr>\n",
       "  </tbody>\n",
       "</table>\n",
       "</div>"
      ],
      "text/plain": [
       "   num_clusters  cluster_errors\n",
       "0             1     2786.000000\n",
       "1             2     1309.054976\n",
       "2             3      961.382912\n",
       "3             4      754.252064\n",
       "4             5      679.279430\n",
       "5             6      609.933542\n",
       "6             7      560.303148\n",
       "7             8      514.603775\n",
       "8             9      477.688840"
      ]
     },
     "execution_count": 104,
     "metadata": {},
     "output_type": "execute_result"
    }
   ],
   "source": [
    "clusters_df = pd.DataFrame( { \"num_clusters\":cluster_range, \"cluster_errors\": cluster_errors} )\n",
    "clusters_df[0:10]"
   ]
  },
  {
   "cell_type": "code",
   "execution_count": 105,
   "metadata": {
    "ExecuteTime": {
     "end_time": "2019-11-03T10:58:51.991329Z",
     "start_time": "2019-11-03T10:58:51.782852Z"
    }
   },
   "outputs": [
    {
     "data": {
      "text/plain": [
       "[<matplotlib.lines.Line2D at 0x250b8ece108>]"
      ]
     },
     "execution_count": 105,
     "metadata": {},
     "output_type": "execute_result"
    },
    {
     "data": {
      "image/png": "[encoded data removed]",
      "text/plain": [
       "<Figure size 864x432 with 1 Axes>"
      ]
     },
     "metadata": {
      "needs_background": "light"
     },
     "output_type": "display_data"
    }
   ],
   "source": [
    "plt.figure(figsize=(12,6))\n",
    "plt.plot(range(1,10), cluster_errors, 'go-')"
   ]
  },
  {
   "cell_type": "markdown",
   "metadata": {},
   "source": [
    "We are taking optimum value of k as 3"
   ]
  },
  {
   "cell_type": "markdown",
   "metadata": {},
   "source": [
    "Building another k means model now using k as 3"
   ]
  },
  {
   "cell_type": "code",
   "execution_count": 106,
   "metadata": {
    "ExecuteTime": {
     "end_time": "2019-11-03T10:58:52.035925Z",
     "start_time": "2019-11-03T10:58:51.992290Z"
    }
   },
   "outputs": [],
   "source": [
    "kmeans = KMeans(n_clusters=3, n_init=5)\n",
    "a = kmeans.fit_transform(X)\n",
    "kmeans = kmeans.fit(X)\n",
    "pred = kmeans.predict(X)\n",
    "centroids = kmeans.cluster_centers_"
   ]
  },
  {
   "cell_type": "code",
   "execution_count": 107,
   "metadata": {
    "ExecuteTime": {
     "end_time": "2019-11-03T10:58:52.041693Z",
     "start_time": "2019-11-03T10:58:52.036694Z"
    }
   },
   "outputs": [
    {
     "name": "stdout",
     "output_type": "stream",
     "text": [
      "[[ 0.33294816  0.23244729 -0.02442109  0.30199715  0.29352756  0.02490959\n",
      "  -0.4698385 ]\n",
      " [-0.85344922 -0.80656011 -0.67287907 -0.79315729  0.35837031  0.29976425\n",
      "   0.76157036]\n",
      " [ 1.49819126  1.50068407  1.47719449  1.40001604 -1.07612225 -0.6725559\n",
      "  -1.15871315]]\n"
     ]
    }
   ],
   "source": [
    "print(centroids)"
   ]
  },
  {
   "cell_type": "markdown",
   "metadata": {},
   "source": [
    "Printing centeroids"
   ]
  },
  {
   "cell_type": "code",
   "execution_count": 108,
   "metadata": {
    "ExecuteTime": {
     "end_time": "2019-11-03T10:58:52.058637Z",
     "start_time": "2019-11-03T10:58:52.043677Z"
    }
   },
   "outputs": [
    {
     "data": {
      "text/html": [
       "<div>\n",
       "<style scoped>\n",
       "    .dataframe tbody tr th:only-of-type {\n",
       "        vertical-align: middle;\n",
       "    }\n",
       "\n",
       "    .dataframe tbody tr th {\n",
       "        vertical-align: top;\n",
       "    }\n",
       "\n",
       "    .dataframe thead th {\n",
       "        text-align: right;\n",
       "    }\n",
       "</style>\n",
       "<table border=\"1\" class=\"dataframe\">\n",
       "  <thead>\n",
       "    <tr style=\"text-align: right;\">\n",
       "      <th></th>\n",
       "      <th>cyl</th>\n",
       "      <th>disp</th>\n",
       "      <th>hp</th>\n",
       "      <th>wt</th>\n",
       "      <th>acc</th>\n",
       "      <th>yr</th>\n",
       "      <th>mpg</th>\n",
       "    </tr>\n",
       "  </thead>\n",
       "  <tbody>\n",
       "    <tr>\n",
       "      <th>0</th>\n",
       "      <td>0.332948</td>\n",
       "      <td>0.232447</td>\n",
       "      <td>-0.024421</td>\n",
       "      <td>0.301997</td>\n",
       "      <td>0.293528</td>\n",
       "      <td>0.024910</td>\n",
       "      <td>-0.469839</td>\n",
       "    </tr>\n",
       "    <tr>\n",
       "      <th>1</th>\n",
       "      <td>-0.853449</td>\n",
       "      <td>-0.806560</td>\n",
       "      <td>-0.672879</td>\n",
       "      <td>-0.793157</td>\n",
       "      <td>0.358370</td>\n",
       "      <td>0.299764</td>\n",
       "      <td>0.761570</td>\n",
       "    </tr>\n",
       "    <tr>\n",
       "      <th>2</th>\n",
       "      <td>1.498191</td>\n",
       "      <td>1.500684</td>\n",
       "      <td>1.477194</td>\n",
       "      <td>1.400016</td>\n",
       "      <td>-1.076122</td>\n",
       "      <td>-0.672556</td>\n",
       "      <td>-1.158713</td>\n",
       "    </tr>\n",
       "  </tbody>\n",
       "</table>\n",
       "</div>"
      ],
      "text/plain": [
       "        cyl      disp        hp        wt       acc        yr       mpg\n",
       "0  0.332948  0.232447 -0.024421  0.301997  0.293528  0.024910 -0.469839\n",
       "1 -0.853449 -0.806560 -0.672879 -0.793157  0.358370  0.299764  0.761570\n",
       "2  1.498191  1.500684  1.477194  1.400016 -1.076122 -0.672556 -1.158713"
      ]
     },
     "execution_count": 108,
     "metadata": {},
     "output_type": "execute_result"
    }
   ],
   "source": [
    "centroid_df = pd.DataFrame(centroids, columns = list(X) )\n",
    "centroid_df"
   ]
  },
  {
   "cell_type": "code",
   "execution_count": 109,
   "metadata": {
    "ExecuteTime": {
     "end_time": "2019-11-03T10:58:52.068630Z",
     "start_time": "2019-11-03T10:58:52.060633Z"
    },
    "scrolled": true
   },
   "outputs": [
    {
     "data": {
      "text/plain": [
       "array([2, 2, 2, 2, 2, 2, 2, 2, 2, 2, 2, 2, 2, 2, 1, 0, 0, 0, 1, 1, 1, 1,\n",
       "       1, 1, 0, 2, 2, 2, 2, 1, 1, 1, 1, 0, 0, 0, 0, 0, 2, 2, 2, 2, 2, 2,\n",
       "       2, 0, 1, 0, 0, 1, 1, 1, 1, 1, 1, 1, 1, 1, 1, 1, 1, 1, 2, 2, 2, 2,\n",
       "       2, 2, 2, 2, 2, 1, 2, 2, 2, 2, 0, 1, 1, 1, 1, 1, 1, 1, 1, 2, 2, 2,\n",
       "       2, 2, 2, 2, 2, 2, 2, 2, 2, 0, 0, 0, 0, 0, 1, 2, 2, 2, 2, 0, 1, 1,\n",
       "       1, 1, 1, 0, 1, 2, 2, 1, 1, 1, 0, 2, 1, 0, 2, 0, 0, 0, 0, 1, 1, 1,\n",
       "       1, 0, 0, 0, 2, 2, 2, 2, 2, 1, 1, 1, 1, 1, 1, 1, 1, 1, 1, 1, 0, 0,\n",
       "       0, 0, 2, 2, 2, 2, 0, 0, 0, 0, 0, 0, 2, 1, 1, 0, 1, 1, 1, 1, 0, 1,\n",
       "       0, 1, 1, 1, 1, 1, 1, 1, 1, 1, 1, 2, 2, 2, 2, 0, 0, 0, 0, 1, 1, 1,\n",
       "       1, 0, 0, 0, 0, 1, 1, 1, 1, 0, 2, 0, 0, 0, 2, 2, 2, 2, 1, 1, 1, 1,\n",
       "       1, 2, 0, 2, 2, 0, 0, 0, 0, 2, 2, 2, 2, 1, 1, 1, 1, 1, 1, 1, 1, 0,\n",
       "       1, 1, 1, 1, 1, 1, 1, 0, 2, 2, 0, 0, 0, 1, 0, 0, 0, 0, 0, 0, 2, 0,\n",
       "       2, 2, 1, 1, 1, 1, 1, 1, 1, 1, 0, 0, 1, 0, 1, 1, 0, 0, 1, 0, 0, 0,\n",
       "       2, 2, 2, 2, 2, 0, 2, 1, 1, 1, 1, 0, 0, 1, 0, 1, 1, 1, 1, 1, 0, 0,\n",
       "       1, 1, 1, 1, 1, 1, 1, 1, 0, 1, 1, 1, 1, 1, 1, 1, 1, 1, 1, 1, 1, 1,\n",
       "       1, 1, 1, 0, 1, 1, 0, 1, 1, 1, 1, 0, 1, 1, 1, 1, 1, 1, 1, 1, 1, 1,\n",
       "       1, 1, 1, 1, 1, 1, 1, 1, 1, 0, 0, 0, 0, 0, 0, 1, 1, 1, 1, 1, 1, 1,\n",
       "       0, 1, 1, 1, 1, 1, 1, 1, 1, 1, 1, 1, 0, 1, 1, 0, 1, 1, 1, 1, 1, 1,\n",
       "       1, 1])"
      ]
     },
     "execution_count": 109,
     "metadata": {},
     "output_type": "execute_result"
    }
   ],
   "source": [
    "labels = kmeans.labels_ \n",
    "labels"
   ]
  },
  {
   "cell_type": "markdown",
   "metadata": {},
   "source": [
    "Appending the labels to the 'df' dataframe so that we can split the dataframe into 3 clusters"
   ]
  },
  {
   "cell_type": "code",
   "execution_count": 110,
   "metadata": {
    "ExecuteTime": {
     "end_time": "2019-11-03T10:58:52.078585Z",
     "start_time": "2019-11-03T10:58:52.071603Z"
    }
   },
   "outputs": [],
   "source": [
    "df['labels'] = labels"
   ]
  },
  {
   "cell_type": "code",
   "execution_count": 111,
   "metadata": {
    "ExecuteTime": {
     "end_time": "2019-11-03T10:58:52.093542Z",
     "start_time": "2019-11-03T10:58:52.082576Z"
    }
   },
   "outputs": [],
   "source": [
    "df0 = df[df['labels']==0]\n",
    "df1 = df[df['labels']==1]\n",
    "df2 = df[df['labels']==2]"
   ]
  },
  {
   "cell_type": "code",
   "execution_count": 112,
   "metadata": {
    "ExecuteTime": {
     "end_time": "2019-11-03T10:58:52.174368Z",
     "start_time": "2019-11-03T10:58:52.095537Z"
    }
   },
   "outputs": [
    {
     "data": {
      "text/html": [
       "<div>\n",
       "<style scoped>\n",
       "    .dataframe tbody tr th:only-of-type {\n",
       "        vertical-align: middle;\n",
       "    }\n",
       "\n",
       "    .dataframe tbody tr th {\n",
       "        vertical-align: top;\n",
       "    }\n",
       "\n",
       "    .dataframe thead th {\n",
       "        text-align: right;\n",
       "    }\n",
       "</style>\n",
       "<table border=\"1\" class=\"dataframe\">\n",
       "  <thead>\n",
       "    <tr style=\"text-align: right;\">\n",
       "      <th></th>\n",
       "      <th></th>\n",
       "      <th>count</th>\n",
       "      <th>mean</th>\n",
       "      <th>std</th>\n",
       "      <th>min</th>\n",
       "      <th>25%</th>\n",
       "      <th>50%</th>\n",
       "      <th>75%</th>\n",
       "      <th>max</th>\n",
       "    </tr>\n",
       "  </thead>\n",
       "  <tbody>\n",
       "    <tr>\n",
       "      <th rowspan=\"8\" valign=\"top\">Car-Type: 0</th>\n",
       "      <th>cyl</th>\n",
       "      <td>98.0</td>\n",
       "      <td>6.020408</td>\n",
       "      <td>0.772992</td>\n",
       "      <td>4.0</td>\n",
       "      <td>6.000</td>\n",
       "      <td>6.00</td>\n",
       "      <td>6.000</td>\n",
       "      <td>8.0</td>\n",
       "    </tr>\n",
       "    <tr>\n",
       "      <th>disp</th>\n",
       "      <td>98.0</td>\n",
       "      <td>217.632653</td>\n",
       "      <td>43.890771</td>\n",
       "      <td>120.0</td>\n",
       "      <td>198.000</td>\n",
       "      <td>228.00</td>\n",
       "      <td>250.000</td>\n",
       "      <td>350.0</td>\n",
       "    </tr>\n",
       "    <tr>\n",
       "      <th>hp</th>\n",
       "      <td>98.0</td>\n",
       "      <td>104.214286</td>\n",
       "      <td>16.210122</td>\n",
       "      <td>72.0</td>\n",
       "      <td>95.000</td>\n",
       "      <td>102.50</td>\n",
       "      <td>110.000</td>\n",
       "      <td>165.0</td>\n",
       "    </tr>\n",
       "    <tr>\n",
       "      <th>wt</th>\n",
       "      <td>98.0</td>\n",
       "      <td>3225.846939</td>\n",
       "      <td>348.307228</td>\n",
       "      <td>2472.0</td>\n",
       "      <td>2936.000</td>\n",
       "      <td>3227.00</td>\n",
       "      <td>3443.500</td>\n",
       "      <td>4060.0</td>\n",
       "    </tr>\n",
       "    <tr>\n",
       "      <th>acc</th>\n",
       "      <td>98.0</td>\n",
       "      <td>16.376531</td>\n",
       "      <td>2.179180</td>\n",
       "      <td>11.3</td>\n",
       "      <td>15.025</td>\n",
       "      <td>16.00</td>\n",
       "      <td>17.675</td>\n",
       "      <td>22.2</td>\n",
       "    </tr>\n",
       "    <tr>\n",
       "      <th>yr</th>\n",
       "      <td>98.0</td>\n",
       "      <td>76.102041</td>\n",
       "      <td>3.167131</td>\n",
       "      <td>70.0</td>\n",
       "      <td>74.000</td>\n",
       "      <td>76.00</td>\n",
       "      <td>78.000</td>\n",
       "      <td>82.0</td>\n",
       "    </tr>\n",
       "    <tr>\n",
       "      <th>mpg</th>\n",
       "      <td>98.0</td>\n",
       "      <td>19.846939</td>\n",
       "      <td>3.056182</td>\n",
       "      <td>15.0</td>\n",
       "      <td>18.000</td>\n",
       "      <td>19.15</td>\n",
       "      <td>21.000</td>\n",
       "      <td>32.7</td>\n",
       "    </tr>\n",
       "    <tr>\n",
       "      <th>labels</th>\n",
       "      <td>98.0</td>\n",
       "      <td>0.000000</td>\n",
       "      <td>0.000000</td>\n",
       "      <td>0.0</td>\n",
       "      <td>0.000</td>\n",
       "      <td>0.00</td>\n",
       "      <td>0.000</td>\n",
       "      <td>0.0</td>\n",
       "    </tr>\n",
       "    <tr>\n",
       "      <th rowspan=\"8\" valign=\"top\">Car-Type: 1</th>\n",
       "      <th>cyl</th>\n",
       "      <td>205.0</td>\n",
       "      <td>4.004878</td>\n",
       "      <td>0.252392</td>\n",
       "      <td>3.0</td>\n",
       "      <td>4.000</td>\n",
       "      <td>4.00</td>\n",
       "      <td>4.000</td>\n",
       "      <td>6.0</td>\n",
       "    </tr>\n",
       "    <tr>\n",
       "      <th>disp</th>\n",
       "      <td>205.0</td>\n",
       "      <td>109.431707</td>\n",
       "      <td>24.325413</td>\n",
       "      <td>68.0</td>\n",
       "      <td>91.000</td>\n",
       "      <td>105.00</td>\n",
       "      <td>121.000</td>\n",
       "      <td>262.0</td>\n",
       "    </tr>\n",
       "    <tr>\n",
       "      <th>hp</th>\n",
       "      <td>205.0</td>\n",
       "      <td>79.214634</td>\n",
       "      <td>16.601818</td>\n",
       "      <td>46.0</td>\n",
       "      <td>68.000</td>\n",
       "      <td>78.00</td>\n",
       "      <td>90.000</td>\n",
       "      <td>150.0</td>\n",
       "    </tr>\n",
       "    <tr>\n",
       "      <th>wt</th>\n",
       "      <td>205.0</td>\n",
       "      <td>2299.590244</td>\n",
       "      <td>336.305924</td>\n",
       "      <td>1613.0</td>\n",
       "      <td>2046.000</td>\n",
       "      <td>2230.00</td>\n",
       "      <td>2556.000</td>\n",
       "      <td>3250.0</td>\n",
       "    </tr>\n",
       "    <tr>\n",
       "      <th>acc</th>\n",
       "      <td>205.0</td>\n",
       "      <td>16.555122</td>\n",
       "      <td>2.386920</td>\n",
       "      <td>11.6</td>\n",
       "      <td>14.800</td>\n",
       "      <td>16.20</td>\n",
       "      <td>18.000</td>\n",
       "      <td>24.8</td>\n",
       "    </tr>\n",
       "    <tr>\n",
       "      <th>yr</th>\n",
       "      <td>205.0</td>\n",
       "      <td>77.117073</td>\n",
       "      <td>3.758122</td>\n",
       "      <td>70.0</td>\n",
       "      <td>74.000</td>\n",
       "      <td>78.00</td>\n",
       "      <td>80.000</td>\n",
       "      <td>82.0</td>\n",
       "    </tr>\n",
       "    <tr>\n",
       "      <th>mpg</th>\n",
       "      <td>205.0</td>\n",
       "      <td>29.459512</td>\n",
       "      <td>5.674726</td>\n",
       "      <td>18.0</td>\n",
       "      <td>25.000</td>\n",
       "      <td>29.00</td>\n",
       "      <td>33.000</td>\n",
       "      <td>46.6</td>\n",
       "    </tr>\n",
       "    <tr>\n",
       "      <th>labels</th>\n",
       "      <td>205.0</td>\n",
       "      <td>1.000000</td>\n",
       "      <td>0.000000</td>\n",
       "      <td>1.0</td>\n",
       "      <td>1.000</td>\n",
       "      <td>1.00</td>\n",
       "      <td>1.000</td>\n",
       "      <td>1.0</td>\n",
       "    </tr>\n",
       "    <tr>\n",
       "      <th rowspan=\"8\" valign=\"top\">Car-Type: 2</th>\n",
       "      <th>cyl</th>\n",
       "      <td>95.0</td>\n",
       "      <td>8.000000</td>\n",
       "      <td>0.000000</td>\n",
       "      <td>8.0</td>\n",
       "      <td>8.000</td>\n",
       "      <td>8.00</td>\n",
       "      <td>8.000</td>\n",
       "      <td>8.0</td>\n",
       "    </tr>\n",
       "    <tr>\n",
       "      <th>disp</th>\n",
       "      <td>95.0</td>\n",
       "      <td>349.705263</td>\n",
       "      <td>44.336449</td>\n",
       "      <td>302.0</td>\n",
       "      <td>312.500</td>\n",
       "      <td>350.00</td>\n",
       "      <td>383.000</td>\n",
       "      <td>455.0</td>\n",
       "    </tr>\n",
       "    <tr>\n",
       "      <th>hp</th>\n",
       "      <td>95.0</td>\n",
       "      <td>162.105263</td>\n",
       "      <td>26.028002</td>\n",
       "      <td>120.0</td>\n",
       "      <td>145.000</td>\n",
       "      <td>150.00</td>\n",
       "      <td>175.000</td>\n",
       "      <td>230.0</td>\n",
       "    </tr>\n",
       "    <tr>\n",
       "      <th>wt</th>\n",
       "      <td>95.0</td>\n",
       "      <td>4154.526316</td>\n",
       "      <td>437.810968</td>\n",
       "      <td>3086.0</td>\n",
       "      <td>3860.000</td>\n",
       "      <td>4190.00</td>\n",
       "      <td>4432.500</td>\n",
       "      <td>5140.0</td>\n",
       "    </tr>\n",
       "    <tr>\n",
       "      <th>acc</th>\n",
       "      <td>95.0</td>\n",
       "      <td>12.604211</td>\n",
       "      <td>1.780265</td>\n",
       "      <td>8.0</td>\n",
       "      <td>11.500</td>\n",
       "      <td>12.80</td>\n",
       "      <td>13.700</td>\n",
       "      <td>18.5</td>\n",
       "    </tr>\n",
       "    <tr>\n",
       "      <th>yr</th>\n",
       "      <td>95.0</td>\n",
       "      <td>73.526316</td>\n",
       "      <td>2.797575</td>\n",
       "      <td>70.0</td>\n",
       "      <td>71.000</td>\n",
       "      <td>73.00</td>\n",
       "      <td>76.000</td>\n",
       "      <td>79.0</td>\n",
       "    </tr>\n",
       "    <tr>\n",
       "      <th>mpg</th>\n",
       "      <td>95.0</td>\n",
       "      <td>14.469474</td>\n",
       "      <td>2.167265</td>\n",
       "      <td>9.0</td>\n",
       "      <td>13.000</td>\n",
       "      <td>14.00</td>\n",
       "      <td>16.000</td>\n",
       "      <td>20.2</td>\n",
       "    </tr>\n",
       "    <tr>\n",
       "      <th>labels</th>\n",
       "      <td>95.0</td>\n",
       "      <td>2.000000</td>\n",
       "      <td>0.000000</td>\n",
       "      <td>2.0</td>\n",
       "      <td>2.000</td>\n",
       "      <td>2.00</td>\n",
       "      <td>2.000</td>\n",
       "      <td>2.0</td>\n",
       "    </tr>\n",
       "  </tbody>\n",
       "</table>\n",
       "</div>"
      ],
      "text/plain": [
       "                    count         mean         std     min       25%      50%  \\\n",
       "Car-Type: 0 cyl      98.0     6.020408    0.772992     4.0     6.000     6.00   \n",
       "            disp     98.0   217.632653   43.890771   120.0   198.000   228.00   \n",
       "            hp       98.0   104.214286   16.210122    72.0    95.000   102.50   \n",
       "            wt       98.0  3225.846939  348.307228  2472.0  2936.000  3227.00   \n",
       "            acc      98.0    16.376531    2.179180    11.3    15.025    16.00   \n",
       "            yr       98.0    76.102041    3.167131    70.0    74.000    76.00   \n",
       "            mpg      98.0    19.846939    3.056182    15.0    18.000    19.15   \n",
       "            labels   98.0     0.000000    0.000000     0.0     0.000     0.00   \n",
       "Car-Type: 1 cyl     205.0     4.004878    0.252392     3.0     4.000     4.00   \n",
       "            disp    205.0   109.431707   24.325413    68.0    91.000   105.00   \n",
       "            hp      205.0    79.214634   16.601818    46.0    68.000    78.00   \n",
       "            wt      205.0  2299.590244  336.305924  1613.0  2046.000  2230.00   \n",
       "            acc     205.0    16.555122    2.386920    11.6    14.800    16.20   \n",
       "            yr      205.0    77.117073    3.758122    70.0    74.000    78.00   \n",
       "            mpg     205.0    29.459512    5.674726    18.0    25.000    29.00   \n",
       "            labels  205.0     1.000000    0.000000     1.0     1.000     1.00   \n",
       "Car-Type: 2 cyl      95.0     8.000000    0.000000     8.0     8.000     8.00   \n",
       "            disp     95.0   349.705263   44.336449   302.0   312.500   350.00   \n",
       "            hp       95.0   162.105263   26.028002   120.0   145.000   150.00   \n",
       "            wt       95.0  4154.526316  437.810968  3086.0  3860.000  4190.00   \n",
       "            acc      95.0    12.604211    1.780265     8.0    11.500    12.80   \n",
       "            yr       95.0    73.526316    2.797575    70.0    71.000    73.00   \n",
       "            mpg      95.0    14.469474    2.167265     9.0    13.000    14.00   \n",
       "            labels   95.0     2.000000    0.000000     2.0     2.000     2.00   \n",
       "\n",
       "                         75%     max  \n",
       "Car-Type: 0 cyl        6.000     8.0  \n",
       "            disp     250.000   350.0  \n",
       "            hp       110.000   165.0  \n",
       "            wt      3443.500  4060.0  \n",
       "            acc       17.675    22.2  \n",
       "            yr        78.000    82.0  \n",
       "            mpg       21.000    32.7  \n",
       "            labels     0.000     0.0  \n",
       "Car-Type: 1 cyl        4.000     6.0  \n",
       "            disp     121.000   262.0  \n",
       "            hp        90.000   150.0  \n",
       "            wt      2556.000  3250.0  \n",
       "            acc       18.000    24.8  \n",
       "            yr        80.000    82.0  \n",
       "            mpg       33.000    46.6  \n",
       "            labels     1.000     1.0  \n",
       "Car-Type: 2 cyl        8.000     8.0  \n",
       "            disp     383.000   455.0  \n",
       "            hp       175.000   230.0  \n",
       "            wt      4432.500  5140.0  \n",
       "            acc       13.700    18.5  \n",
       "            yr        76.000    79.0  \n",
       "            mpg       16.000    20.2  \n",
       "            labels     2.000     2.0  "
      ]
     },
     "execution_count": 112,
     "metadata": {},
     "output_type": "execute_result"
    }
   ],
   "source": [
    "pd.concat([df0.describe().T,df1.describe().T,df2.describe().T],axis=0, keys=['Car-Type: 0', 'Car-Type: 1', 'Car-Type: 2'])"
   ]
  },
  {
   "cell_type": "markdown",
   "metadata": {},
   "source": [
    "Using basic inference on the above data we can conclude that :<br>\n",
    "<ul>\n",
    "        <li>Car Type 0 contains saloon version of cars with a high displacement, power, acceleration and milage while being heavy.</li>\n",
    "        <li>Car Type 1 contains the hatchback/lighter cars with a very good milage and acceleration but lower engine displacement and power.</li>\n",
    "        <li>Car Type 2 contains the heaviest vehicles, probably SUVs with poor milage and acceleration but has the highest displacement and power</li>\n",
    "        \n",
    "</ul>\n"
   ]
  },
  {
   "cell_type": "markdown",
   "metadata": {},
   "source": [
    "<strong>Linear Regression for Sedan variant</strong>"
   ]
  },
  {
   "cell_type": "code",
   "execution_count": 113,
   "metadata": {
    "ExecuteTime": {
     "end_time": "2019-11-03T10:58:52.185297Z",
     "start_time": "2019-11-03T10:58:52.176321Z"
    }
   },
   "outputs": [],
   "source": [
    "X = df0.drop(['car name','labels'], axis =1)\n",
    "X=X.apply(zscore)"
   ]
  },
  {
   "cell_type": "code",
   "execution_count": 114,
   "metadata": {
    "ExecuteTime": {
     "end_time": "2019-11-03T10:58:52.193275Z",
     "start_time": "2019-11-03T10:58:52.187292Z"
    }
   },
   "outputs": [],
   "source": [
    "y=X['mpg']\n",
    "X=X.drop('mpg', axis=1)"
   ]
  },
  {
   "cell_type": "code",
   "execution_count": 115,
   "metadata": {
    "ExecuteTime": {
     "end_time": "2019-11-03T10:58:52.205280Z",
     "start_time": "2019-11-03T10:58:52.195270Z"
    }
   },
   "outputs": [],
   "source": [
    "X_train, X_test, y_train, y_test = train_test_split(X, y, test_size=0.25, random_state=5)"
   ]
  },
  {
   "cell_type": "code",
   "execution_count": 116,
   "metadata": {
    "ExecuteTime": {
     "end_time": "2019-11-03T10:58:52.218212Z",
     "start_time": "2019-11-03T10:58:52.207260Z"
    }
   },
   "outputs": [
    {
     "data": {
      "text/plain": [
       "LinearRegression(copy_X=True, fit_intercept=True, n_jobs=None, normalize=False)"
      ]
     },
     "execution_count": 116,
     "metadata": {},
     "output_type": "execute_result"
    }
   ],
   "source": [
    "sedan_model = LinearRegression()\n",
    "sedan_model.fit(X_train, y_train)"
   ]
  },
  {
   "cell_type": "markdown",
   "metadata": {},
   "source": [
    "printing the coefficients"
   ]
  },
  {
   "cell_type": "code",
   "execution_count": 117,
   "metadata": {
    "ExecuteTime": {
     "end_time": "2019-11-03T10:58:52.231178Z",
     "start_time": "2019-11-03T10:58:52.220204Z"
    }
   },
   "outputs": [
    {
     "data": {
      "text/html": [
       "<div>\n",
       "<style scoped>\n",
       "    .dataframe tbody tr th:only-of-type {\n",
       "        vertical-align: middle;\n",
       "    }\n",
       "\n",
       "    .dataframe tbody tr th {\n",
       "        vertical-align: top;\n",
       "    }\n",
       "\n",
       "    .dataframe thead th {\n",
       "        text-align: right;\n",
       "    }\n",
       "</style>\n",
       "<table border=\"1\" class=\"dataframe\">\n",
       "  <thead>\n",
       "    <tr style=\"text-align: right;\">\n",
       "      <th></th>\n",
       "      <th>Columns</th>\n",
       "      <th>Coeff</th>\n",
       "    </tr>\n",
       "  </thead>\n",
       "  <tbody>\n",
       "    <tr>\n",
       "      <th>0</th>\n",
       "      <td>cyl</td>\n",
       "      <td>0.228175</td>\n",
       "    </tr>\n",
       "    <tr>\n",
       "      <th>1</th>\n",
       "      <td>disp</td>\n",
       "      <td>-0.065822</td>\n",
       "    </tr>\n",
       "    <tr>\n",
       "      <th>2</th>\n",
       "      <td>hp</td>\n",
       "      <td>-0.047224</td>\n",
       "    </tr>\n",
       "    <tr>\n",
       "      <th>3</th>\n",
       "      <td>wt</td>\n",
       "      <td>-0.523445</td>\n",
       "    </tr>\n",
       "    <tr>\n",
       "      <th>4</th>\n",
       "      <td>acc</td>\n",
       "      <td>-0.066730</td>\n",
       "    </tr>\n",
       "    <tr>\n",
       "      <th>5</th>\n",
       "      <td>yr</td>\n",
       "      <td>0.586694</td>\n",
       "    </tr>\n",
       "  </tbody>\n",
       "</table>\n",
       "</div>"
      ],
      "text/plain": [
       "  Columns     Coeff\n",
       "0     cyl  0.228175\n",
       "1    disp -0.065822\n",
       "2      hp -0.047224\n",
       "3      wt -0.523445\n",
       "4     acc -0.066730\n",
       "5      yr  0.586694"
      ]
     },
     "execution_count": 117,
     "metadata": {},
     "output_type": "execute_result"
    }
   ],
   "source": [
    "pd.DataFrame({'Columns': X_train.columns, 'Coeff' : sedan_model.coef_})"
   ]
  },
  {
   "cell_type": "markdown",
   "metadata": {},
   "source": [
    "Printing the train and test accuracy. We expect poor accuracy since the data sample is less for sedan type"
   ]
  },
  {
   "cell_type": "code",
   "execution_count": 118,
   "metadata": {
    "ExecuteTime": {
     "end_time": "2019-11-03T10:58:52.241147Z",
     "start_time": "2019-11-03T10:58:52.233169Z"
    }
   },
   "outputs": [
    {
     "data": {
      "text/plain": [
       "0.5014293585611542"
      ]
     },
     "execution_count": 118,
     "metadata": {},
     "output_type": "execute_result"
    }
   ],
   "source": [
    "sedan_model.score(X_train,y_train)"
   ]
  },
  {
   "cell_type": "code",
   "execution_count": 119,
   "metadata": {
    "ExecuteTime": {
     "end_time": "2019-11-03T10:58:52.252145Z",
     "start_time": "2019-11-03T10:58:52.243142Z"
    }
   },
   "outputs": [
    {
     "data": {
      "text/plain": [
       "0.20187622418386666"
      ]
     },
     "execution_count": 119,
     "metadata": {},
     "output_type": "execute_result"
    }
   ],
   "source": [
    "sedan_model.score(X_test,y_test)"
   ]
  },
  {
   "cell_type": "markdown",
   "metadata": {},
   "source": [
    "<strong>Linear Regression for hatchback variant</strong>"
   ]
  },
  {
   "cell_type": "code",
   "execution_count": 120,
   "metadata": {
    "ExecuteTime": {
     "end_time": "2019-11-03T10:58:52.263089Z",
     "start_time": "2019-11-03T10:58:52.254113Z"
    }
   },
   "outputs": [],
   "source": [
    "X = df1.drop(['car name','labels'], axis =1)\n",
    "X=X.apply(zscore)\n"
   ]
  },
  {
   "cell_type": "code",
   "execution_count": 121,
   "metadata": {
    "ExecuteTime": {
     "end_time": "2019-11-03T10:58:52.272073Z",
     "start_time": "2019-11-03T10:58:52.265083Z"
    }
   },
   "outputs": [],
   "source": [
    "y= X['mpg']\n",
    "X=X.drop('mpg', axis=1)"
   ]
  },
  {
   "cell_type": "code",
   "execution_count": 122,
   "metadata": {
    "ExecuteTime": {
     "end_time": "2019-11-03T10:58:52.282038Z",
     "start_time": "2019-11-03T10:58:52.274061Z"
    }
   },
   "outputs": [],
   "source": [
    "X_train, X_test, y_train, y_test = train_test_split(X, y, test_size=0.25, random_state=5)"
   ]
  },
  {
   "cell_type": "code",
   "execution_count": 123,
   "metadata": {
    "ExecuteTime": {
     "end_time": "2019-11-03T10:58:52.294007Z",
     "start_time": "2019-11-03T10:58:52.285031Z"
    }
   },
   "outputs": [
    {
     "data": {
      "text/plain": [
       "LinearRegression(copy_X=True, fit_intercept=True, n_jobs=None, normalize=False)"
      ]
     },
     "execution_count": 123,
     "metadata": {},
     "output_type": "execute_result"
    }
   ],
   "source": [
    "Hatchback_model = LinearRegression()\n",
    "Hatchback_model.fit(X_train, y_train)"
   ]
  },
  {
   "cell_type": "markdown",
   "metadata": {},
   "source": [
    "Printing coefficients for hatchback model"
   ]
  },
  {
   "cell_type": "code",
   "execution_count": 124,
   "metadata": {
    "ExecuteTime": {
     "end_time": "2019-11-03T10:58:52.305974Z",
     "start_time": "2019-11-03T10:58:52.296001Z"
    }
   },
   "outputs": [
    {
     "data": {
      "text/html": [
       "<div>\n",
       "<style scoped>\n",
       "    .dataframe tbody tr th:only-of-type {\n",
       "        vertical-align: middle;\n",
       "    }\n",
       "\n",
       "    .dataframe tbody tr th {\n",
       "        vertical-align: top;\n",
       "    }\n",
       "\n",
       "    .dataframe thead th {\n",
       "        text-align: right;\n",
       "    }\n",
       "</style>\n",
       "<table border=\"1\" class=\"dataframe\">\n",
       "  <thead>\n",
       "    <tr style=\"text-align: right;\">\n",
       "      <th></th>\n",
       "      <th>Columns</th>\n",
       "      <th>Coeff</th>\n",
       "    </tr>\n",
       "  </thead>\n",
       "  <tbody>\n",
       "    <tr>\n",
       "      <th>0</th>\n",
       "      <td>cyl</td>\n",
       "      <td>0.254945</td>\n",
       "    </tr>\n",
       "    <tr>\n",
       "      <th>1</th>\n",
       "      <td>disp</td>\n",
       "      <td>-0.187648</td>\n",
       "    </tr>\n",
       "    <tr>\n",
       "      <th>2</th>\n",
       "      <td>hp</td>\n",
       "      <td>-0.018923</td>\n",
       "    </tr>\n",
       "    <tr>\n",
       "      <th>3</th>\n",
       "      <td>wt</td>\n",
       "      <td>-0.414274</td>\n",
       "    </tr>\n",
       "    <tr>\n",
       "      <th>4</th>\n",
       "      <td>acc</td>\n",
       "      <td>0.116168</td>\n",
       "    </tr>\n",
       "    <tr>\n",
       "      <th>5</th>\n",
       "      <td>yr</td>\n",
       "      <td>0.623259</td>\n",
       "    </tr>\n",
       "  </tbody>\n",
       "</table>\n",
       "</div>"
      ],
      "text/plain": [
       "  Columns     Coeff\n",
       "0     cyl  0.254945\n",
       "1    disp -0.187648\n",
       "2      hp -0.018923\n",
       "3      wt -0.414274\n",
       "4     acc  0.116168\n",
       "5      yr  0.623259"
      ]
     },
     "execution_count": 124,
     "metadata": {},
     "output_type": "execute_result"
    }
   ],
   "source": [
    "pd.DataFrame({'Columns': X_train.columns, 'Coeff' : Hatchback_model.coef_})"
   ]
  },
  {
   "cell_type": "markdown",
   "metadata": {},
   "source": [
    "Printing accuracy of train and test. We expect better performance since the dataset is larger"
   ]
  },
  {
   "cell_type": "code",
   "execution_count": 125,
   "metadata": {
    "ExecuteTime": {
     "end_time": "2019-11-03T10:58:52.316945Z",
     "start_time": "2019-11-03T10:58:52.307968Z"
    }
   },
   "outputs": [
    {
     "data": {
      "text/plain": [
       "0.6736454354168835"
      ]
     },
     "execution_count": 125,
     "metadata": {},
     "output_type": "execute_result"
    }
   ],
   "source": [
    "Hatchback_model.score(X_train,y_train)"
   ]
  },
  {
   "cell_type": "code",
   "execution_count": 126,
   "metadata": {
    "ExecuteTime": {
     "end_time": "2019-11-03T10:58:52.326917Z",
     "start_time": "2019-11-03T10:58:52.318939Z"
    }
   },
   "outputs": [
    {
     "data": {
      "text/plain": [
       "0.7139126275800807"
      ]
     },
     "execution_count": 126,
     "metadata": {},
     "output_type": "execute_result"
    }
   ],
   "source": [
    "Hatchback_model.score(X_test,y_test)"
   ]
  },
  {
   "cell_type": "markdown",
   "metadata": {},
   "source": [
    "<strong>Linear Regression for SUV variant</strong>"
   ]
  },
  {
   "cell_type": "code",
   "execution_count": 131,
   "metadata": {
    "ExecuteTime": {
     "end_time": "2019-11-03T11:02:12.748956Z",
     "start_time": "2019-11-03T11:02:12.743470Z"
    }
   },
   "outputs": [],
   "source": [
    "X = df2.drop(['car name', 'labels','mpg'], axis =1)\n",
    "\n",
    "y= df2['mpg']\n"
   ]
  },
  {
   "cell_type": "code",
   "execution_count": 132,
   "metadata": {
    "ExecuteTime": {
     "end_time": "2019-11-03T11:02:14.447649Z",
     "start_time": "2019-11-03T11:02:14.441308Z"
    }
   },
   "outputs": [],
   "source": [
    "X_train, X_test, y_train, y_test = train_test_split(X, y, test_size=0.25, random_state=5)"
   ]
  },
  {
   "cell_type": "code",
   "execution_count": 133,
   "metadata": {
    "ExecuteTime": {
     "end_time": "2019-11-03T11:02:41.571123Z",
     "start_time": "2019-11-03T11:02:41.562148Z"
    }
   },
   "outputs": [
    {
     "data": {
      "text/plain": [
       "LinearRegression(copy_X=True, fit_intercept=True, n_jobs=None, normalize=False)"
      ]
     },
     "execution_count": 133,
     "metadata": {},
     "output_type": "execute_result"
    }
   ],
   "source": [
    "SUV_model = LinearRegression()\n",
    "SUV_model.fit(X_train, y_train)"
   ]
  },
  {
   "cell_type": "code",
   "execution_count": 134,
   "metadata": {
    "ExecuteTime": {
     "end_time": "2019-11-03T11:03:02.732925Z",
     "start_time": "2019-11-03T11:03:02.722980Z"
    }
   },
   "outputs": [
    {
     "data": {
      "text/html": [
       "<div>\n",
       "<style scoped>\n",
       "    .dataframe tbody tr th:only-of-type {\n",
       "        vertical-align: middle;\n",
       "    }\n",
       "\n",
       "    .dataframe tbody tr th {\n",
       "        vertical-align: top;\n",
       "    }\n",
       "\n",
       "    .dataframe thead th {\n",
       "        text-align: right;\n",
       "    }\n",
       "</style>\n",
       "<table border=\"1\" class=\"dataframe\">\n",
       "  <thead>\n",
       "    <tr style=\"text-align: right;\">\n",
       "      <th></th>\n",
       "      <th>Columns</th>\n",
       "      <th>Coeff</th>\n",
       "    </tr>\n",
       "  </thead>\n",
       "  <tbody>\n",
       "    <tr>\n",
       "      <th>0</th>\n",
       "      <td>cyl</td>\n",
       "      <td>0.000000</td>\n",
       "    </tr>\n",
       "    <tr>\n",
       "      <th>1</th>\n",
       "      <td>disp</td>\n",
       "      <td>-0.001067</td>\n",
       "    </tr>\n",
       "    <tr>\n",
       "      <th>2</th>\n",
       "      <td>hp</td>\n",
       "      <td>-0.017833</td>\n",
       "    </tr>\n",
       "    <tr>\n",
       "      <th>3</th>\n",
       "      <td>wt</td>\n",
       "      <td>-0.002110</td>\n",
       "    </tr>\n",
       "    <tr>\n",
       "      <th>4</th>\n",
       "      <td>acc</td>\n",
       "      <td>-0.414125</td>\n",
       "    </tr>\n",
       "    <tr>\n",
       "      <th>5</th>\n",
       "      <td>yr</td>\n",
       "      <td>0.357688</td>\n",
       "    </tr>\n",
       "  </tbody>\n",
       "</table>\n",
       "</div>"
      ],
      "text/plain": [
       "  Columns     Coeff\n",
       "0     cyl  0.000000\n",
       "1    disp -0.001067\n",
       "2      hp -0.017833\n",
       "3      wt -0.002110\n",
       "4     acc -0.414125\n",
       "5      yr  0.357688"
      ]
     },
     "execution_count": 134,
     "metadata": {},
     "output_type": "execute_result"
    }
   ],
   "source": [
    "pd.DataFrame({'Columns': X_train.columns, 'Coeff' : SUV_model.coef_})"
   ]
  },
  {
   "cell_type": "markdown",
   "metadata": {},
   "source": [
    "Printing accuracy of train and test. We expect poor performance since the dataset is small"
   ]
  },
  {
   "cell_type": "code",
   "execution_count": 135,
   "metadata": {
    "ExecuteTime": {
     "end_time": "2019-11-03T11:04:25.669490Z",
     "start_time": "2019-11-03T11:04:25.662502Z"
    }
   },
   "outputs": [
    {
     "data": {
      "text/plain": [
       "0.5936342669869497"
      ]
     },
     "execution_count": 135,
     "metadata": {},
     "output_type": "execute_result"
    }
   ],
   "source": [
    "SUV_model.score(X_train,y_train)"
   ]
  },
  {
   "cell_type": "code",
   "execution_count": 136,
   "metadata": {
    "ExecuteTime": {
     "end_time": "2019-11-03T11:04:27.046391Z",
     "start_time": "2019-11-03T11:04:27.039430Z"
    }
   },
   "outputs": [
    {
     "data": {
      "text/plain": [
       "0.361697021701365"
      ]
     },
     "execution_count": 136,
     "metadata": {},
     "output_type": "execute_result"
    }
   ],
   "source": [
    "SUV_model.score(X_test,y_test)"
   ]
  },
  {
   "cell_type": "markdown",
   "metadata": {},
   "source": [
    "Checking if clusters vary when using Hierarchical clustering"
   ]
  },
  {
   "cell_type": "code",
   "execution_count": 138,
   "metadata": {
    "ExecuteTime": {
     "end_time": "2019-11-03T11:05:07.144011Z",
     "start_time": "2019-11-03T11:05:07.140295Z"
    }
   },
   "outputs": [],
   "source": [
    "from scipy.cluster.hierarchy import cophenet, dendrogram, linkage\n",
    "from scipy.spatial.distance import pdist"
   ]
  },
  {
   "cell_type": "code",
   "execution_count": 141,
   "metadata": {
    "ExecuteTime": {
     "end_time": "2019-11-03T11:06:18.730303Z",
     "start_time": "2019-11-03T11:06:18.724319Z"
    }
   },
   "outputs": [],
   "source": [
    "X = df.drop('car name', axis=1)"
   ]
  },
  {
   "cell_type": "code",
   "execution_count": 142,
   "metadata": {
    "ExecuteTime": {
     "end_time": "2019-11-03T11:06:27.661311Z",
     "start_time": "2019-11-03T11:06:27.652321Z"
    }
   },
   "outputs": [],
   "source": [
    "X = X.apply(zscore)"
   ]
  },
  {
   "cell_type": "code",
   "execution_count": 143,
   "metadata": {
    "ExecuteTime": {
     "end_time": "2019-11-03T11:06:29.316455Z",
     "start_time": "2019-11-03T11:06:29.309415Z"
    }
   },
   "outputs": [],
   "source": [
    "Z = linkage(X, 'ward')"
   ]
  },
  {
   "cell_type": "code",
   "execution_count": 144,
   "metadata": {
    "ExecuteTime": {
     "end_time": "2019-11-03T11:06:30.067414Z",
     "start_time": "2019-11-03T11:06:30.059871Z"
    }
   },
   "outputs": [],
   "source": [
    "c, coph_dists = cophenet(Z , pdist(X))"
   ]
  },
  {
   "cell_type": "code",
   "execution_count": 145,
   "metadata": {
    "ExecuteTime": {
     "end_time": "2019-11-03T11:06:30.949214Z",
     "start_time": "2019-11-03T11:06:30.944201Z"
    }
   },
   "outputs": [
    {
     "data": {
      "text/plain": [
       "0.8552950735780984"
      ]
     },
     "execution_count": 145,
     "metadata": {},
     "output_type": "execute_result"
    }
   ],
   "source": [
    "c"
   ]
  },
  {
   "cell_type": "markdown",
   "metadata": {},
   "source": [
    "Limiting p =12"
   ]
  },
  {
   "cell_type": "code",
   "execution_count": 146,
   "metadata": {
    "ExecuteTime": {
     "end_time": "2019-11-03T11:06:34.557493Z",
     "start_time": "2019-11-03T11:06:34.291692Z"
    }
   },
   "outputs": [
    {
     "data": {
      "image/png": "[encoded data removed]",
      "text/plain": [
       "<Figure size 720x720 with 1 Axes>"
      ]
     },
     "metadata": {
      "needs_background": "light"
     },
     "output_type": "display_data"
    }
   ],
   "source": [
    "plt.figure(figsize=(10, 10))\n",
    "plt.title('Agglomerative Hierarchical Clustering Dendogram')\n",
    "plt.xlabel('sample index')\n",
    "plt.ylabel('Distance')\n",
    "dendrogram(Z,p=12, leaf_rotation=90,color_threshold = 30, leaf_font_size=8, truncate_mode='lastp' )\n",
    "plt.tight_layout()"
   ]
  },
  {
   "cell_type": "markdown",
   "metadata": {},
   "source": [
    "Taking max distance as 20 so that we get 3 clusters"
   ]
  },
  {
   "cell_type": "code",
   "execution_count": 147,
   "metadata": {
    "ExecuteTime": {
     "end_time": "2019-11-03T11:08:07.256756Z",
     "start_time": "2019-11-03T11:08:07.251299Z"
    }
   },
   "outputs": [],
   "source": [
    "from scipy.cluster.hierarchy import fcluster\n",
    "max_d=20\n",
    "clusters = fcluster(Z, max_d, criterion='distance')"
   ]
  },
  {
   "cell_type": "code",
   "execution_count": 148,
   "metadata": {
    "ExecuteTime": {
     "end_time": "2019-11-03T11:08:07.916643Z",
     "start_time": "2019-11-03T11:08:07.910660Z"
    }
   },
   "outputs": [
    {
     "data": {
      "text/plain": [
       "array([1, 1, 1, 1, 1, 1, 1, 1, 1, 1, 1, 1, 1, 1, 3, 2, 2, 2, 3, 3, 3, 3,\n",
       "       3, 3, 2, 1, 1, 1, 1, 3, 3, 3, 3, 2, 2, 2, 2, 2, 1, 1, 1, 1, 1, 1,\n",
       "       1, 2, 3, 2, 2, 3, 3, 3, 3, 3, 3, 3, 3, 3, 3, 3, 3, 3, 1, 1, 1, 1,\n",
       "       1, 1, 1, 1, 1, 3, 1, 1, 1, 1, 2, 3, 3, 3, 3, 3, 3, 3, 3, 1, 1, 1,\n",
       "       1, 1, 1, 1, 1, 1, 1, 1, 1, 2, 2, 2, 2, 2, 3, 1, 1, 1, 1, 2, 3, 3,\n",
       "       3, 3, 3, 2, 3, 1, 1, 3, 3, 3, 2, 1, 3, 2, 1, 2, 2, 2, 2, 3, 3, 3,\n",
       "       3, 2, 2, 2, 1, 1, 1, 1, 1, 3, 3, 3, 3, 3, 3, 3, 3, 3, 3, 3, 2, 2,\n",
       "       2, 2, 1, 1, 1, 1, 2, 2, 2, 2, 2, 2, 1, 3, 3, 2, 3, 3, 3, 3, 2, 3,\n",
       "       2, 3, 3, 3, 3, 3, 3, 3, 3, 3, 3, 1, 1, 1, 1, 2, 2, 2, 2, 3, 3, 3,\n",
       "       3, 2, 2, 2, 2, 3, 3, 3, 3, 2, 1, 2, 2, 2, 1, 1, 1, 1, 3, 3, 3, 3,\n",
       "       3, 1, 2, 1, 1, 2, 2, 2, 2, 1, 1, 1, 1, 3, 3, 3, 3, 3, 3, 3, 3, 2,\n",
       "       3, 3, 3, 3, 3, 3, 3, 2, 1, 1, 2, 2, 2, 3, 2, 2, 2, 2, 2, 2, 1, 2,\n",
       "       1, 1, 3, 3, 3, 3, 3, 3, 3, 3, 2, 2, 3, 2, 3, 3, 2, 2, 3, 2, 2, 2,\n",
       "       1, 1, 1, 1, 1, 2, 1, 3, 3, 3, 3, 2, 2, 3, 2, 3, 3, 3, 3, 3, 2, 2,\n",
       "       3, 3, 3, 3, 3, 3, 3, 3, 2, 3, 3, 3, 3, 3, 3, 3, 3, 3, 3, 3, 3, 3,\n",
       "       3, 3, 3, 2, 3, 3, 2, 3, 3, 3, 3, 2, 3, 3, 3, 3, 3, 3, 3, 3, 3, 3,\n",
       "       3, 3, 3, 3, 3, 3, 3, 3, 3, 2, 2, 2, 2, 2, 2, 3, 3, 3, 3, 3, 3, 3,\n",
       "       2, 3, 3, 3, 3, 3, 3, 3, 3, 3, 3, 3, 2, 3, 3, 2, 3, 3, 3, 3, 3, 3,\n",
       "       3, 3], dtype=int32)"
      ]
     },
     "execution_count": 148,
     "metadata": {},
     "output_type": "execute_result"
    }
   ],
   "source": [
    "clusters"
   ]
  },
  {
   "cell_type": "code",
   "execution_count": 149,
   "metadata": {
    "ExecuteTime": {
     "end_time": "2019-11-03T11:08:10.651182Z",
     "start_time": "2019-11-03T11:08:10.647154Z"
    }
   },
   "outputs": [],
   "source": [
    "df['labels'] = clusters"
   ]
  },
  {
   "cell_type": "code",
   "execution_count": 151,
   "metadata": {
    "ExecuteTime": {
     "end_time": "2019-11-03T11:08:47.883532Z",
     "start_time": "2019-11-03T11:08:47.876553Z"
    }
   },
   "outputs": [],
   "source": [
    "df0 = df[df['labels']==1]\n",
    "df1 = df[df['labels']==2]\n",
    "df2 = df[df['labels']==3]"
   ]
  },
  {
   "cell_type": "code",
   "execution_count": 152,
   "metadata": {
    "ExecuteTime": {
     "end_time": "2019-11-03T11:08:49.608402Z",
     "start_time": "2019-11-03T11:08:49.536053Z"
    }
   },
   "outputs": [
    {
     "data": {
      "text/html": [
       "<div>\n",
       "<style scoped>\n",
       "    .dataframe tbody tr th:only-of-type {\n",
       "        vertical-align: middle;\n",
       "    }\n",
       "\n",
       "    .dataframe tbody tr th {\n",
       "        vertical-align: top;\n",
       "    }\n",
       "\n",
       "    .dataframe thead th {\n",
       "        text-align: right;\n",
       "    }\n",
       "</style>\n",
       "<table border=\"1\" class=\"dataframe\">\n",
       "  <thead>\n",
       "    <tr style=\"text-align: right;\">\n",
       "      <th></th>\n",
       "      <th></th>\n",
       "      <th>count</th>\n",
       "      <th>mean</th>\n",
       "      <th>std</th>\n",
       "      <th>min</th>\n",
       "      <th>25%</th>\n",
       "      <th>50%</th>\n",
       "      <th>75%</th>\n",
       "      <th>max</th>\n",
       "    </tr>\n",
       "  </thead>\n",
       "  <tbody>\n",
       "    <tr>\n",
       "      <th rowspan=\"8\" valign=\"top\">Car-Type: 0</th>\n",
       "      <th>cyl</th>\n",
       "      <td>95.0</td>\n",
       "      <td>8.000000</td>\n",
       "      <td>0.000000</td>\n",
       "      <td>8.0</td>\n",
       "      <td>8.000</td>\n",
       "      <td>8.00</td>\n",
       "      <td>8.000</td>\n",
       "      <td>8.0</td>\n",
       "    </tr>\n",
       "    <tr>\n",
       "      <th>disp</th>\n",
       "      <td>95.0</td>\n",
       "      <td>349.705263</td>\n",
       "      <td>44.336449</td>\n",
       "      <td>302.0</td>\n",
       "      <td>312.500</td>\n",
       "      <td>350.00</td>\n",
       "      <td>383.000</td>\n",
       "      <td>455.0</td>\n",
       "    </tr>\n",
       "    <tr>\n",
       "      <th>hp</th>\n",
       "      <td>95.0</td>\n",
       "      <td>162.105263</td>\n",
       "      <td>26.028002</td>\n",
       "      <td>120.0</td>\n",
       "      <td>145.000</td>\n",
       "      <td>150.00</td>\n",
       "      <td>175.000</td>\n",
       "      <td>230.0</td>\n",
       "    </tr>\n",
       "    <tr>\n",
       "      <th>wt</th>\n",
       "      <td>95.0</td>\n",
       "      <td>4154.526316</td>\n",
       "      <td>437.810968</td>\n",
       "      <td>3086.0</td>\n",
       "      <td>3860.000</td>\n",
       "      <td>4190.00</td>\n",
       "      <td>4432.500</td>\n",
       "      <td>5140.0</td>\n",
       "    </tr>\n",
       "    <tr>\n",
       "      <th>acc</th>\n",
       "      <td>95.0</td>\n",
       "      <td>12.604211</td>\n",
       "      <td>1.780265</td>\n",
       "      <td>8.0</td>\n",
       "      <td>11.500</td>\n",
       "      <td>12.80</td>\n",
       "      <td>13.700</td>\n",
       "      <td>18.5</td>\n",
       "    </tr>\n",
       "    <tr>\n",
       "      <th>yr</th>\n",
       "      <td>95.0</td>\n",
       "      <td>73.526316</td>\n",
       "      <td>2.797575</td>\n",
       "      <td>70.0</td>\n",
       "      <td>71.000</td>\n",
       "      <td>73.00</td>\n",
       "      <td>76.000</td>\n",
       "      <td>79.0</td>\n",
       "    </tr>\n",
       "    <tr>\n",
       "      <th>mpg</th>\n",
       "      <td>95.0</td>\n",
       "      <td>14.469474</td>\n",
       "      <td>2.167265</td>\n",
       "      <td>9.0</td>\n",
       "      <td>13.000</td>\n",
       "      <td>14.00</td>\n",
       "      <td>16.000</td>\n",
       "      <td>20.2</td>\n",
       "    </tr>\n",
       "    <tr>\n",
       "      <th>labels</th>\n",
       "      <td>95.0</td>\n",
       "      <td>1.000000</td>\n",
       "      <td>0.000000</td>\n",
       "      <td>1.0</td>\n",
       "      <td>1.000</td>\n",
       "      <td>1.00</td>\n",
       "      <td>1.000</td>\n",
       "      <td>1.0</td>\n",
       "    </tr>\n",
       "    <tr>\n",
       "      <th rowspan=\"8\" valign=\"top\">Car-Type: 1</th>\n",
       "      <th>cyl</th>\n",
       "      <td>98.0</td>\n",
       "      <td>6.020408</td>\n",
       "      <td>0.772992</td>\n",
       "      <td>4.0</td>\n",
       "      <td>6.000</td>\n",
       "      <td>6.00</td>\n",
       "      <td>6.000</td>\n",
       "      <td>8.0</td>\n",
       "    </tr>\n",
       "    <tr>\n",
       "      <th>disp</th>\n",
       "      <td>98.0</td>\n",
       "      <td>217.632653</td>\n",
       "      <td>43.890771</td>\n",
       "      <td>120.0</td>\n",
       "      <td>198.000</td>\n",
       "      <td>228.00</td>\n",
       "      <td>250.000</td>\n",
       "      <td>350.0</td>\n",
       "    </tr>\n",
       "    <tr>\n",
       "      <th>hp</th>\n",
       "      <td>98.0</td>\n",
       "      <td>104.214286</td>\n",
       "      <td>16.210122</td>\n",
       "      <td>72.0</td>\n",
       "      <td>95.000</td>\n",
       "      <td>102.50</td>\n",
       "      <td>110.000</td>\n",
       "      <td>165.0</td>\n",
       "    </tr>\n",
       "    <tr>\n",
       "      <th>wt</th>\n",
       "      <td>98.0</td>\n",
       "      <td>3225.846939</td>\n",
       "      <td>348.307228</td>\n",
       "      <td>2472.0</td>\n",
       "      <td>2936.000</td>\n",
       "      <td>3227.00</td>\n",
       "      <td>3443.500</td>\n",
       "      <td>4060.0</td>\n",
       "    </tr>\n",
       "    <tr>\n",
       "      <th>acc</th>\n",
       "      <td>98.0</td>\n",
       "      <td>16.376531</td>\n",
       "      <td>2.179180</td>\n",
       "      <td>11.3</td>\n",
       "      <td>15.025</td>\n",
       "      <td>16.00</td>\n",
       "      <td>17.675</td>\n",
       "      <td>22.2</td>\n",
       "    </tr>\n",
       "    <tr>\n",
       "      <th>yr</th>\n",
       "      <td>98.0</td>\n",
       "      <td>76.102041</td>\n",
       "      <td>3.167131</td>\n",
       "      <td>70.0</td>\n",
       "      <td>74.000</td>\n",
       "      <td>76.00</td>\n",
       "      <td>78.000</td>\n",
       "      <td>82.0</td>\n",
       "    </tr>\n",
       "    <tr>\n",
       "      <th>mpg</th>\n",
       "      <td>98.0</td>\n",
       "      <td>19.846939</td>\n",
       "      <td>3.056182</td>\n",
       "      <td>15.0</td>\n",
       "      <td>18.000</td>\n",
       "      <td>19.15</td>\n",
       "      <td>21.000</td>\n",
       "      <td>32.7</td>\n",
       "    </tr>\n",
       "    <tr>\n",
       "      <th>labels</th>\n",
       "      <td>98.0</td>\n",
       "      <td>2.000000</td>\n",
       "      <td>0.000000</td>\n",
       "      <td>2.0</td>\n",
       "      <td>2.000</td>\n",
       "      <td>2.00</td>\n",
       "      <td>2.000</td>\n",
       "      <td>2.0</td>\n",
       "    </tr>\n",
       "    <tr>\n",
       "      <th rowspan=\"8\" valign=\"top\">Car-Type: 2</th>\n",
       "      <th>cyl</th>\n",
       "      <td>205.0</td>\n",
       "      <td>4.004878</td>\n",
       "      <td>0.252392</td>\n",
       "      <td>3.0</td>\n",
       "      <td>4.000</td>\n",
       "      <td>4.00</td>\n",
       "      <td>4.000</td>\n",
       "      <td>6.0</td>\n",
       "    </tr>\n",
       "    <tr>\n",
       "      <th>disp</th>\n",
       "      <td>205.0</td>\n",
       "      <td>109.431707</td>\n",
       "      <td>24.325413</td>\n",
       "      <td>68.0</td>\n",
       "      <td>91.000</td>\n",
       "      <td>105.00</td>\n",
       "      <td>121.000</td>\n",
       "      <td>262.0</td>\n",
       "    </tr>\n",
       "    <tr>\n",
       "      <th>hp</th>\n",
       "      <td>205.0</td>\n",
       "      <td>79.214634</td>\n",
       "      <td>16.601818</td>\n",
       "      <td>46.0</td>\n",
       "      <td>68.000</td>\n",
       "      <td>78.00</td>\n",
       "      <td>90.000</td>\n",
       "      <td>150.0</td>\n",
       "    </tr>\n",
       "    <tr>\n",
       "      <th>wt</th>\n",
       "      <td>205.0</td>\n",
       "      <td>2299.590244</td>\n",
       "      <td>336.305924</td>\n",
       "      <td>1613.0</td>\n",
       "      <td>2046.000</td>\n",
       "      <td>2230.00</td>\n",
       "      <td>2556.000</td>\n",
       "      <td>3250.0</td>\n",
       "    </tr>\n",
       "    <tr>\n",
       "      <th>acc</th>\n",
       "      <td>205.0</td>\n",
       "      <td>16.555122</td>\n",
       "      <td>2.386920</td>\n",
       "      <td>11.6</td>\n",
       "      <td>14.800</td>\n",
       "      <td>16.20</td>\n",
       "      <td>18.000</td>\n",
       "      <td>24.8</td>\n",
       "    </tr>\n",
       "    <tr>\n",
       "      <th>yr</th>\n",
       "      <td>205.0</td>\n",
       "      <td>77.117073</td>\n",
       "      <td>3.758122</td>\n",
       "      <td>70.0</td>\n",
       "      <td>74.000</td>\n",
       "      <td>78.00</td>\n",
       "      <td>80.000</td>\n",
       "      <td>82.0</td>\n",
       "    </tr>\n",
       "    <tr>\n",
       "      <th>mpg</th>\n",
       "      <td>205.0</td>\n",
       "      <td>29.459512</td>\n",
       "      <td>5.674726</td>\n",
       "      <td>18.0</td>\n",
       "      <td>25.000</td>\n",
       "      <td>29.00</td>\n",
       "      <td>33.000</td>\n",
       "      <td>46.6</td>\n",
       "    </tr>\n",
       "    <tr>\n",
       "      <th>labels</th>\n",
       "      <td>205.0</td>\n",
       "      <td>3.000000</td>\n",
       "      <td>0.000000</td>\n",
       "      <td>3.0</td>\n",
       "      <td>3.000</td>\n",
       "      <td>3.00</td>\n",
       "      <td>3.000</td>\n",
       "      <td>3.0</td>\n",
       "    </tr>\n",
       "  </tbody>\n",
       "</table>\n",
       "</div>"
      ],
      "text/plain": [
       "                    count         mean         std     min       25%      50%  \\\n",
       "Car-Type: 0 cyl      95.0     8.000000    0.000000     8.0     8.000     8.00   \n",
       "            disp     95.0   349.705263   44.336449   302.0   312.500   350.00   \n",
       "            hp       95.0   162.105263   26.028002   120.0   145.000   150.00   \n",
       "            wt       95.0  4154.526316  437.810968  3086.0  3860.000  4190.00   \n",
       "            acc      95.0    12.604211    1.780265     8.0    11.500    12.80   \n",
       "            yr       95.0    73.526316    2.797575    70.0    71.000    73.00   \n",
       "            mpg      95.0    14.469474    2.167265     9.0    13.000    14.00   \n",
       "            labels   95.0     1.000000    0.000000     1.0     1.000     1.00   \n",
       "Car-Type: 1 cyl      98.0     6.020408    0.772992     4.0     6.000     6.00   \n",
       "            disp     98.0   217.632653   43.890771   120.0   198.000   228.00   \n",
       "            hp       98.0   104.214286   16.210122    72.0    95.000   102.50   \n",
       "            wt       98.0  3225.846939  348.307228  2472.0  2936.000  3227.00   \n",
       "            acc      98.0    16.376531    2.179180    11.3    15.025    16.00   \n",
       "            yr       98.0    76.102041    3.167131    70.0    74.000    76.00   \n",
       "            mpg      98.0    19.846939    3.056182    15.0    18.000    19.15   \n",
       "            labels   98.0     2.000000    0.000000     2.0     2.000     2.00   \n",
       "Car-Type: 2 cyl     205.0     4.004878    0.252392     3.0     4.000     4.00   \n",
       "            disp    205.0   109.431707   24.325413    68.0    91.000   105.00   \n",
       "            hp      205.0    79.214634   16.601818    46.0    68.000    78.00   \n",
       "            wt      205.0  2299.590244  336.305924  1613.0  2046.000  2230.00   \n",
       "            acc     205.0    16.555122    2.386920    11.6    14.800    16.20   \n",
       "            yr      205.0    77.117073    3.758122    70.0    74.000    78.00   \n",
       "            mpg     205.0    29.459512    5.674726    18.0    25.000    29.00   \n",
       "            labels  205.0     3.000000    0.000000     3.0     3.000     3.00   \n",
       "\n",
       "                         75%     max  \n",
       "Car-Type: 0 cyl        8.000     8.0  \n",
       "            disp     383.000   455.0  \n",
       "            hp       175.000   230.0  \n",
       "            wt      4432.500  5140.0  \n",
       "            acc       13.700    18.5  \n",
       "            yr        76.000    79.0  \n",
       "            mpg       16.000    20.2  \n",
       "            labels     1.000     1.0  \n",
       "Car-Type: 1 cyl        6.000     8.0  \n",
       "            disp     250.000   350.0  \n",
       "            hp       110.000   165.0  \n",
       "            wt      3443.500  4060.0  \n",
       "            acc       17.675    22.2  \n",
       "            yr        78.000    82.0  \n",
       "            mpg       21.000    32.7  \n",
       "            labels     2.000     2.0  \n",
       "Car-Type: 2 cyl        4.000     6.0  \n",
       "            disp     121.000   262.0  \n",
       "            hp        90.000   150.0  \n",
       "            wt      2556.000  3250.0  \n",
       "            acc       18.000    24.8  \n",
       "            yr        80.000    82.0  \n",
       "            mpg       33.000    46.6  \n",
       "            labels     3.000     3.0  "
      ]
     },
     "execution_count": 152,
     "metadata": {},
     "output_type": "execute_result"
    }
   ],
   "source": [
    "pd.concat([df0.describe().T,df1.describe().T,df2.describe().T],axis=0, keys=['Car-Type: 0', 'Car-Type: 1', 'Car-Type: 2'])"
   ]
  },
  {
   "cell_type": "markdown",
   "metadata": {},
   "source": [
    "Using basic inference on the above data we can conclude that :<br>\n",
    "<ul>\n",
    "        <li>Car Type 0 contains the heaviest vehicles, probably SUVs with poor milage and acceleration but has the highest displacement and power</li>\n",
    "    <li>Car Type 1 contains sedan version of cars with a high displacement, power acceleration and milage while being heavy.</li>\n",
    "    <li>Car Type 2 contains the hatchback/lighter cars with a very good milage and acceleration but lower engine displacement and power.</li>\n",
    "    \n",
    "</ul>"
   ]
  },
  {
   "cell_type": "markdown",
   "metadata": {},
   "source": [
    "The number of samples returned in each cluster is similar to k means"
   ]
  },
  {
   "cell_type": "code",
   "execution_count": null,
   "metadata": {},
   "outputs": [],
   "source": []
  }
 ],
 "metadata": {
  "kernelspec": {
   "display_name": "Python 3",
   "language": "python",
   "name": "python3"
  },
  "language_info": {
   "codemirror_mode": {
    "name": "ipython",
    "version": 3
   },
   "file_extension": ".py",
   "mimetype": "text/x-python",
   "name": "python",
   "nbconvert_exporter": "python",
   "pygments_lexer": "ipython3",
   "version": "3.7.5"
  },
  "toc": {
   "base_numbering": 1,
   "nav_menu": {},
   "number_sections": true,
   "sideBar": true,
   "skip_h1_title": false,
   "title_cell": "Table of Contents",
   "title_sidebar": "Contents",
   "toc_cell": false,
   "toc_position": {},
   "toc_section_display": true,
   "toc_window_display": false
  },
  "varInspector": {
   "cols": {
    "lenName": 16,
    "lenType": 16,
    "lenVar": 40
   },
   "kernels_config": {
    "python": {
     "delete_cmd_postfix": "",
     "delete_cmd_prefix": "del ",
     "library": "var_list.py",
     "varRefreshCmd": "print(var_dic_list())"
    },
    "r": {
     "delete_cmd_postfix": ") ",
     "delete_cmd_prefix": "rm(",
     "library": "var_list.r",
     "varRefreshCmd": "cat(var_dic_list()) "
    }
   },
   "types_to_exclude": [
    "module",
    "function",
    "builtin_function_or_method",
    "instance",
    "_Feature"
   ],
   "window_display": false
  }
 },
 "nbformat": 4,
 "nbformat_minor": 2
}

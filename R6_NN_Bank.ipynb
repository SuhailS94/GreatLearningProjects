{
  "nbformat": 4,
  "nbformat_minor": 0,
  "metadata": {
    "colab": {
      "name": "Untitled1.ipynb",
      "provenance": [],
      "collapsed_sections": []
    },
    "kernelspec": {
      "name": "python3",
      "display_name": "Python 3"
    },
    "accelerator": "GPU"
  },
  "cells": [
    {
      "cell_type": "code",
      "metadata": {
        "id": "h3FiCAqF03Mv",
        "colab_type": "code",
        "colab": {}
      },
      "source": [
        "%tensorflow_version 2.x\n",
        "import tensorflow as tf\n",
        "\n",
        "import pandas as pd\n",
        "import numpy as np\n",
        "from fancyimpute import IterativeImputer\n",
        "import matplotlib.pyplot as plt\n",
        "import seaborn as sns\n",
        "%matplotlib inline \n",
        "from sklearn.model_selection import train_test_split\n",
        "from sklearn.preprocessing import StandardScaler, OneHotEncoder\n",
        "from imblearn.over_sampling import SMOTE\n",
        "from keras.models import Sequential\n",
        "from keras.layers import Dense\n",
        "from sklearn.metrics import accuracy_score, confusion_matrix, recall_score, precision_score, f1_score, auc, roc_curve\n",
        "from sklearn.metrics import classification_report\n",
        "from keras.wrappers.scikit_learn import KerasClassifier\n",
        "from sklearn.model_selection import GridSearchCV"
      ],
      "execution_count": 0,
      "outputs": []
    },
    {
      "cell_type": "code",
      "metadata": {
        "id": "hQnX7IUv1KnG",
        "colab_type": "code",
        "outputId": "e610dfc8-4d17-42af-bdd7-f394ac5c11df",
        "colab": {
          "base_uri": "https://localhost:8080/",
          "height": 35
        }
      },
      "source": [
        "from google.colab import drive\n",
        "drive.mount(('/content/drive'))"
      ],
      "execution_count": 47,
      "outputs": [
        {
          "output_type": "stream",
          "text": [
            "Drive already mounted at /content/drive; to attempt to forcibly remount, call drive.mount(\"/content/drive\", force_remount=True).\n"
          ],
          "name": "stdout"
        }
      ]
    },
    {
      "cell_type": "code",
      "metadata": {
        "id": "3XhxEJV81Sum",
        "colab_type": "code",
        "colab": {}
      },
      "source": [
        "df = pd.read_csv('/content/drive/My Drive/Colab Notebooks/bank.csv')"
      ],
      "execution_count": 0,
      "outputs": []
    },
    {
      "cell_type": "code",
      "metadata": {
        "id": "MWBpae4l1e4T",
        "colab_type": "code",
        "outputId": "e10ab045-086f-4577-8da6-73f3b7f361b7",
        "colab": {
          "base_uri": "https://localhost:8080/",
          "height": 206
        }
      },
      "source": [
        "df.head()"
      ],
      "execution_count": 49,
      "outputs": [
        {
          "output_type": "execute_result",
          "data": {
            "text/html": [
              "<div>\n",
              "<style scoped>\n",
              "    .dataframe tbody tr th:only-of-type {\n",
              "        vertical-align: middle;\n",
              "    }\n",
              "\n",
              "    .dataframe tbody tr th {\n",
              "        vertical-align: top;\n",
              "    }\n",
              "\n",
              "    .dataframe thead th {\n",
              "        text-align: right;\n",
              "    }\n",
              "</style>\n",
              "<table border=\"1\" class=\"dataframe\">\n",
              "  <thead>\n",
              "    <tr style=\"text-align: right;\">\n",
              "      <th></th>\n",
              "      <th>RowNumber</th>\n",
              "      <th>CustomerId</th>\n",
              "      <th>Surname</th>\n",
              "      <th>CreditScore</th>\n",
              "      <th>Geography</th>\n",
              "      <th>Gender</th>\n",
              "      <th>Age</th>\n",
              "      <th>Tenure</th>\n",
              "      <th>Balance</th>\n",
              "      <th>NumOfProducts</th>\n",
              "      <th>HasCrCard</th>\n",
              "      <th>IsActiveMember</th>\n",
              "      <th>EstimatedSalary</th>\n",
              "      <th>Exited</th>\n",
              "    </tr>\n",
              "  </thead>\n",
              "  <tbody>\n",
              "    <tr>\n",
              "      <th>0</th>\n",
              "      <td>1</td>\n",
              "      <td>15634602</td>\n",
              "      <td>Hargrave</td>\n",
              "      <td>619</td>\n",
              "      <td>France</td>\n",
              "      <td>Female</td>\n",
              "      <td>42</td>\n",
              "      <td>2</td>\n",
              "      <td>0.00</td>\n",
              "      <td>1</td>\n",
              "      <td>1</td>\n",
              "      <td>1</td>\n",
              "      <td>101348.88</td>\n",
              "      <td>1</td>\n",
              "    </tr>\n",
              "    <tr>\n",
              "      <th>1</th>\n",
              "      <td>2</td>\n",
              "      <td>15647311</td>\n",
              "      <td>Hill</td>\n",
              "      <td>608</td>\n",
              "      <td>Spain</td>\n",
              "      <td>Female</td>\n",
              "      <td>41</td>\n",
              "      <td>1</td>\n",
              "      <td>83807.86</td>\n",
              "      <td>1</td>\n",
              "      <td>0</td>\n",
              "      <td>1</td>\n",
              "      <td>112542.58</td>\n",
              "      <td>0</td>\n",
              "    </tr>\n",
              "    <tr>\n",
              "      <th>2</th>\n",
              "      <td>3</td>\n",
              "      <td>15619304</td>\n",
              "      <td>Onio</td>\n",
              "      <td>502</td>\n",
              "      <td>France</td>\n",
              "      <td>Female</td>\n",
              "      <td>42</td>\n",
              "      <td>8</td>\n",
              "      <td>159660.80</td>\n",
              "      <td>3</td>\n",
              "      <td>1</td>\n",
              "      <td>0</td>\n",
              "      <td>113931.57</td>\n",
              "      <td>1</td>\n",
              "    </tr>\n",
              "    <tr>\n",
              "      <th>3</th>\n",
              "      <td>4</td>\n",
              "      <td>15701354</td>\n",
              "      <td>Boni</td>\n",
              "      <td>699</td>\n",
              "      <td>France</td>\n",
              "      <td>Female</td>\n",
              "      <td>39</td>\n",
              "      <td>1</td>\n",
              "      <td>0.00</td>\n",
              "      <td>2</td>\n",
              "      <td>0</td>\n",
              "      <td>0</td>\n",
              "      <td>93826.63</td>\n",
              "      <td>0</td>\n",
              "    </tr>\n",
              "    <tr>\n",
              "      <th>4</th>\n",
              "      <td>5</td>\n",
              "      <td>15737888</td>\n",
              "      <td>Mitchell</td>\n",
              "      <td>850</td>\n",
              "      <td>Spain</td>\n",
              "      <td>Female</td>\n",
              "      <td>43</td>\n",
              "      <td>2</td>\n",
              "      <td>125510.82</td>\n",
              "      <td>1</td>\n",
              "      <td>1</td>\n",
              "      <td>1</td>\n",
              "      <td>79084.10</td>\n",
              "      <td>0</td>\n",
              "    </tr>\n",
              "  </tbody>\n",
              "</table>\n",
              "</div>"
            ],
            "text/plain": [
              "   RowNumber  CustomerId   Surname  ...  IsActiveMember EstimatedSalary Exited\n",
              "0          1    15634602  Hargrave  ...               1       101348.88      1\n",
              "1          2    15647311      Hill  ...               1       112542.58      0\n",
              "2          3    15619304      Onio  ...               0       113931.57      1\n",
              "3          4    15701354      Boni  ...               0        93826.63      0\n",
              "4          5    15737888  Mitchell  ...               1        79084.10      0\n",
              "\n",
              "[5 rows x 14 columns]"
            ]
          },
          "metadata": {
            "tags": []
          },
          "execution_count": 49
        }
      ]
    },
    {
      "cell_type": "code",
      "metadata": {
        "id": "5XS2YRff1gTx",
        "colab_type": "code",
        "outputId": "bf172941-5d0b-4b77-b779-27d3c0a0d658",
        "colab": {
          "base_uri": "https://localhost:8080/",
          "height": 35
        }
      },
      "source": [
        "df.shape"
      ],
      "execution_count": 50,
      "outputs": [
        {
          "output_type": "execute_result",
          "data": {
            "text/plain": [
              "(10000, 14)"
            ]
          },
          "metadata": {
            "tags": []
          },
          "execution_count": 50
        }
      ]
    },
    {
      "cell_type": "code",
      "metadata": {
        "id": "tK1Hojt31uR9",
        "colab_type": "code",
        "outputId": "0ca5ce2d-74a9-4b40-da63-c94dbecff3a1",
        "colab": {
          "base_uri": "https://localhost:8080/",
          "height": 362
        }
      },
      "source": [
        "df.info()"
      ],
      "execution_count": 51,
      "outputs": [
        {
          "output_type": "stream",
          "text": [
            "<class 'pandas.core.frame.DataFrame'>\n",
            "RangeIndex: 10000 entries, 0 to 9999\n",
            "Data columns (total 14 columns):\n",
            "RowNumber          10000 non-null int64\n",
            "CustomerId         10000 non-null int64\n",
            "Surname            10000 non-null object\n",
            "CreditScore        10000 non-null int64\n",
            "Geography          10000 non-null object\n",
            "Gender             10000 non-null object\n",
            "Age                10000 non-null int64\n",
            "Tenure             10000 non-null int64\n",
            "Balance            10000 non-null float64\n",
            "NumOfProducts      10000 non-null int64\n",
            "HasCrCard          10000 non-null int64\n",
            "IsActiveMember     10000 non-null int64\n",
            "EstimatedSalary    10000 non-null float64\n",
            "Exited             10000 non-null int64\n",
            "dtypes: float64(2), int64(9), object(3)\n",
            "memory usage: 1.1+ MB\n"
          ],
          "name": "stdout"
        }
      ]
    },
    {
      "cell_type": "code",
      "metadata": {
        "id": "aOX-SAx41wil",
        "colab_type": "code",
        "colab": {}
      },
      "source": [
        "df = df.set_index('RowNumber')"
      ],
      "execution_count": 0,
      "outputs": []
    },
    {
      "cell_type": "code",
      "metadata": {
        "id": "IQaF9JKEG_qg",
        "colab_type": "code",
        "colab": {
          "base_uri": "https://localhost:8080/",
          "height": 235
        },
        "outputId": "766cd302-5991-4918-9f33-ae18db953083"
      },
      "source": [
        "df['Surname'].value_counts()"
      ],
      "execution_count": 53,
      "outputs": [
        {
          "output_type": "execute_result",
          "data": {
            "text/plain": [
              "Smith         32\n",
              "Scott         29\n",
              "Martin        29\n",
              "Walker        28\n",
              "Brown         26\n",
              "              ..\n",
              "Fielding       1\n",
              "Yirawala       1\n",
              "Titheradge     1\n",
              "Bogdanova      1\n",
              "Candler        1\n",
              "Name: Surname, Length: 2932, dtype: int64"
            ]
          },
          "metadata": {
            "tags": []
          },
          "execution_count": 53
        }
      ]
    },
    {
      "cell_type": "markdown",
      "metadata": {
        "id": "71k7Or1FEC41",
        "colab_type": "text"
      },
      "source": [
        "Dropping surname and customer ID"
      ]
    },
    {
      "cell_type": "code",
      "metadata": {
        "id": "utxXGWYW2HXi",
        "colab_type": "code",
        "colab": {}
      },
      "source": [
        "df.drop(['CustomerId', 'Surname'],axis=1, inplace = True)"
      ],
      "execution_count": 0,
      "outputs": []
    },
    {
      "cell_type": "code",
      "metadata": {
        "id": "bL61yNcw_-T4",
        "colab_type": "code",
        "outputId": "9ce21c80-8902-4f92-85e0-1c4c6b888322",
        "colab": {
          "base_uri": "https://localhost:8080/",
          "height": 235
        }
      },
      "source": [
        "df.isnull().sum()"
      ],
      "execution_count": 55,
      "outputs": [
        {
          "output_type": "execute_result",
          "data": {
            "text/plain": [
              "CreditScore        0\n",
              "Geography          0\n",
              "Gender             0\n",
              "Age                0\n",
              "Tenure             0\n",
              "Balance            0\n",
              "NumOfProducts      0\n",
              "HasCrCard          0\n",
              "IsActiveMember     0\n",
              "EstimatedSalary    0\n",
              "Exited             0\n",
              "dtype: int64"
            ]
          },
          "metadata": {
            "tags": []
          },
          "execution_count": 55
        }
      ]
    },
    {
      "cell_type": "markdown",
      "metadata": {
        "id": "fHODhtBJEKbg",
        "colab_type": "text"
      },
      "source": [
        "There are no null values"
      ]
    },
    {
      "cell_type": "code",
      "metadata": {
        "id": "4oj9_h7qHIdT",
        "colab_type": "code",
        "colab": {
          "base_uri": "https://localhost:8080/",
          "height": 331
        },
        "outputId": "cdaa8497-07ab-480c-93f3-cee7976a301e"
      },
      "source": [
        "df.describe().T"
      ],
      "execution_count": 56,
      "outputs": [
        {
          "output_type": "execute_result",
          "data": {
            "text/html": [
              "<div>\n",
              "<style scoped>\n",
              "    .dataframe tbody tr th:only-of-type {\n",
              "        vertical-align: middle;\n",
              "    }\n",
              "\n",
              "    .dataframe tbody tr th {\n",
              "        vertical-align: top;\n",
              "    }\n",
              "\n",
              "    .dataframe thead th {\n",
              "        text-align: right;\n",
              "    }\n",
              "</style>\n",
              "<table border=\"1\" class=\"dataframe\">\n",
              "  <thead>\n",
              "    <tr style=\"text-align: right;\">\n",
              "      <th></th>\n",
              "      <th>count</th>\n",
              "      <th>mean</th>\n",
              "      <th>std</th>\n",
              "      <th>min</th>\n",
              "      <th>25%</th>\n",
              "      <th>50%</th>\n",
              "      <th>75%</th>\n",
              "      <th>max</th>\n",
              "    </tr>\n",
              "  </thead>\n",
              "  <tbody>\n",
              "    <tr>\n",
              "      <th>CreditScore</th>\n",
              "      <td>10000.0</td>\n",
              "      <td>650.528800</td>\n",
              "      <td>96.653299</td>\n",
              "      <td>350.00</td>\n",
              "      <td>584.00</td>\n",
              "      <td>652.000</td>\n",
              "      <td>718.0000</td>\n",
              "      <td>850.00</td>\n",
              "    </tr>\n",
              "    <tr>\n",
              "      <th>Age</th>\n",
              "      <td>10000.0</td>\n",
              "      <td>38.921800</td>\n",
              "      <td>10.487806</td>\n",
              "      <td>18.00</td>\n",
              "      <td>32.00</td>\n",
              "      <td>37.000</td>\n",
              "      <td>44.0000</td>\n",
              "      <td>92.00</td>\n",
              "    </tr>\n",
              "    <tr>\n",
              "      <th>Tenure</th>\n",
              "      <td>10000.0</td>\n",
              "      <td>5.012800</td>\n",
              "      <td>2.892174</td>\n",
              "      <td>0.00</td>\n",
              "      <td>3.00</td>\n",
              "      <td>5.000</td>\n",
              "      <td>7.0000</td>\n",
              "      <td>10.00</td>\n",
              "    </tr>\n",
              "    <tr>\n",
              "      <th>Balance</th>\n",
              "      <td>10000.0</td>\n",
              "      <td>76485.889288</td>\n",
              "      <td>62397.405202</td>\n",
              "      <td>0.00</td>\n",
              "      <td>0.00</td>\n",
              "      <td>97198.540</td>\n",
              "      <td>127644.2400</td>\n",
              "      <td>250898.09</td>\n",
              "    </tr>\n",
              "    <tr>\n",
              "      <th>NumOfProducts</th>\n",
              "      <td>10000.0</td>\n",
              "      <td>1.530200</td>\n",
              "      <td>0.581654</td>\n",
              "      <td>1.00</td>\n",
              "      <td>1.00</td>\n",
              "      <td>1.000</td>\n",
              "      <td>2.0000</td>\n",
              "      <td>4.00</td>\n",
              "    </tr>\n",
              "    <tr>\n",
              "      <th>HasCrCard</th>\n",
              "      <td>10000.0</td>\n",
              "      <td>0.705500</td>\n",
              "      <td>0.455840</td>\n",
              "      <td>0.00</td>\n",
              "      <td>0.00</td>\n",
              "      <td>1.000</td>\n",
              "      <td>1.0000</td>\n",
              "      <td>1.00</td>\n",
              "    </tr>\n",
              "    <tr>\n",
              "      <th>IsActiveMember</th>\n",
              "      <td>10000.0</td>\n",
              "      <td>0.515100</td>\n",
              "      <td>0.499797</td>\n",
              "      <td>0.00</td>\n",
              "      <td>0.00</td>\n",
              "      <td>1.000</td>\n",
              "      <td>1.0000</td>\n",
              "      <td>1.00</td>\n",
              "    </tr>\n",
              "    <tr>\n",
              "      <th>EstimatedSalary</th>\n",
              "      <td>10000.0</td>\n",
              "      <td>100090.239881</td>\n",
              "      <td>57510.492818</td>\n",
              "      <td>11.58</td>\n",
              "      <td>51002.11</td>\n",
              "      <td>100193.915</td>\n",
              "      <td>149388.2475</td>\n",
              "      <td>199992.48</td>\n",
              "    </tr>\n",
              "    <tr>\n",
              "      <th>Exited</th>\n",
              "      <td>10000.0</td>\n",
              "      <td>0.203700</td>\n",
              "      <td>0.402769</td>\n",
              "      <td>0.00</td>\n",
              "      <td>0.00</td>\n",
              "      <td>0.000</td>\n",
              "      <td>0.0000</td>\n",
              "      <td>1.00</td>\n",
              "    </tr>\n",
              "  </tbody>\n",
              "</table>\n",
              "</div>"
            ],
            "text/plain": [
              "                   count           mean  ...          75%        max\n",
              "CreditScore      10000.0     650.528800  ...     718.0000     850.00\n",
              "Age              10000.0      38.921800  ...      44.0000      92.00\n",
              "Tenure           10000.0       5.012800  ...       7.0000      10.00\n",
              "Balance          10000.0   76485.889288  ...  127644.2400  250898.09\n",
              "NumOfProducts    10000.0       1.530200  ...       2.0000       4.00\n",
              "HasCrCard        10000.0       0.705500  ...       1.0000       1.00\n",
              "IsActiveMember   10000.0       0.515100  ...       1.0000       1.00\n",
              "EstimatedSalary  10000.0  100090.239881  ...  149388.2475  199992.48\n",
              "Exited           10000.0       0.203700  ...       0.0000       1.00\n",
              "\n",
              "[9 rows x 8 columns]"
            ]
          },
          "metadata": {
            "tags": []
          },
          "execution_count": 56
        }
      ]
    },
    {
      "cell_type": "code",
      "metadata": {
        "id": "GyK8hVF05dpE",
        "colab_type": "code",
        "colab": {
          "base_uri": "https://localhost:8080/",
          "height": 72
        },
        "outputId": "c9f29fb0-9ef9-410e-ef04-04166fdf3bda"
      },
      "source": [
        "df['Exited'].value_counts()"
      ],
      "execution_count": 57,
      "outputs": [
        {
          "output_type": "execute_result",
          "data": {
            "text/plain": [
              "0    7963\n",
              "1    2037\n",
              "Name: Exited, dtype: int64"
            ]
          },
          "metadata": {
            "tags": []
          },
          "execution_count": 57
        }
      ]
    },
    {
      "cell_type": "markdown",
      "metadata": {
        "id": "MvuVWJol5nBv",
        "colab_type": "text"
      },
      "source": [
        "The number of rows for an exited customer is extremely low compared to that of an non-exited customer. We will be using upsampling on the training data "
      ]
    },
    {
      "cell_type": "code",
      "metadata": {
        "id": "mkgvJTQWGaI4",
        "colab_type": "code",
        "colab": {
          "base_uri": "https://localhost:8080/",
          "height": 72
        },
        "outputId": "b7a2cc8f-25b5-470c-b8a7-acf220da38d9"
      },
      "source": [
        "df['Gender'].value_counts()"
      ],
      "execution_count": 58,
      "outputs": [
        {
          "output_type": "execute_result",
          "data": {
            "text/plain": [
              "Male      5457\n",
              "Female    4543\n",
              "Name: Gender, dtype: int64"
            ]
          },
          "metadata": {
            "tags": []
          },
          "execution_count": 58
        }
      ]
    },
    {
      "cell_type": "code",
      "metadata": {
        "id": "R3HOBc4SGdz_",
        "colab_type": "code",
        "colab": {
          "base_uri": "https://localhost:8080/",
          "height": 90
        },
        "outputId": "d50bd22f-e19a-4dfb-b8b5-7aaa2ece24db"
      },
      "source": [
        "df['Geography'].value_counts()"
      ],
      "execution_count": 59,
      "outputs": [
        {
          "output_type": "execute_result",
          "data": {
            "text/plain": [
              "France     5014\n",
              "Germany    2509\n",
              "Spain      2477\n",
              "Name: Geography, dtype: int64"
            ]
          },
          "metadata": {
            "tags": []
          },
          "execution_count": 59
        }
      ]
    },
    {
      "cell_type": "markdown",
      "metadata": {
        "id": "QxckuWSTGjbv",
        "colab_type": "text"
      },
      "source": [
        "We will be converting the two object columns using pd.get_dummies"
      ]
    },
    {
      "cell_type": "code",
      "metadata": {
        "id": "hrEwu_vLEPD8",
        "colab_type": "code",
        "colab": {}
      },
      "source": [
        "df = pd.get_dummies(df)"
      ],
      "execution_count": 0,
      "outputs": []
    },
    {
      "cell_type": "code",
      "metadata": {
        "id": "n9ZUKTPH2JQP",
        "colab_type": "code",
        "colab": {}
      },
      "source": [
        "X = df.drop('Exited', axis=1)\n",
        "y = df['Exited']"
      ],
      "execution_count": 0,
      "outputs": []
    },
    {
      "cell_type": "code",
      "metadata": {
        "id": "Ha5X2lxp-wA0",
        "colab_type": "code",
        "colab": {}
      },
      "source": [
        "X_train, X_test, y_train, y_test = train_test_split(X,y, test_size = 0.25, random_state = 42)"
      ],
      "execution_count": 0,
      "outputs": []
    },
    {
      "cell_type": "code",
      "metadata": {
        "id": "Br8I3-zr_kkd",
        "colab_type": "code",
        "colab": {
          "base_uri": "https://localhost:8080/",
          "height": 235
        },
        "outputId": "233f98a7-16f1-4478-da66-0471e8f90555"
      },
      "source": [
        "sc = StandardScaler()\n",
        "#temp = X_train[['Surname', 'Geography', 'Gender']]\n",
        "#X_train = X_train.drop(['Surname', 'Geography', 'Gender'], axis=1)\n",
        "X_train[['CreditScore', 'Age', 'Tenure', 'Balance', 'NumOfProducts', 'HasCrCard', 'IsActiveMember', 'EstimatedSalary']] = sc.fit_transform(X_train[['CreditScore', 'Age', 'Tenure', 'Balance', 'NumOfProducts', 'HasCrCard', 'IsActiveMember', 'EstimatedSalary']])"
      ],
      "execution_count": 63,
      "outputs": [
        {
          "output_type": "stream",
          "text": [
            "/usr/local/lib/python3.6/dist-packages/ipykernel_launcher.py:4: SettingWithCopyWarning: \n",
            "A value is trying to be set on a copy of a slice from a DataFrame.\n",
            "Try using .loc[row_indexer,col_indexer] = value instead\n",
            "\n",
            "See the caveats in the documentation: http://pandas.pydata.org/pandas-docs/stable/user_guide/indexing.html#returning-a-view-versus-a-copy\n",
            "  after removing the cwd from sys.path.\n",
            "/usr/local/lib/python3.6/dist-packages/pandas/core/indexing.py:494: SettingWithCopyWarning: \n",
            "A value is trying to be set on a copy of a slice from a DataFrame.\n",
            "Try using .loc[row_indexer,col_indexer] = value instead\n",
            "\n",
            "See the caveats in the documentation: http://pandas.pydata.org/pandas-docs/stable/user_guide/indexing.html#returning-a-view-versus-a-copy\n",
            "  self.obj[item] = s\n"
          ],
          "name": "stderr"
        }
      ]
    },
    {
      "cell_type": "code",
      "metadata": {
        "id": "5QQZ1u6K_5tl",
        "colab_type": "code",
        "colab": {
          "base_uri": "https://localhost:8080/",
          "height": 235
        },
        "outputId": "86d8e2c9-44b9-49be-f895-f3d53d8b7093"
      },
      "source": [
        "X_test[['CreditScore', 'Age', 'Tenure', 'Balance', 'NumOfProducts', 'HasCrCard', 'IsActiveMember', 'EstimatedSalary']] = sc.fit_transform(X_test[['CreditScore', 'Age', 'Tenure', 'Balance', 'NumOfProducts', 'HasCrCard', 'IsActiveMember', 'EstimatedSalary']])"
      ],
      "execution_count": 64,
      "outputs": [
        {
          "output_type": "stream",
          "text": [
            "/usr/local/lib/python3.6/dist-packages/ipykernel_launcher.py:1: SettingWithCopyWarning: \n",
            "A value is trying to be set on a copy of a slice from a DataFrame.\n",
            "Try using .loc[row_indexer,col_indexer] = value instead\n",
            "\n",
            "See the caveats in the documentation: http://pandas.pydata.org/pandas-docs/stable/user_guide/indexing.html#returning-a-view-versus-a-copy\n",
            "  \"\"\"Entry point for launching an IPython kernel.\n",
            "/usr/local/lib/python3.6/dist-packages/pandas/core/indexing.py:494: SettingWithCopyWarning: \n",
            "A value is trying to be set on a copy of a slice from a DataFrame.\n",
            "Try using .loc[row_indexer,col_indexer] = value instead\n",
            "\n",
            "See the caveats in the documentation: http://pandas.pydata.org/pandas-docs/stable/user_guide/indexing.html#returning-a-view-versus-a-copy\n",
            "  self.obj[item] = s\n"
          ],
          "name": "stderr"
        }
      ]
    },
    {
      "cell_type": "code",
      "metadata": {
        "id": "ErUsIX3O3Y4-",
        "colab_type": "code",
        "colab": {
          "base_uri": "https://localhost:8080/",
          "height": 72
        },
        "outputId": "b124b527-459a-4671-adab-1c4e826f8901"
      },
      "source": [
        "y_train.value_counts()"
      ],
      "execution_count": 65,
      "outputs": [
        {
          "output_type": "execute_result",
          "data": {
            "text/plain": [
              "0    5960\n",
              "1    1540\n",
              "Name: Exited, dtype: int64"
            ]
          },
          "metadata": {
            "tags": []
          },
          "execution_count": 65
        }
      ]
    },
    {
      "cell_type": "markdown",
      "metadata": {
        "id": "W3c3vZUFH9GZ",
        "colab_type": "text"
      },
      "source": [
        "Using smote to upsample"
      ]
    },
    {
      "cell_type": "code",
      "metadata": {
        "id": "chg23kN-Hn0-",
        "colab_type": "code",
        "colab": {}
      },
      "source": [
        "sm = SMOTE(random_state=42, ratio=1.0)\n",
        "X_train, y_train = sm.fit_sample(X_train, y_train)"
      ],
      "execution_count": 0,
      "outputs": []
    },
    {
      "cell_type": "code",
      "metadata": {
        "id": "02qge_LeIPhB",
        "colab_type": "code",
        "colab": {
          "base_uri": "https://localhost:8080/",
          "height": 72
        },
        "outputId": "c2d040e6-f001-491d-b493-9f62e57e8ea2"
      },
      "source": [
        "pd.value_counts(y_train)"
      ],
      "execution_count": 67,
      "outputs": [
        {
          "output_type": "execute_result",
          "data": {
            "text/plain": [
              "1    5960\n",
              "0    5960\n",
              "dtype: int64"
            ]
          },
          "metadata": {
            "tags": []
          },
          "execution_count": 67
        }
      ]
    },
    {
      "cell_type": "markdown",
      "metadata": {
        "id": "32JD049-I9cc",
        "colab_type": "text"
      },
      "source": [
        "Now both classes are equally represented"
      ]
    },
    {
      "cell_type": "markdown",
      "metadata": {
        "id": "_R_L2KdyJLMD",
        "colab_type": "text"
      },
      "source": [
        "Building the model"
      ]
    },
    {
      "cell_type": "code",
      "metadata": {
        "id": "qkhgKD7-I8bp",
        "colab_type": "code",
        "colab": {}
      },
      "source": [
        "model = tf.keras.models.Sequential()"
      ],
      "execution_count": 0,
      "outputs": []
    },
    {
      "cell_type": "code",
      "metadata": {
        "id": "-u8bmuByI40G",
        "colab_type": "code",
        "colab": {}
      },
      "source": [
        "n_cols = X_train.shape[1]"
      ],
      "execution_count": 0,
      "outputs": []
    },
    {
      "cell_type": "code",
      "metadata": {
        "id": "-C0AXyPDLX-I",
        "colab_type": "code",
        "colab": {}
      },
      "source": [
        "model.add(tf.keras.layers.Dense(10, activation='relu', input_shape=(n_cols,)))\n",
        "model.add(tf.keras.layers.Dense(10, activation='relu'))\n",
        "model.add(tf.keras.layers.Dense(1, activation='sigmoid'))"
      ],
      "execution_count": 0,
      "outputs": []
    },
    {
      "cell_type": "code",
      "metadata": {
        "id": "x5EypgXCNDVd",
        "colab_type": "code",
        "colab": {}
      },
      "source": [
        "model.compile(optimizer ='adam',loss='binary_crossentropy', metrics =['accuracy'])"
      ],
      "execution_count": 0,
      "outputs": []
    },
    {
      "cell_type": "code",
      "metadata": {
        "id": "dLaoG_kmNZy7",
        "colab_type": "code",
        "colab": {
          "base_uri": "https://localhost:8080/",
          "height": 1000
        },
        "outputId": "3c9aa749-933f-4c06-a588-42664869f979"
      },
      "source": [
        "model.fit(X_train,y_train, batch_size=10, epochs=100)"
      ],
      "execution_count": 72,
      "outputs": [
        {
          "output_type": "stream",
          "text": [
            "Train on 11920 samples\n",
            "Epoch 1/100\n",
            "11920/11920 [==============================] - 3s 231us/sample - loss: 0.5564 - accuracy: 0.7190\n",
            "Epoch 2/100\n",
            "11920/11920 [==============================] - 3s 210us/sample - loss: 0.4704 - accuracy: 0.7754\n",
            "Epoch 3/100\n",
            "11920/11920 [==============================] - 2s 208us/sample - loss: 0.4597 - accuracy: 0.7822\n",
            "Epoch 4/100\n",
            "11920/11920 [==============================] - 2s 207us/sample - loss: 0.4548 - accuracy: 0.7856\n",
            "Epoch 5/100\n",
            "11920/11920 [==============================] - 2s 208us/sample - loss: 0.4511 - accuracy: 0.7855\n",
            "Epoch 6/100\n",
            "11920/11920 [==============================] - 3s 216us/sample - loss: 0.4482 - accuracy: 0.7881\n",
            "Epoch 7/100\n",
            "11920/11920 [==============================] - 3s 211us/sample - loss: 0.4454 - accuracy: 0.7898\n",
            "Epoch 8/100\n",
            "11920/11920 [==============================] - 3s 214us/sample - loss: 0.4435 - accuracy: 0.7922\n",
            "Epoch 9/100\n",
            "11920/11920 [==============================] - 2s 210us/sample - loss: 0.4417 - accuracy: 0.7901\n",
            "Epoch 10/100\n",
            "11920/11920 [==============================] - 3s 212us/sample - loss: 0.4401 - accuracy: 0.7947\n",
            "Epoch 11/100\n",
            "11920/11920 [==============================] - 3s 211us/sample - loss: 0.4386 - accuracy: 0.7924\n",
            "Epoch 12/100\n",
            "11920/11920 [==============================] - 2s 210us/sample - loss: 0.4366 - accuracy: 0.7963\n",
            "Epoch 13/100\n",
            "11920/11920 [==============================] - 2s 210us/sample - loss: 0.4363 - accuracy: 0.7965\n",
            "Epoch 14/100\n",
            "11920/11920 [==============================] - 2s 208us/sample - loss: 0.4359 - accuracy: 0.7968\n",
            "Epoch 15/100\n",
            "11920/11920 [==============================] - 3s 213us/sample - loss: 0.4342 - accuracy: 0.7961\n",
            "Epoch 16/100\n",
            "11920/11920 [==============================] - 2s 206us/sample - loss: 0.4334 - accuracy: 0.7957\n",
            "Epoch 17/100\n",
            "11920/11920 [==============================] - 3s 210us/sample - loss: 0.4325 - accuracy: 0.7971\n",
            "Epoch 18/100\n",
            "11920/11920 [==============================] - 3s 211us/sample - loss: 0.4315 - accuracy: 0.7976\n",
            "Epoch 19/100\n",
            "11920/11920 [==============================] - 2s 207us/sample - loss: 0.4316 - accuracy: 0.7956\n",
            "Epoch 20/100\n",
            "11920/11920 [==============================] - 3s 216us/sample - loss: 0.4309 - accuracy: 0.7960\n",
            "Epoch 21/100\n",
            "11920/11920 [==============================] - 2s 206us/sample - loss: 0.4294 - accuracy: 0.7998\n",
            "Epoch 22/100\n",
            "11920/11920 [==============================] - 2s 209us/sample - loss: 0.4296 - accuracy: 0.7975\n",
            "Epoch 23/100\n",
            "11920/11920 [==============================] - 3s 213us/sample - loss: 0.4290 - accuracy: 0.8014\n",
            "Epoch 24/100\n",
            "11920/11920 [==============================] - 3s 219us/sample - loss: 0.4280 - accuracy: 0.7992\n",
            "Epoch 25/100\n",
            "11920/11920 [==============================] - 3s 218us/sample - loss: 0.4282 - accuracy: 0.7982\n",
            "Epoch 26/100\n",
            "11920/11920 [==============================] - 3s 216us/sample - loss: 0.4273 - accuracy: 0.8013\n",
            "Epoch 27/100\n",
            "11920/11920 [==============================] - 3s 211us/sample - loss: 0.4271 - accuracy: 0.8008\n",
            "Epoch 28/100\n",
            "11920/11920 [==============================] - 3s 215us/sample - loss: 0.4270 - accuracy: 0.8024\n",
            "Epoch 29/100\n",
            "11920/11920 [==============================] - 3s 211us/sample - loss: 0.4267 - accuracy: 0.8009\n",
            "Epoch 30/100\n",
            "11920/11920 [==============================] - 3s 214us/sample - loss: 0.4258 - accuracy: 0.8005\n",
            "Epoch 31/100\n",
            "11920/11920 [==============================] - 3s 213us/sample - loss: 0.4254 - accuracy: 0.8013\n",
            "Epoch 32/100\n",
            "11920/11920 [==============================] - 3s 212us/sample - loss: 0.4256 - accuracy: 0.7999\n",
            "Epoch 33/100\n",
            "11920/11920 [==============================] - 3s 213us/sample - loss: 0.4251 - accuracy: 0.8016\n",
            "Epoch 34/100\n",
            "11920/11920 [==============================] - 3s 214us/sample - loss: 0.4251 - accuracy: 0.8009\n",
            "Epoch 35/100\n",
            "11920/11920 [==============================] - 3s 214us/sample - loss: 0.4241 - accuracy: 0.8021\n",
            "Epoch 36/100\n",
            "11920/11920 [==============================] - 3s 217us/sample - loss: 0.4237 - accuracy: 0.8025\n",
            "Epoch 37/100\n",
            "11920/11920 [==============================] - 3s 213us/sample - loss: 0.4230 - accuracy: 0.8011\n",
            "Epoch 38/100\n",
            "11920/11920 [==============================] - 3s 214us/sample - loss: 0.4233 - accuracy: 0.8023\n",
            "Epoch 39/100\n",
            "11920/11920 [==============================] - 2s 209us/sample - loss: 0.4226 - accuracy: 0.8036\n",
            "Epoch 40/100\n",
            "11920/11920 [==============================] - 3s 213us/sample - loss: 0.4222 - accuracy: 0.8006\n",
            "Epoch 41/100\n",
            "11920/11920 [==============================] - 3s 212us/sample - loss: 0.4216 - accuracy: 0.8026\n",
            "Epoch 42/100\n",
            "11920/11920 [==============================] - 3s 214us/sample - loss: 0.4217 - accuracy: 0.8019\n",
            "Epoch 43/100\n",
            "11920/11920 [==============================] - 3s 213us/sample - loss: 0.4211 - accuracy: 0.8047\n",
            "Epoch 44/100\n",
            "11920/11920 [==============================] - 3s 215us/sample - loss: 0.4208 - accuracy: 0.8038\n",
            "Epoch 45/100\n",
            "11920/11920 [==============================] - 3s 216us/sample - loss: 0.4208 - accuracy: 0.8065\n",
            "Epoch 46/100\n",
            "11920/11920 [==============================] - 3s 210us/sample - loss: 0.4200 - accuracy: 0.8062\n",
            "Epoch 47/100\n",
            "11920/11920 [==============================] - 3s 213us/sample - loss: 0.4193 - accuracy: 0.8054\n",
            "Epoch 48/100\n",
            "11920/11920 [==============================] - 3s 217us/sample - loss: 0.4195 - accuracy: 0.8034\n",
            "Epoch 49/100\n",
            "11920/11920 [==============================] - 3s 212us/sample - loss: 0.4194 - accuracy: 0.8039\n",
            "Epoch 50/100\n",
            "11920/11920 [==============================] - 3s 213us/sample - loss: 0.4190 - accuracy: 0.8036\n",
            "Epoch 51/100\n",
            "11920/11920 [==============================] - 3s 212us/sample - loss: 0.4188 - accuracy: 0.8035\n",
            "Epoch 52/100\n",
            "11920/11920 [==============================] - 3s 211us/sample - loss: 0.4179 - accuracy: 0.8046\n",
            "Epoch 53/100\n",
            "11920/11920 [==============================] - 3s 212us/sample - loss: 0.4171 - accuracy: 0.8047\n",
            "Epoch 54/100\n",
            "11920/11920 [==============================] - 3s 216us/sample - loss: 0.4172 - accuracy: 0.8055\n",
            "Epoch 55/100\n",
            "11920/11920 [==============================] - 3s 217us/sample - loss: 0.4163 - accuracy: 0.8060\n",
            "Epoch 56/100\n",
            "11920/11920 [==============================] - 3s 216us/sample - loss: 0.4162 - accuracy: 0.8030\n",
            "Epoch 57/100\n",
            "11920/11920 [==============================] - 3s 217us/sample - loss: 0.4163 - accuracy: 0.8061\n",
            "Epoch 58/100\n",
            "11920/11920 [==============================] - 3s 220us/sample - loss: 0.4153 - accuracy: 0.8039\n",
            "Epoch 59/100\n",
            "11920/11920 [==============================] - 3s 221us/sample - loss: 0.4154 - accuracy: 0.8049\n",
            "Epoch 60/100\n",
            "11920/11920 [==============================] - 3s 214us/sample - loss: 0.4151 - accuracy: 0.8070\n",
            "Epoch 61/100\n",
            "11920/11920 [==============================] - 3s 216us/sample - loss: 0.4146 - accuracy: 0.8061\n",
            "Epoch 62/100\n",
            "11920/11920 [==============================] - 3s 213us/sample - loss: 0.4145 - accuracy: 0.8073\n",
            "Epoch 63/100\n",
            "11920/11920 [==============================] - 3s 212us/sample - loss: 0.4138 - accuracy: 0.8081\n",
            "Epoch 64/100\n",
            "11920/11920 [==============================] - 3s 216us/sample - loss: 0.4141 - accuracy: 0.8075\n",
            "Epoch 65/100\n",
            "11920/11920 [==============================] - 3s 216us/sample - loss: 0.4133 - accuracy: 0.8065\n",
            "Epoch 66/100\n",
            "11920/11920 [==============================] - 3s 213us/sample - loss: 0.4135 - accuracy: 0.8063\n",
            "Epoch 67/100\n",
            "11920/11920 [==============================] - 3s 218us/sample - loss: 0.4119 - accuracy: 0.8067\n",
            "Epoch 68/100\n",
            "11920/11920 [==============================] - 3s 212us/sample - loss: 0.4132 - accuracy: 0.8091\n",
            "Epoch 69/100\n",
            "11920/11920 [==============================] - 3s 212us/sample - loss: 0.4126 - accuracy: 0.8075\n",
            "Epoch 70/100\n",
            "11920/11920 [==============================] - 3s 222us/sample - loss: 0.4124 - accuracy: 0.8111\n",
            "Epoch 71/100\n",
            "11920/11920 [==============================] - 3s 216us/sample - loss: 0.4127 - accuracy: 0.8097\n",
            "Epoch 72/100\n",
            "11920/11920 [==============================] - 3s 224us/sample - loss: 0.4117 - accuracy: 0.8082\n",
            "Epoch 73/100\n",
            "11920/11920 [==============================] - 3s 214us/sample - loss: 0.4123 - accuracy: 0.8101\n",
            "Epoch 74/100\n",
            "11920/11920 [==============================] - 3s 211us/sample - loss: 0.4115 - accuracy: 0.8095\n",
            "Epoch 75/100\n",
            "11920/11920 [==============================] - 2s 209us/sample - loss: 0.4112 - accuracy: 0.8099\n",
            "Epoch 76/100\n",
            "11920/11920 [==============================] - 3s 211us/sample - loss: 0.4113 - accuracy: 0.8096\n",
            "Epoch 77/100\n",
            "11920/11920 [==============================] - 3s 216us/sample - loss: 0.4115 - accuracy: 0.8093\n",
            "Epoch 78/100\n",
            "11920/11920 [==============================] - 3s 216us/sample - loss: 0.4113 - accuracy: 0.8101\n",
            "Epoch 79/100\n",
            "11920/11920 [==============================] - 3s 211us/sample - loss: 0.4112 - accuracy: 0.8106\n",
            "Epoch 80/100\n",
            "11920/11920 [==============================] - 3s 213us/sample - loss: 0.4108 - accuracy: 0.8092\n",
            "Epoch 81/100\n",
            "11920/11920 [==============================] - 3s 214us/sample - loss: 0.4105 - accuracy: 0.8117\n",
            "Epoch 82/100\n",
            "11920/11920 [==============================] - 3s 216us/sample - loss: 0.4105 - accuracy: 0.8093\n",
            "Epoch 83/100\n",
            "11920/11920 [==============================] - 2s 206us/sample - loss: 0.4107 - accuracy: 0.8076\n",
            "Epoch 84/100\n",
            "11920/11920 [==============================] - 3s 214us/sample - loss: 0.4099 - accuracy: 0.8117\n",
            "Epoch 85/100\n",
            "11920/11920 [==============================] - 3s 214us/sample - loss: 0.4102 - accuracy: 0.8117\n",
            "Epoch 86/100\n",
            "11920/11920 [==============================] - 2s 209us/sample - loss: 0.4096 - accuracy: 0.8104\n",
            "Epoch 87/100\n",
            "11920/11920 [==============================] - 3s 214us/sample - loss: 0.4090 - accuracy: 0.8101\n",
            "Epoch 88/100\n",
            "11920/11920 [==============================] - 3s 217us/sample - loss: 0.4095 - accuracy: 0.8074\n",
            "Epoch 89/100\n",
            "11920/11920 [==============================] - 3s 224us/sample - loss: 0.4088 - accuracy: 0.8114\n",
            "Epoch 90/100\n",
            "11920/11920 [==============================] - 3s 222us/sample - loss: 0.4086 - accuracy: 0.8128\n",
            "Epoch 91/100\n",
            "11920/11920 [==============================] - 3s 211us/sample - loss: 0.4091 - accuracy: 0.8117\n",
            "Epoch 92/100\n",
            "11920/11920 [==============================] - 3s 211us/sample - loss: 0.4091 - accuracy: 0.8079\n",
            "Epoch 93/100\n",
            "11920/11920 [==============================] - 3s 213us/sample - loss: 0.4085 - accuracy: 0.8119\n",
            "Epoch 94/100\n",
            "11920/11920 [==============================] - 3s 217us/sample - loss: 0.4083 - accuracy: 0.8110\n",
            "Epoch 95/100\n",
            "11920/11920 [==============================] - 2s 209us/sample - loss: 0.4082 - accuracy: 0.8110\n",
            "Epoch 96/100\n",
            "11920/11920 [==============================] - 3s 213us/sample - loss: 0.4075 - accuracy: 0.8104\n",
            "Epoch 97/100\n",
            "11920/11920 [==============================] - 3s 213us/sample - loss: 0.4070 - accuracy: 0.8120\n",
            "Epoch 98/100\n",
            "11920/11920 [==============================] - 2s 207us/sample - loss: 0.4079 - accuracy: 0.8095\n",
            "Epoch 99/100\n",
            "11920/11920 [==============================] - 3s 212us/sample - loss: 0.4070 - accuracy: 0.8108\n",
            "Epoch 100/100\n",
            "11920/11920 [==============================] - 2s 210us/sample - loss: 0.4072 - accuracy: 0.8108\n"
          ],
          "name": "stdout"
        },
        {
          "output_type": "execute_result",
          "data": {
            "text/plain": [
              "<tensorflow.python.keras.callbacks.History at 0x7f2a4ae30940>"
            ]
          },
          "metadata": {
            "tags": []
          },
          "execution_count": 72
        }
      ]
    },
    {
      "cell_type": "markdown",
      "metadata": {
        "id": "zi6wyt6KO8Bl",
        "colab_type": "text"
      },
      "source": [
        "Checking loss and accuracy of the model"
      ]
    },
    {
      "cell_type": "code",
      "metadata": {
        "id": "6FfpdCs5NkOb",
        "colab_type": "code",
        "colab": {
          "base_uri": "https://localhost:8080/",
          "height": 53
        },
        "outputId": "098d51e8-3dab-4bcc-822c-2b1dbd1c546b"
      },
      "source": [
        "eval_model=model.evaluate(X_train, y_train)\n",
        "eval_model"
      ],
      "execution_count": 73,
      "outputs": [
        {
          "output_type": "stream",
          "text": [
            "11920/11920 [==============================] - 1s 62us/sample - loss: 0.4029 - accuracy: 0.8149\n"
          ],
          "name": "stdout"
        },
        {
          "output_type": "execute_result",
          "data": {
            "text/plain": [
              "[0.40292282032486576, 0.8149329]"
            ]
          },
          "metadata": {
            "tags": []
          },
          "execution_count": 73
        }
      ]
    },
    {
      "cell_type": "markdown",
      "metadata": {
        "id": "WQB1I6VFPK7U",
        "colab_type": "text"
      },
      "source": [
        "Predicting using the model"
      ]
    },
    {
      "cell_type": "code",
      "metadata": {
        "id": "GfHR11OoPAi4",
        "colab_type": "code",
        "colab": {}
      },
      "source": [
        "y_pred=model.predict(X_test)\n",
        "y_pred =(y_pred>0.5)"
      ],
      "execution_count": 0,
      "outputs": []
    },
    {
      "cell_type": "code",
      "metadata": {
        "id": "otGxv2i1PPVL",
        "colab_type": "code",
        "colab": {
          "base_uri": "https://localhost:8080/",
          "height": 181
        },
        "outputId": "f0531c70-8ac0-47b2-f1ba-dd50f54ec7ca"
      },
      "source": [
        "print(classification_report(y_test, y_pred))"
      ],
      "execution_count": 75,
      "outputs": [
        {
          "output_type": "stream",
          "text": [
            "              precision    recall  f1-score   support\n",
            "\n",
            "           0       0.92      0.83      0.87      2003\n",
            "           1       0.51      0.72      0.59       497\n",
            "\n",
            "    accuracy                           0.81      2500\n",
            "   macro avg       0.71      0.77      0.73      2500\n",
            "weighted avg       0.84      0.81      0.82      2500\n",
            "\n"
          ],
          "name": "stdout"
        }
      ]
    },
    {
      "cell_type": "code",
      "metadata": {
        "id": "mUII77aRPnwT",
        "colab_type": "code",
        "colab": {
          "base_uri": "https://localhost:8080/",
          "height": 53
        },
        "outputId": "7348c1cd-278d-4018-dd70-9b684dfe4f92"
      },
      "source": [
        "print(confusion_matrix(y_test, y_pred))"
      ],
      "execution_count": 76,
      "outputs": [
        {
          "output_type": "stream",
          "text": [
            "[[1656  347]\n",
            " [ 140  357]]\n"
          ],
          "name": "stdout"
        }
      ]
    },
    {
      "cell_type": "markdown",
      "metadata": {
        "id": "BTmq4RcAlb7i",
        "colab_type": "text"
      },
      "source": [
        "Optimizing model"
      ]
    },
    {
      "cell_type": "code",
      "metadata": {
        "id": "L2vQpEmQPvyQ",
        "colab_type": "code",
        "colab": {}
      },
      "source": [
        "def algorithm_pipeline(X_train, X_test, y_train, y_test, \n",
        "                       model, param_grid, cv=10, scoring_fit='accuracy',\n",
        "                       do_probabilities = True):\n",
        "    gs = GridSearchCV(\n",
        "        estimator=model,\n",
        "        param_grid=param_grid, \n",
        "        cv=cv, \n",
        "        n_jobs=-1, \n",
        "        scoring=scoring_fit,\n",
        "        verbose=2\n",
        "    )\n",
        "    fitted_model = gs.fit(X_train, y_train)\n",
        "    \n",
        "    if do_probabilities:\n",
        "      pred = fitted_model.predict_proba(X_test)\n",
        "    else:\n",
        "      pred = fitted_model.predict(X_test)\n",
        "    \n",
        "    return fitted_model, pred"
      ],
      "execution_count": 0,
      "outputs": []
    },
    {
      "cell_type": "code",
      "metadata": {
        "id": "VsR_W2j6fjC-",
        "colab_type": "code",
        "colab": {}
      },
      "source": [
        "def build_cnn(activation = 'relu',\n",
        "              dropout_rate = 0.2,\n",
        "              optimizer = 'Adam'):\n",
        "    model = tf.keras.models.Sequential()\n",
        "    model.add(tf.keras.layers.Dense(10, activation=activation, input_shape=(n_cols,)))\n",
        "    model.add(tf.keras.layers.Dropout(dropout_rate))\n",
        "    model.add(tf.keras.layers.Dense(10, activation=activation))\n",
        "    model.add(tf.keras.layers.Dropout(dropout_rate))\n",
        "    model.add(tf.keras.layers.Dense(1, activation='sigmoid'))\n",
        "    \n",
        "    model.compile(\n",
        "        loss='binary_crossentropy', \n",
        "        optimizer=optimizer, \n",
        "        metrics=['accuracy']\n",
        "    )\n",
        "    \n",
        "    return model"
      ],
      "execution_count": 0,
      "outputs": []
    },
    {
      "cell_type": "code",
      "metadata": {
        "id": "STI7bp8YZgBh",
        "colab_type": "code",
        "colab": {}
      },
      "source": [
        "param_grid = {\n",
        "              'batch_size':[64,128],\n",
        "              'epochs' :              [75,100],\n",
        "              'optimizer' :           ['Adam', 'Nadam'],\n",
        "              'dropout_rate' :        [0.2, 0.3,0.5],\n",
        "              'activation' :          ['relu', 'elu']\n",
        "             }"
      ],
      "execution_count": 0,
      "outputs": []
    },
    {
      "cell_type": "code",
      "metadata": {
        "id": "jHMixRTigspN",
        "colab_type": "code",
        "colab": {}
      },
      "source": [
        "model = KerasClassifier(build_fn = build_cnn, verbose=0)"
      ],
      "execution_count": 0,
      "outputs": []
    },
    {
      "cell_type": "code",
      "metadata": {
        "id": "H0Bcps2hgzkd",
        "colab_type": "code",
        "colab": {
          "base_uri": "https://localhost:8080/",
          "height": 164
        },
        "outputId": "991fa40f-cc8c-4a29-f328-b55d17886835"
      },
      "source": [
        "model, pred = algorithm_pipeline(X_train, X_test, y_train, y_test, model, \n",
        "                                        param_grid, cv=5, scoring_fit='accuracy')"
      ],
      "execution_count": 39,
      "outputs": [
        {
          "output_type": "stream",
          "text": [
            "Fitting 5 folds for each of 48 candidates, totalling 240 fits\n"
          ],
          "name": "stdout"
        },
        {
          "output_type": "stream",
          "text": [
            "[Parallel(n_jobs=-1)]: Using backend LokyBackend with 2 concurrent workers.\n",
            "[Parallel(n_jobs=-1)]: Done  37 tasks      | elapsed: 15.1min\n",
            "/usr/local/lib/python3.6/dist-packages/joblib/externals/loky/process_executor.py:706: UserWarning: A worker stopped while some jobs were given to the executor. This can be caused by a too short worker timeout or by a memory leak.\n",
            "  \"timeout or by a memory leak.\", UserWarning\n",
            "[Parallel(n_jobs=-1)]: Done 158 tasks      | elapsed: 57.6min\n",
            "[Parallel(n_jobs=-1)]: Done 240 out of 240 | elapsed: 83.6min finished\n"
          ],
          "name": "stderr"
        }
      ]
    },
    {
      "cell_type": "code",
      "metadata": {
        "id": "m86olU2ahKKr",
        "colab_type": "code",
        "colab": {
          "base_uri": "https://localhost:8080/",
          "height": 53
        },
        "outputId": "851d2bc1-e9c2-4896-af3e-3eb2aebd7535"
      },
      "source": [
        "print(model.best_score_)\n",
        "print(model.best_params_)"
      ],
      "execution_count": 40,
      "outputs": [
        {
          "output_type": "stream",
          "text": [
            "0.7270973154362416\n",
            "{'activation': 'elu', 'batch_size': 128, 'dropout_rate': 0.2, 'epochs': 100, 'optimizer': 'Adam'}\n"
          ],
          "name": "stdout"
        }
      ]
    },
    {
      "cell_type": "markdown",
      "metadata": {
        "id": "Gl-qcl4Tbo71",
        "colab_type": "text"
      },
      "source": [
        "Running at a low batch size results in memory loss while gridsearchCV so building the new model which gives a slightly lower accuracy but at a faster rate"
      ]
    },
    {
      "cell_type": "markdown",
      "metadata": {
        "id": "WJF63dgPOPus",
        "colab_type": "text"
      },
      "source": [
        "Building a model with best results"
      ]
    },
    {
      "cell_type": "code",
      "metadata": {
        "id": "5FBq4qfMOEtV",
        "colab_type": "code",
        "colab": {}
      },
      "source": [
        "model_final = tf.keras.models.Sequential()\n",
        "n_cols = X_train.shape[1]\n",
        "model_final.add(tf.keras.layers.Dense(10, activation='elu', input_shape=(n_cols,)))\n",
        "model_final.add(tf.keras.layers.Dropout(0.2))\n",
        "model_final.add(tf.keras.layers.Dense(10, activation='elu'))\n",
        "model_final.add(tf.keras.layers.Dropout(0.2))\n",
        "model_final.add(tf.keras.layers.Dense(1, activation='sigmoid'))\n",
        "model_final.compile(optimizer ='adam',loss='binary_crossentropy', metrics =['accuracy'])"
      ],
      "execution_count": 0,
      "outputs": []
    },
    {
      "cell_type": "code",
      "metadata": {
        "id": "k5QfGE2XO1as",
        "colab_type": "code",
        "colab": {
          "base_uri": "https://localhost:8080/",
          "height": 1000
        },
        "outputId": "6f98b55b-43a0-49b6-d61c-6ff3a18b5724"
      },
      "source": [
        "model_final.fit(X_train,y_train, batch_size=128, epochs=100)"
      ],
      "execution_count": 85,
      "outputs": [
        {
          "output_type": "stream",
          "text": [
            "Train on 11920 samples\n",
            "Epoch 1/100\n",
            "11920/11920 [==============================] - 1s 53us/sample - loss: 0.6906 - accuracy: 0.5877\n",
            "Epoch 2/100\n",
            "11920/11920 [==============================] - 0s 22us/sample - loss: 0.6124 - accuracy: 0.6648\n",
            "Epoch 3/100\n",
            "11920/11920 [==============================] - 0s 23us/sample - loss: 0.5962 - accuracy: 0.6837\n",
            "Epoch 4/100\n",
            "11920/11920 [==============================] - 0s 27us/sample - loss: 0.5847 - accuracy: 0.7001\n",
            "Epoch 5/100\n",
            "11920/11920 [==============================] - 0s 24us/sample - loss: 0.5751 - accuracy: 0.7046\n",
            "Epoch 6/100\n",
            "11920/11920 [==============================] - 0s 23us/sample - loss: 0.5601 - accuracy: 0.7211\n",
            "Epoch 7/100\n",
            "11920/11920 [==============================] - 0s 22us/sample - loss: 0.5551 - accuracy: 0.7281\n",
            "Epoch 8/100\n",
            "11920/11920 [==============================] - 0s 24us/sample - loss: 0.5495 - accuracy: 0.7247\n",
            "Epoch 9/100\n",
            "11920/11920 [==============================] - 0s 22us/sample - loss: 0.5438 - accuracy: 0.7299\n",
            "Epoch 10/100\n",
            "11920/11920 [==============================] - 0s 24us/sample - loss: 0.5346 - accuracy: 0.7364\n",
            "Epoch 11/100\n",
            "11920/11920 [==============================] - 0s 24us/sample - loss: 0.5303 - accuracy: 0.7404\n",
            "Epoch 12/100\n",
            "11920/11920 [==============================] - 0s 21us/sample - loss: 0.5265 - accuracy: 0.7393\n",
            "Epoch 13/100\n",
            "11920/11920 [==============================] - 0s 23us/sample - loss: 0.5235 - accuracy: 0.7404\n",
            "Epoch 14/100\n",
            "11920/11920 [==============================] - 0s 24us/sample - loss: 0.5189 - accuracy: 0.7457\n",
            "Epoch 15/100\n",
            "11920/11920 [==============================] - 0s 26us/sample - loss: 0.5199 - accuracy: 0.7432\n",
            "Epoch 16/100\n",
            "11920/11920 [==============================] - 0s 23us/sample - loss: 0.5141 - accuracy: 0.7492\n",
            "Epoch 17/100\n",
            "11920/11920 [==============================] - 0s 25us/sample - loss: 0.5144 - accuracy: 0.7469\n",
            "Epoch 18/100\n",
            "11920/11920 [==============================] - 0s 23us/sample - loss: 0.5140 - accuracy: 0.7522\n",
            "Epoch 19/100\n",
            "11920/11920 [==============================] - 0s 24us/sample - loss: 0.5155 - accuracy: 0.7515\n",
            "Epoch 20/100\n",
            "11920/11920 [==============================] - 0s 23us/sample - loss: 0.5120 - accuracy: 0.7508\n",
            "Epoch 21/100\n",
            "11920/11920 [==============================] - 0s 22us/sample - loss: 0.5119 - accuracy: 0.7513\n",
            "Epoch 22/100\n",
            "11920/11920 [==============================] - 0s 22us/sample - loss: 0.5103 - accuracy: 0.7508\n",
            "Epoch 23/100\n",
            "11920/11920 [==============================] - 0s 24us/sample - loss: 0.5059 - accuracy: 0.7541\n",
            "Epoch 24/100\n",
            "11920/11920 [==============================] - 0s 22us/sample - loss: 0.5098 - accuracy: 0.7506\n",
            "Epoch 25/100\n",
            "11920/11920 [==============================] - 0s 21us/sample - loss: 0.5052 - accuracy: 0.7560\n",
            "Epoch 26/100\n",
            "11920/11920 [==============================] - 0s 25us/sample - loss: 0.4999 - accuracy: 0.7549\n",
            "Epoch 27/100\n",
            "11920/11920 [==============================] - 0s 23us/sample - loss: 0.5079 - accuracy: 0.7530\n",
            "Epoch 28/100\n",
            "11920/11920 [==============================] - 0s 21us/sample - loss: 0.5039 - accuracy: 0.7528\n",
            "Epoch 29/100\n",
            "11920/11920 [==============================] - 0s 21us/sample - loss: 0.5024 - accuracy: 0.7555\n",
            "Epoch 30/100\n",
            "11920/11920 [==============================] - 0s 24us/sample - loss: 0.5009 - accuracy: 0.7551\n",
            "Epoch 31/100\n",
            "11920/11920 [==============================] - 0s 22us/sample - loss: 0.5020 - accuracy: 0.7555\n",
            "Epoch 32/100\n",
            "11920/11920 [==============================] - 0s 23us/sample - loss: 0.5032 - accuracy: 0.7530\n",
            "Epoch 33/100\n",
            "11920/11920 [==============================] - 0s 23us/sample - loss: 0.4991 - accuracy: 0.7605\n",
            "Epoch 34/100\n",
            "11920/11920 [==============================] - 0s 23us/sample - loss: 0.4982 - accuracy: 0.7569\n",
            "Epoch 35/100\n",
            "11920/11920 [==============================] - 0s 21us/sample - loss: 0.4989 - accuracy: 0.7546\n",
            "Epoch 36/100\n",
            "11920/11920 [==============================] - 0s 24us/sample - loss: 0.5003 - accuracy: 0.7592\n",
            "Epoch 37/100\n",
            "11920/11920 [==============================] - 0s 24us/sample - loss: 0.4956 - accuracy: 0.7582\n",
            "Epoch 38/100\n",
            "11920/11920 [==============================] - 0s 24us/sample - loss: 0.4947 - accuracy: 0.7636\n",
            "Epoch 39/100\n",
            "11920/11920 [==============================] - 0s 23us/sample - loss: 0.4950 - accuracy: 0.7607\n",
            "Epoch 40/100\n",
            "11920/11920 [==============================] - 0s 23us/sample - loss: 0.4953 - accuracy: 0.7622\n",
            "Epoch 41/100\n",
            "11920/11920 [==============================] - 0s 23us/sample - loss: 0.4985 - accuracy: 0.7565\n",
            "Epoch 42/100\n",
            "11920/11920 [==============================] - 0s 24us/sample - loss: 0.4952 - accuracy: 0.7639\n",
            "Epoch 43/100\n",
            "11920/11920 [==============================] - 0s 22us/sample - loss: 0.4940 - accuracy: 0.7599\n",
            "Epoch 44/100\n",
            "11920/11920 [==============================] - 0s 22us/sample - loss: 0.4919 - accuracy: 0.7612\n",
            "Epoch 45/100\n",
            "11920/11920 [==============================] - 0s 24us/sample - loss: 0.4912 - accuracy: 0.7605\n",
            "Epoch 46/100\n",
            "11920/11920 [==============================] - 0s 21us/sample - loss: 0.4933 - accuracy: 0.7602\n",
            "Epoch 47/100\n",
            "11920/11920 [==============================] - 0s 22us/sample - loss: 0.4890 - accuracy: 0.7588\n",
            "Epoch 48/100\n",
            "11920/11920 [==============================] - 0s 22us/sample - loss: 0.4935 - accuracy: 0.7651\n",
            "Epoch 49/100\n",
            "11920/11920 [==============================] - 0s 22us/sample - loss: 0.4880 - accuracy: 0.7654\n",
            "Epoch 50/100\n",
            "11920/11920 [==============================] - 0s 24us/sample - loss: 0.4906 - accuracy: 0.7633\n",
            "Epoch 51/100\n",
            "11920/11920 [==============================] - 0s 24us/sample - loss: 0.4914 - accuracy: 0.7624\n",
            "Epoch 52/100\n",
            "11920/11920 [==============================] - 0s 25us/sample - loss: 0.4878 - accuracy: 0.7630\n",
            "Epoch 53/100\n",
            "11920/11920 [==============================] - 0s 24us/sample - loss: 0.4879 - accuracy: 0.7659\n",
            "Epoch 54/100\n",
            "11920/11920 [==============================] - 0s 22us/sample - loss: 0.4876 - accuracy: 0.7669\n",
            "Epoch 55/100\n",
            "11920/11920 [==============================] - 0s 22us/sample - loss: 0.4929 - accuracy: 0.7568\n",
            "Epoch 56/100\n",
            "11920/11920 [==============================] - 0s 23us/sample - loss: 0.4881 - accuracy: 0.7665\n",
            "Epoch 57/100\n",
            "11920/11920 [==============================] - 0s 23us/sample - loss: 0.4864 - accuracy: 0.7678\n",
            "Epoch 58/100\n",
            "11920/11920 [==============================] - 0s 24us/sample - loss: 0.4878 - accuracy: 0.7622\n",
            "Epoch 59/100\n",
            "11920/11920 [==============================] - 0s 25us/sample - loss: 0.4871 - accuracy: 0.7645\n",
            "Epoch 60/100\n",
            "11920/11920 [==============================] - 0s 23us/sample - loss: 0.4900 - accuracy: 0.7616\n",
            "Epoch 61/100\n",
            "11920/11920 [==============================] - 0s 25us/sample - loss: 0.4859 - accuracy: 0.7668\n",
            "Epoch 62/100\n",
            "11920/11920 [==============================] - 0s 23us/sample - loss: 0.4832 - accuracy: 0.7700\n",
            "Epoch 63/100\n",
            "11920/11920 [==============================] - 0s 23us/sample - loss: 0.4850 - accuracy: 0.7652\n",
            "Epoch 64/100\n",
            "11920/11920 [==============================] - 0s 23us/sample - loss: 0.4828 - accuracy: 0.7692\n",
            "Epoch 65/100\n",
            "11920/11920 [==============================] - 0s 23us/sample - loss: 0.4841 - accuracy: 0.7650\n",
            "Epoch 66/100\n",
            "11920/11920 [==============================] - 0s 23us/sample - loss: 0.4877 - accuracy: 0.7628\n",
            "Epoch 67/100\n",
            "11920/11920 [==============================] - 0s 25us/sample - loss: 0.4836 - accuracy: 0.7659\n",
            "Epoch 68/100\n",
            "11920/11920 [==============================] - 0s 23us/sample - loss: 0.4864 - accuracy: 0.7669\n",
            "Epoch 69/100\n",
            "11920/11920 [==============================] - 0s 22us/sample - loss: 0.4842 - accuracy: 0.7661\n",
            "Epoch 70/100\n",
            "11920/11920 [==============================] - 0s 21us/sample - loss: 0.4849 - accuracy: 0.7662\n",
            "Epoch 71/100\n",
            "11920/11920 [==============================] - 0s 22us/sample - loss: 0.4808 - accuracy: 0.7703\n",
            "Epoch 72/100\n",
            "11920/11920 [==============================] - 0s 21us/sample - loss: 0.4822 - accuracy: 0.7694\n",
            "Epoch 73/100\n",
            "11920/11920 [==============================] - 0s 23us/sample - loss: 0.4840 - accuracy: 0.7661\n",
            "Epoch 74/100\n",
            "11920/11920 [==============================] - 0s 24us/sample - loss: 0.4853 - accuracy: 0.7680\n",
            "Epoch 75/100\n",
            "11920/11920 [==============================] - 0s 21us/sample - loss: 0.4814 - accuracy: 0.7715\n",
            "Epoch 76/100\n",
            "11920/11920 [==============================] - 0s 21us/sample - loss: 0.4841 - accuracy: 0.7662\n",
            "Epoch 77/100\n",
            "11920/11920 [==============================] - 0s 23us/sample - loss: 0.4813 - accuracy: 0.7664\n",
            "Epoch 78/100\n",
            "11920/11920 [==============================] - 0s 23us/sample - loss: 0.4815 - accuracy: 0.7710\n",
            "Epoch 79/100\n",
            "11920/11920 [==============================] - 0s 22us/sample - loss: 0.4831 - accuracy: 0.7667\n",
            "Epoch 80/100\n",
            "11920/11920 [==============================] - 0s 22us/sample - loss: 0.4797 - accuracy: 0.7687\n",
            "Epoch 81/100\n",
            "11920/11920 [==============================] - 0s 22us/sample - loss: 0.4790 - accuracy: 0.7721\n",
            "Epoch 82/100\n",
            "11920/11920 [==============================] - 0s 23us/sample - loss: 0.4800 - accuracy: 0.7703\n",
            "Epoch 83/100\n",
            "11920/11920 [==============================] - 0s 22us/sample - loss: 0.4794 - accuracy: 0.7719\n",
            "Epoch 84/100\n",
            "11920/11920 [==============================] - 0s 21us/sample - loss: 0.4811 - accuracy: 0.7659\n",
            "Epoch 85/100\n",
            "11920/11920 [==============================] - 0s 24us/sample - loss: 0.4783 - accuracy: 0.7668\n",
            "Epoch 86/100\n",
            "11920/11920 [==============================] - 0s 22us/sample - loss: 0.4787 - accuracy: 0.7742\n",
            "Epoch 87/100\n",
            "11920/11920 [==============================] - 0s 22us/sample - loss: 0.4794 - accuracy: 0.7703\n",
            "Epoch 88/100\n",
            "11920/11920 [==============================] - 0s 21us/sample - loss: 0.4782 - accuracy: 0.7734\n",
            "Epoch 89/100\n",
            "11920/11920 [==============================] - 0s 24us/sample - loss: 0.4814 - accuracy: 0.7685\n",
            "Epoch 90/100\n",
            "11920/11920 [==============================] - 0s 23us/sample - loss: 0.4819 - accuracy: 0.7679\n",
            "Epoch 91/100\n",
            "11920/11920 [==============================] - 0s 21us/sample - loss: 0.4794 - accuracy: 0.7740\n",
            "Epoch 92/100\n",
            "11920/11920 [==============================] - 0s 22us/sample - loss: 0.4787 - accuracy: 0.7674\n",
            "Epoch 93/100\n",
            "11920/11920 [==============================] - 0s 21us/sample - loss: 0.4779 - accuracy: 0.7697\n",
            "Epoch 94/100\n",
            "11920/11920 [==============================] - 0s 22us/sample - loss: 0.4769 - accuracy: 0.7725\n",
            "Epoch 95/100\n",
            "11920/11920 [==============================] - 0s 21us/sample - loss: 0.4778 - accuracy: 0.7721\n",
            "Epoch 96/100\n",
            "11920/11920 [==============================] - 0s 21us/sample - loss: 0.4780 - accuracy: 0.7705\n",
            "Epoch 97/100\n",
            "11920/11920 [==============================] - 0s 23us/sample - loss: 0.4770 - accuracy: 0.7726\n",
            "Epoch 98/100\n",
            "11920/11920 [==============================] - 0s 22us/sample - loss: 0.4819 - accuracy: 0.7703\n",
            "Epoch 99/100\n",
            "11920/11920 [==============================] - 0s 23us/sample - loss: 0.4789 - accuracy: 0.7717\n",
            "Epoch 100/100\n",
            "11920/11920 [==============================] - 0s 22us/sample - loss: 0.4781 - accuracy: 0.7687\n"
          ],
          "name": "stdout"
        },
        {
          "output_type": "execute_result",
          "data": {
            "text/plain": [
              "<tensorflow.python.keras.callbacks.History at 0x7f2a47931780>"
            ]
          },
          "metadata": {
            "tags": []
          },
          "execution_count": 85
        }
      ]
    },
    {
      "cell_type": "code",
      "metadata": {
        "id": "BuhmjaybP6yw",
        "colab_type": "code",
        "colab": {}
      },
      "source": [
        "y_pred=model_final.predict(X_test)\n",
        "y_pred =(y_pred>0.5)"
      ],
      "execution_count": 0,
      "outputs": []
    },
    {
      "cell_type": "code",
      "metadata": {
        "id": "f_QcziQodrVE",
        "colab_type": "code",
        "colab": {
          "base_uri": "https://localhost:8080/",
          "height": 181
        },
        "outputId": "3b1b8054-6f6b-488d-e27a-70ca9b2d692e"
      },
      "source": [
        "print(classification_report(y_test, y_pred))"
      ],
      "execution_count": 87,
      "outputs": [
        {
          "output_type": "stream",
          "text": [
            "              precision    recall  f1-score   support\n",
            "\n",
            "           0       0.93      0.79      0.85      2003\n",
            "           1       0.47      0.75      0.58       497\n",
            "\n",
            "    accuracy                           0.78      2500\n",
            "   macro avg       0.70      0.77      0.71      2500\n",
            "weighted avg       0.84      0.78      0.80      2500\n",
            "\n"
          ],
          "name": "stdout"
        }
      ]
    },
    {
      "cell_type": "markdown",
      "metadata": {
        "id": "rOMxRNxGf_Lp",
        "colab_type": "text"
      },
      "source": [
        "The recall result of the optimized model is consistent for both the classes at 79 and 75%. <br>The model can predict approximately 75% of the people who would leave the bank and of the people which the model predicted will leave only 47% will actually leave."
      ]
    },
    {
      "cell_type": "code",
      "metadata": {
        "id": "zDODhnH1dwDI",
        "colab_type": "code",
        "colab": {}
      },
      "source": [
        ""
      ],
      "execution_count": 0,
      "outputs": []
    }
  ]
}
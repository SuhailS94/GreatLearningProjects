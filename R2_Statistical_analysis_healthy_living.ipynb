{
 "cells": [
  {
   "cell_type": "markdown",
   "metadata": {},
   "source": [
    "Importing libraries"
   ]
  },
  {
   "cell_type": "code",
   "execution_count": 90,
   "metadata": {},
   "outputs": [],
   "source": [
    "import numpy as np\n",
    "import pandas as pd\n",
    "import matplotlib.pyplot as plt\n",
    "import seaborn as sns\n",
    "import scipy.stats as stats"
   ]
  },
  {
   "cell_type": "markdown",
   "metadata": {},
   "source": [
    "uploading responses and files into dataframe"
   ]
  },
  {
   "cell_type": "code",
   "execution_count": 91,
   "metadata": {},
   "outputs": [],
   "source": [
    "responses = pd.read_csv(\"responses.csv\")"
   ]
  },
  {
   "cell_type": "code",
   "execution_count": 92,
   "metadata": {},
   "outputs": [
    {
     "data": {
      "text/html": [
       "<div>\n",
       "<style scoped>\n",
       "    .dataframe tbody tr th:only-of-type {\n",
       "        vertical-align: middle;\n",
       "    }\n",
       "\n",
       "    .dataframe tbody tr th {\n",
       "        vertical-align: top;\n",
       "    }\n",
       "\n",
       "    .dataframe thead th {\n",
       "        text-align: right;\n",
       "    }\n",
       "</style>\n",
       "<table border=\"1\" class=\"dataframe\">\n",
       "  <thead>\n",
       "    <tr style=\"text-align: right;\">\n",
       "      <th></th>\n",
       "      <th>Music</th>\n",
       "      <th>Slow songs or fast songs</th>\n",
       "      <th>Dance</th>\n",
       "      <th>Folk</th>\n",
       "      <th>Country</th>\n",
       "      <th>Classical music</th>\n",
       "      <th>Musical</th>\n",
       "      <th>Pop</th>\n",
       "      <th>Rock</th>\n",
       "      <th>Metal or Hardrock</th>\n",
       "      <th>...</th>\n",
       "      <th>Age</th>\n",
       "      <th>Height</th>\n",
       "      <th>Weight</th>\n",
       "      <th>Number of siblings</th>\n",
       "      <th>Gender</th>\n",
       "      <th>Left - right handed</th>\n",
       "      <th>Education</th>\n",
       "      <th>Only child</th>\n",
       "      <th>Village - town</th>\n",
       "      <th>House - block of flats</th>\n",
       "    </tr>\n",
       "  </thead>\n",
       "  <tbody>\n",
       "    <tr>\n",
       "      <th>0</th>\n",
       "      <td>5.0</td>\n",
       "      <td>3.0</td>\n",
       "      <td>2.0</td>\n",
       "      <td>1.0</td>\n",
       "      <td>2.0</td>\n",
       "      <td>2.0</td>\n",
       "      <td>1.0</td>\n",
       "      <td>5.0</td>\n",
       "      <td>5.0</td>\n",
       "      <td>1.0</td>\n",
       "      <td>...</td>\n",
       "      <td>20.0</td>\n",
       "      <td>163.0</td>\n",
       "      <td>48.0</td>\n",
       "      <td>1.0</td>\n",
       "      <td>female</td>\n",
       "      <td>right handed</td>\n",
       "      <td>college/bachelor degree</td>\n",
       "      <td>no</td>\n",
       "      <td>village</td>\n",
       "      <td>block of flats</td>\n",
       "    </tr>\n",
       "    <tr>\n",
       "      <th>1</th>\n",
       "      <td>4.0</td>\n",
       "      <td>4.0</td>\n",
       "      <td>2.0</td>\n",
       "      <td>1.0</td>\n",
       "      <td>1.0</td>\n",
       "      <td>1.0</td>\n",
       "      <td>2.0</td>\n",
       "      <td>3.0</td>\n",
       "      <td>5.0</td>\n",
       "      <td>4.0</td>\n",
       "      <td>...</td>\n",
       "      <td>19.0</td>\n",
       "      <td>163.0</td>\n",
       "      <td>58.0</td>\n",
       "      <td>2.0</td>\n",
       "      <td>female</td>\n",
       "      <td>right handed</td>\n",
       "      <td>college/bachelor degree</td>\n",
       "      <td>no</td>\n",
       "      <td>city</td>\n",
       "      <td>block of flats</td>\n",
       "    </tr>\n",
       "    <tr>\n",
       "      <th>2</th>\n",
       "      <td>5.0</td>\n",
       "      <td>5.0</td>\n",
       "      <td>2.0</td>\n",
       "      <td>2.0</td>\n",
       "      <td>3.0</td>\n",
       "      <td>4.0</td>\n",
       "      <td>5.0</td>\n",
       "      <td>3.0</td>\n",
       "      <td>5.0</td>\n",
       "      <td>3.0</td>\n",
       "      <td>...</td>\n",
       "      <td>20.0</td>\n",
       "      <td>176.0</td>\n",
       "      <td>67.0</td>\n",
       "      <td>2.0</td>\n",
       "      <td>female</td>\n",
       "      <td>right handed</td>\n",
       "      <td>secondary school</td>\n",
       "      <td>no</td>\n",
       "      <td>city</td>\n",
       "      <td>block of flats</td>\n",
       "    </tr>\n",
       "    <tr>\n",
       "      <th>3</th>\n",
       "      <td>5.0</td>\n",
       "      <td>3.0</td>\n",
       "      <td>2.0</td>\n",
       "      <td>1.0</td>\n",
       "      <td>1.0</td>\n",
       "      <td>1.0</td>\n",
       "      <td>1.0</td>\n",
       "      <td>2.0</td>\n",
       "      <td>2.0</td>\n",
       "      <td>1.0</td>\n",
       "      <td>...</td>\n",
       "      <td>22.0</td>\n",
       "      <td>172.0</td>\n",
       "      <td>59.0</td>\n",
       "      <td>1.0</td>\n",
       "      <td>female</td>\n",
       "      <td>right handed</td>\n",
       "      <td>college/bachelor degree</td>\n",
       "      <td>yes</td>\n",
       "      <td>city</td>\n",
       "      <td>house/bungalow</td>\n",
       "    </tr>\n",
       "    <tr>\n",
       "      <th>4</th>\n",
       "      <td>5.0</td>\n",
       "      <td>3.0</td>\n",
       "      <td>4.0</td>\n",
       "      <td>3.0</td>\n",
       "      <td>2.0</td>\n",
       "      <td>4.0</td>\n",
       "      <td>3.0</td>\n",
       "      <td>5.0</td>\n",
       "      <td>3.0</td>\n",
       "      <td>1.0</td>\n",
       "      <td>...</td>\n",
       "      <td>20.0</td>\n",
       "      <td>170.0</td>\n",
       "      <td>59.0</td>\n",
       "      <td>1.0</td>\n",
       "      <td>female</td>\n",
       "      <td>right handed</td>\n",
       "      <td>secondary school</td>\n",
       "      <td>no</td>\n",
       "      <td>village</td>\n",
       "      <td>house/bungalow</td>\n",
       "    </tr>\n",
       "  </tbody>\n",
       "</table>\n",
       "<p>5 rows × 150 columns</p>\n",
       "</div>"
      ],
      "text/plain": [
       "   Music  Slow songs or fast songs  Dance  Folk  Country  Classical music  \\\n",
       "0    5.0                       3.0    2.0   1.0      2.0              2.0   \n",
       "1    4.0                       4.0    2.0   1.0      1.0              1.0   \n",
       "2    5.0                       5.0    2.0   2.0      3.0              4.0   \n",
       "3    5.0                       3.0    2.0   1.0      1.0              1.0   \n",
       "4    5.0                       3.0    4.0   3.0      2.0              4.0   \n",
       "\n",
       "   Musical  Pop  Rock  Metal or Hardrock  ...   Age  Height  Weight  \\\n",
       "0      1.0  5.0   5.0                1.0  ...  20.0   163.0    48.0   \n",
       "1      2.0  3.0   5.0                4.0  ...  19.0   163.0    58.0   \n",
       "2      5.0  3.0   5.0                3.0  ...  20.0   176.0    67.0   \n",
       "3      1.0  2.0   2.0                1.0  ...  22.0   172.0    59.0   \n",
       "4      3.0  5.0   3.0                1.0  ...  20.0   170.0    59.0   \n",
       "\n",
       "   Number of siblings  Gender  Left - right handed                Education  \\\n",
       "0                 1.0  female         right handed  college/bachelor degree   \n",
       "1                 2.0  female         right handed  college/bachelor degree   \n",
       "2                 2.0  female         right handed         secondary school   \n",
       "3                 1.0  female         right handed  college/bachelor degree   \n",
       "4                 1.0  female         right handed         secondary school   \n",
       "\n",
       "   Only child  Village - town  House - block of flats  \n",
       "0          no         village          block of flats  \n",
       "1          no            city          block of flats  \n",
       "2          no            city          block of flats  \n",
       "3         yes            city          house/bungalow  \n",
       "4          no         village          house/bungalow  \n",
       "\n",
       "[5 rows x 150 columns]"
      ]
     },
     "execution_count": 92,
     "metadata": {},
     "output_type": "execute_result"
    }
   ],
   "source": [
    "responses.head()"
   ]
  },
  {
   "cell_type": "code",
   "execution_count": 93,
   "metadata": {},
   "outputs": [
    {
     "data": {
      "text/plain": [
       "(1010, 150)"
      ]
     },
     "execution_count": 93,
     "metadata": {},
     "output_type": "execute_result"
    }
   ],
   "source": [
    "responses.shape"
   ]
  },
  {
   "cell_type": "code",
   "execution_count": 94,
   "metadata": {},
   "outputs": [
    {
     "data": {
      "text/plain": [
       "['Music',\n",
       " 'Slow songs or fast songs',\n",
       " 'Dance',\n",
       " 'Folk',\n",
       " 'Country',\n",
       " 'Classical music',\n",
       " 'Musical',\n",
       " 'Pop',\n",
       " 'Rock',\n",
       " 'Metal or Hardrock',\n",
       " 'Punk',\n",
       " 'Hiphop, Rap',\n",
       " 'Reggae, Ska',\n",
       " 'Swing, Jazz',\n",
       " 'Rock n roll',\n",
       " 'Alternative',\n",
       " 'Latino',\n",
       " 'Techno, Trance',\n",
       " 'Opera',\n",
       " 'Movies',\n",
       " 'Horror',\n",
       " 'Thriller',\n",
       " 'Comedy',\n",
       " 'Romantic',\n",
       " 'Sci-fi',\n",
       " 'War',\n",
       " 'Fantasy/Fairy tales',\n",
       " 'Animated',\n",
       " 'Documentary',\n",
       " 'Western',\n",
       " 'Action',\n",
       " 'History',\n",
       " 'Psychology',\n",
       " 'Politics',\n",
       " 'Mathematics',\n",
       " 'Physics',\n",
       " 'Internet',\n",
       " 'PC',\n",
       " 'Economy Management',\n",
       " 'Biology',\n",
       " 'Chemistry',\n",
       " 'Reading',\n",
       " 'Geography',\n",
       " 'Foreign languages',\n",
       " 'Medicine',\n",
       " 'Law',\n",
       " 'Cars',\n",
       " 'Art exhibitions',\n",
       " 'Religion',\n",
       " 'Countryside, outdoors',\n",
       " 'Dancing',\n",
       " 'Musical instruments',\n",
       " 'Writing',\n",
       " 'Passive sport',\n",
       " 'Active sport',\n",
       " 'Gardening',\n",
       " 'Celebrities',\n",
       " 'Shopping',\n",
       " 'Science and technology',\n",
       " 'Theatre',\n",
       " 'Fun with friends',\n",
       " 'Adrenaline sports',\n",
       " 'Pets',\n",
       " 'Flying',\n",
       " 'Storm',\n",
       " 'Darkness',\n",
       " 'Heights',\n",
       " 'Spiders',\n",
       " 'Snakes',\n",
       " 'Rats',\n",
       " 'Ageing',\n",
       " 'Dangerous dogs',\n",
       " 'Fear of public speaking',\n",
       " 'Smoking',\n",
       " 'Alcohol',\n",
       " 'Healthy eating',\n",
       " 'Daily events',\n",
       " 'Prioritising workload',\n",
       " 'Writing notes',\n",
       " 'Workaholism',\n",
       " 'Thinking ahead',\n",
       " 'Final judgement',\n",
       " 'Reliability',\n",
       " 'Keeping promises',\n",
       " 'Loss of interest',\n",
       " 'Friends versus money',\n",
       " 'Funniness',\n",
       " 'Fake',\n",
       " 'Criminal damage',\n",
       " 'Decision making',\n",
       " 'Elections',\n",
       " 'Self-criticism',\n",
       " 'Judgment calls',\n",
       " 'Hypochondria',\n",
       " 'Empathy',\n",
       " 'Eating to survive',\n",
       " 'Giving',\n",
       " 'Compassion to animals',\n",
       " 'Borrowed stuff',\n",
       " 'Loneliness',\n",
       " 'Cheating in school',\n",
       " 'Health',\n",
       " 'Changing the past',\n",
       " 'God',\n",
       " 'Dreams',\n",
       " 'Charity',\n",
       " 'Number of friends',\n",
       " 'Punctuality',\n",
       " 'Lying',\n",
       " 'Waiting',\n",
       " 'New environment',\n",
       " 'Mood swings',\n",
       " 'Appearence and gestures',\n",
       " 'Socializing',\n",
       " 'Achievements',\n",
       " 'Responding to a serious letter',\n",
       " 'Children',\n",
       " 'Assertiveness',\n",
       " 'Getting angry',\n",
       " 'Knowing the right people',\n",
       " 'Public speaking',\n",
       " 'Unpopularity',\n",
       " 'Life struggles',\n",
       " 'Happiness in life',\n",
       " 'Energy levels',\n",
       " 'Small - big dogs',\n",
       " 'Personality',\n",
       " 'Finding lost valuables',\n",
       " 'Getting up',\n",
       " 'Interests or hobbies',\n",
       " \"Parents' advice\",\n",
       " 'Questionnaires or polls',\n",
       " 'Internet usage',\n",
       " 'Finances',\n",
       " 'Shopping centres',\n",
       " 'Branded clothing',\n",
       " 'Entertainment spending',\n",
       " 'Spending on looks',\n",
       " 'Spending on gadgets',\n",
       " 'Spending on healthy eating',\n",
       " 'Age',\n",
       " 'Height',\n",
       " 'Weight',\n",
       " 'Number of siblings',\n",
       " 'Gender',\n",
       " 'Left - right handed',\n",
       " 'Education',\n",
       " 'Only child',\n",
       " 'Village - town',\n",
       " 'House - block of flats']"
      ]
     },
     "execution_count": 94,
     "metadata": {},
     "output_type": "execute_result"
    }
   ],
   "source": [
    "list(responses.columns)"
   ]
  },
  {
   "cell_type": "markdown",
   "metadata": {},
   "source": [
    "Copying only the 4 columns to a new dataframe"
   ]
  },
  {
   "cell_type": "code",
   "execution_count": 95,
   "metadata": {},
   "outputs": [],
   "source": [
    "response = responses.drop(labels=[x for x in responses.columns if x not in ('Finances','Gender','Village - town','Healthy eating') ], axis=1)"
   ]
  },
  {
   "cell_type": "code",
   "execution_count": 96,
   "metadata": {},
   "outputs": [
    {
     "data": {
      "text/html": [
       "<div>\n",
       "<style scoped>\n",
       "    .dataframe tbody tr th:only-of-type {\n",
       "        vertical-align: middle;\n",
       "    }\n",
       "\n",
       "    .dataframe tbody tr th {\n",
       "        vertical-align: top;\n",
       "    }\n",
       "\n",
       "    .dataframe thead th {\n",
       "        text-align: right;\n",
       "    }\n",
       "</style>\n",
       "<table border=\"1\" class=\"dataframe\">\n",
       "  <thead>\n",
       "    <tr style=\"text-align: right;\">\n",
       "      <th></th>\n",
       "      <th>Healthy eating</th>\n",
       "      <th>Finances</th>\n",
       "      <th>Gender</th>\n",
       "      <th>Village - town</th>\n",
       "    </tr>\n",
       "  </thead>\n",
       "  <tbody>\n",
       "    <tr>\n",
       "      <th>0</th>\n",
       "      <td>4.0</td>\n",
       "      <td>3.0</td>\n",
       "      <td>female</td>\n",
       "      <td>village</td>\n",
       "    </tr>\n",
       "    <tr>\n",
       "      <th>1</th>\n",
       "      <td>3.0</td>\n",
       "      <td>3.0</td>\n",
       "      <td>female</td>\n",
       "      <td>city</td>\n",
       "    </tr>\n",
       "    <tr>\n",
       "      <th>2</th>\n",
       "      <td>3.0</td>\n",
       "      <td>2.0</td>\n",
       "      <td>female</td>\n",
       "      <td>city</td>\n",
       "    </tr>\n",
       "    <tr>\n",
       "      <th>3</th>\n",
       "      <td>3.0</td>\n",
       "      <td>2.0</td>\n",
       "      <td>female</td>\n",
       "      <td>city</td>\n",
       "    </tr>\n",
       "    <tr>\n",
       "      <th>4</th>\n",
       "      <td>4.0</td>\n",
       "      <td>4.0</td>\n",
       "      <td>female</td>\n",
       "      <td>village</td>\n",
       "    </tr>\n",
       "  </tbody>\n",
       "</table>\n",
       "</div>"
      ],
      "text/plain": [
       "   Healthy eating  Finances  Gender Village - town\n",
       "0             4.0       3.0  female        village\n",
       "1             3.0       3.0  female           city\n",
       "2             3.0       2.0  female           city\n",
       "3             3.0       2.0  female           city\n",
       "4             4.0       4.0  female        village"
      ]
     },
     "execution_count": 96,
     "metadata": {},
     "output_type": "execute_result"
    }
   ],
   "source": [
    "response.head()"
   ]
  },
  {
   "cell_type": "code",
   "execution_count": 97,
   "metadata": {},
   "outputs": [
    {
     "name": "stdout",
     "output_type": "stream",
     "text": [
      "<class 'pandas.core.frame.DataFrame'>\n",
      "RangeIndex: 1010 entries, 0 to 1009\n",
      "Data columns (total 4 columns):\n",
      "Healthy eating    1007 non-null float64\n",
      "Finances          1007 non-null float64\n",
      "Gender            1004 non-null object\n",
      "Village - town    1006 non-null object\n",
      "dtypes: float64(2), object(2)\n",
      "memory usage: 31.6+ KB\n"
     ]
    }
   ],
   "source": [
    "response.info()"
   ]
  },
  {
   "cell_type": "code",
   "execution_count": 98,
   "metadata": {},
   "outputs": [
    {
     "data": {
      "text/plain": [
       "(1010, 4)"
      ]
     },
     "execution_count": 98,
     "metadata": {},
     "output_type": "execute_result"
    }
   ],
   "source": [
    "response.shape"
   ]
  },
  {
   "cell_type": "code",
   "execution_count": 99,
   "metadata": {},
   "outputs": [
    {
     "data": {
      "text/html": [
       "<div>\n",
       "<style scoped>\n",
       "    .dataframe tbody tr th:only-of-type {\n",
       "        vertical-align: middle;\n",
       "    }\n",
       "\n",
       "    .dataframe tbody tr th {\n",
       "        vertical-align: top;\n",
       "    }\n",
       "\n",
       "    .dataframe thead th {\n",
       "        text-align: right;\n",
       "    }\n",
       "</style>\n",
       "<table border=\"1\" class=\"dataframe\">\n",
       "  <thead>\n",
       "    <tr style=\"text-align: right;\">\n",
       "      <th></th>\n",
       "      <th>count</th>\n",
       "      <th>mean</th>\n",
       "      <th>std</th>\n",
       "      <th>min</th>\n",
       "      <th>25%</th>\n",
       "      <th>50%</th>\n",
       "      <th>75%</th>\n",
       "      <th>max</th>\n",
       "    </tr>\n",
       "  </thead>\n",
       "  <tbody>\n",
       "    <tr>\n",
       "      <th>Healthy eating</th>\n",
       "      <td>1007.0</td>\n",
       "      <td>3.031778</td>\n",
       "      <td>0.936865</td>\n",
       "      <td>1.0</td>\n",
       "      <td>3.0</td>\n",
       "      <td>3.0</td>\n",
       "      <td>4.0</td>\n",
       "      <td>5.0</td>\n",
       "    </tr>\n",
       "    <tr>\n",
       "      <th>Finances</th>\n",
       "      <td>1007.0</td>\n",
       "      <td>3.023833</td>\n",
       "      <td>1.144365</td>\n",
       "      <td>1.0</td>\n",
       "      <td>2.0</td>\n",
       "      <td>3.0</td>\n",
       "      <td>4.0</td>\n",
       "      <td>5.0</td>\n",
       "    </tr>\n",
       "  </tbody>\n",
       "</table>\n",
       "</div>"
      ],
      "text/plain": [
       "                 count      mean       std  min  25%  50%  75%  max\n",
       "Healthy eating  1007.0  3.031778  0.936865  1.0  3.0  3.0  4.0  5.0\n",
       "Finances        1007.0  3.023833  1.144365  1.0  2.0  3.0  4.0  5.0"
      ]
     },
     "execution_count": 99,
     "metadata": {},
     "output_type": "execute_result"
    }
   ],
   "source": [
    "response.describe().T"
   ]
  },
  {
   "cell_type": "markdown",
   "metadata": {},
   "source": [
    "Checking for null values"
   ]
  },
  {
   "cell_type": "code",
   "execution_count": 100,
   "metadata": {},
   "outputs": [
    {
     "data": {
      "text/plain": [
       "True"
      ]
     },
     "execution_count": 100,
     "metadata": {},
     "output_type": "execute_result"
    }
   ],
   "source": [
    "response.isnull().values.any()\n"
   ]
  },
  {
   "cell_type": "code",
   "execution_count": 101,
   "metadata": {},
   "outputs": [
    {
     "data": {
      "text/plain": [
       "3"
      ]
     },
     "execution_count": 101,
     "metadata": {},
     "output_type": "execute_result"
    }
   ],
   "source": [
    "response['Finances'].isnull().sum()"
   ]
  },
  {
   "cell_type": "markdown",
   "metadata": {},
   "source": [
    "Filling missing values using the respective mode"
   ]
  },
  {
   "cell_type": "code",
   "execution_count": 102,
   "metadata": {},
   "outputs": [
    {
     "name": "stdout",
     "output_type": "stream",
     "text": [
      "<class 'pandas.core.frame.DataFrame'>\n",
      "RangeIndex: 1010 entries, 0 to 1009\n",
      "Data columns (total 4 columns):\n",
      "Healthy eating    1010 non-null float64\n",
      "Finances          1010 non-null float64\n",
      "Gender            1010 non-null object\n",
      "Village - town    1010 non-null object\n",
      "dtypes: float64(2), object(2)\n",
      "memory usage: 31.6+ KB\n"
     ]
    }
   ],
   "source": [
    "for x in list(response.columns):\n",
    "    \n",
    "    dt = response[x].dtype\n",
    "    mode = response[x].mode()[0]\n",
    "    if dt == int or dt == float:\n",
    "        response[x].isnull().sum()\n",
    "        response[x] = response[x].fillna(mode)\n",
    "        \n",
    "    else:\n",
    "        response[x] = response[x].fillna(mode)\n",
    "    \n",
    "response.info()"
   ]
  },
  {
   "cell_type": "code",
   "execution_count": 103,
   "metadata": {},
   "outputs": [
    {
     "data": {
      "text/plain": [
       "False"
      ]
     },
     "execution_count": 103,
     "metadata": {},
     "output_type": "execute_result"
    }
   ],
   "source": [
    "response.isnull().values.any()\n"
   ]
  },
  {
   "cell_type": "code",
   "execution_count": 104,
   "metadata": {},
   "outputs": [
    {
     "data": {
      "text/plain": [
       "Healthy eating    0\n",
       "Finances          0\n",
       "Gender            0\n",
       "Village - town    0\n",
       "dtype: int64"
      ]
     },
     "execution_count": 104,
     "metadata": {},
     "output_type": "execute_result"
    }
   ],
   "source": [
    "response.isnull().sum()"
   ]
  },
  {
   "cell_type": "code",
   "execution_count": 105,
   "metadata": {},
   "outputs": [
    {
     "data": {
      "text/plain": [
       "<matplotlib.axes._subplots.AxesSubplot at 0x20bf31e4240>"
      ]
     },
     "execution_count": 105,
     "metadata": {},
     "output_type": "execute_result"
    },
    {
     "data": {
      "image/png": "[encoded data removed]",
      "text/plain": [
       "<Figure size 432x288 with 1 Axes>"
      ]
     },
     "metadata": {
      "needs_background": "light"
     },
     "output_type": "display_data"
    }
   ],
   "source": [
    "response['Finances'].plot(kind='box')"
   ]
  },
  {
   "cell_type": "code",
   "execution_count": 106,
   "metadata": {},
   "outputs": [
    {
     "data": {
      "text/plain": [
       "<matplotlib.axes._subplots.AxesSubplot at 0x20bf31b2da0>"
      ]
     },
     "execution_count": 106,
     "metadata": {},
     "output_type": "execute_result"
    },
    {
     "data": {
      "image/png": "[encoded data removed]",
      "text/plain": [
       "<Figure size 432x288 with 1 Axes>"
      ]
     },
     "metadata": {
      "needs_background": "light"
     },
     "output_type": "display_data"
    }
   ],
   "source": [
    "response['Healthy eating'].plot(kind='box')"
   ]
  },
  {
   "cell_type": "markdown",
   "metadata": {},
   "source": [
    "Not treating for outliers since data is contained within the range of 1 - 5"
   ]
  },
  {
   "cell_type": "markdown",
   "metadata": {},
   "source": [
    "Uni Variant analysis"
   ]
  },
  {
   "cell_type": "code",
   "execution_count": 107,
   "metadata": {},
   "outputs": [
    {
     "data": {
      "text/plain": [
       "Text(0, 0.5, 'Frequency')"
      ]
     },
     "execution_count": 107,
     "metadata": {},
     "output_type": "execute_result"
    },
    {
     "data": {
      "image/png": "[encoded data removed]",
      "text/plain": [
       "<Figure size 432x288 with 1 Axes>"
      ]
     },
     "metadata": {
      "needs_background": "light"
     },
     "output_type": "display_data"
    }
   ],
   "source": [
    "sns.distplot(response['Finances'], hist=True, kde=False, bins=10, color='green', hist_kws={'edgecolor':'black'})\n",
    "plt.title('Histogram of Finances')\n",
    "plt.xlabel('Finances')\n",
    "plt.ylabel('Frequency')"
   ]
  },
  {
   "cell_type": "code",
   "execution_count": 108,
   "metadata": {},
   "outputs": [
    {
     "data": {
      "text/plain": [
       "Text(0, 0.5, 'Frequency')"
      ]
     },
     "execution_count": 108,
     "metadata": {},
     "output_type": "execute_result"
    },
    {
     "data": {
      "image/png": "[encoded data removed]",
      "text/plain": [
       "<Figure size 432x288 with 1 Axes>"
      ]
     },
     "metadata": {
      "needs_background": "light"
     },
     "output_type": "display_data"
    }
   ],
   "source": [
    "sns.distplot(response['Healthy eating'], hist=True, kde=False, bins=10, color='green', hist_kws={'edgecolor':'black'})\n",
    "plt.title('Histogram of Healthy eating')\n",
    "plt.xlabel('Healthy Eating')\n",
    "plt.ylabel('Frequency')"
   ]
  },
  {
   "cell_type": "code",
   "execution_count": 109,
   "metadata": {},
   "outputs": [
    {
     "data": {
      "text/html": [
       "<div>\n",
       "<style scoped>\n",
       "    .dataframe tbody tr th:only-of-type {\n",
       "        vertical-align: middle;\n",
       "    }\n",
       "\n",
       "    .dataframe tbody tr th {\n",
       "        vertical-align: top;\n",
       "    }\n",
       "\n",
       "    .dataframe thead th {\n",
       "        text-align: right;\n",
       "    }\n",
       "</style>\n",
       "<table border=\"1\" class=\"dataframe\">\n",
       "  <thead>\n",
       "    <tr style=\"text-align: right;\">\n",
       "      <th></th>\n",
       "      <th>Healthy eating</th>\n",
       "      <th>Finances</th>\n",
       "    </tr>\n",
       "    <tr>\n",
       "      <th>Gender</th>\n",
       "      <th></th>\n",
       "      <th></th>\n",
       "    </tr>\n",
       "  </thead>\n",
       "  <tbody>\n",
       "    <tr>\n",
       "      <th>female</th>\n",
       "      <td>1845.0</td>\n",
       "      <td>1845.0</td>\n",
       "    </tr>\n",
       "    <tr>\n",
       "      <th>male</th>\n",
       "      <td>1217.0</td>\n",
       "      <td>1209.0</td>\n",
       "    </tr>\n",
       "  </tbody>\n",
       "</table>\n",
       "</div>"
      ],
      "text/plain": [
       "        Healthy eating  Finances\n",
       "Gender                          \n",
       "female          1845.0    1845.0\n",
       "male            1217.0    1209.0"
      ]
     },
     "execution_count": 109,
     "metadata": {},
     "output_type": "execute_result"
    }
   ],
   "source": [
    "response.groupby(['Gender']).sum()"
   ]
  },
  {
   "cell_type": "markdown",
   "metadata": {},
   "source": [
    "Since the count of women is greater than men, histogram might not be best to visualize the data. So using density plot"
   ]
  },
  {
   "cell_type": "code",
   "execution_count": 110,
   "metadata": {},
   "outputs": [
    {
     "data": {
      "text/plain": [
       "Text(0, 0.5, 'Density')"
      ]
     },
     "execution_count": 110,
     "metadata": {},
     "output_type": "execute_result"
    },
    {
     "data": {
      "image/png": "[encoded data removed]",
      "text/plain": [
       "<Figure size 432x288 with 1 Axes>"
      ]
     },
     "metadata": {
      "needs_background": "light"
     },
     "output_type": "display_data"
    }
   ],
   "source": [
    "genders = ['female','male']\n",
    "\n",
    "for gender in genders:\n",
    "    temp = response['Finances'].where(response['Gender']==gender).dropna()\n",
    "    sns.distplot(temp,hist=False, kde=True, kde_kws={'shade':True,'linewidth':3}, label=gender).set_title('Density plot for Finances between Genders')\n",
    "\n",
    "plt.legend(title = 'Gender')\n",
    "plt.xlabel('Finances')\n",
    "plt.ylabel('Density')\n"
   ]
  },
  {
   "cell_type": "markdown",
   "metadata": {},
   "source": [
    "We can infer that there is no clear relationship between finances and gender"
   ]
  },
  {
   "cell_type": "code",
   "execution_count": 111,
   "metadata": {},
   "outputs": [
    {
     "data": {
      "text/plain": [
       "Text(0, 0.5, 'Density')"
      ]
     },
     "execution_count": 111,
     "metadata": {},
     "output_type": "execute_result"
    },
    {
     "data": {
      "image/png": "[encoded data removed]",
      "text/plain": [
       "<Figure size 432x288 with 1 Axes>"
      ]
     },
     "metadata": {
      "needs_background": "light"
     },
     "output_type": "display_data"
    }
   ],
   "source": [
    "places = ['village','city']\n",
    "\n",
    "for place in places:\n",
    "    temp = response['Finances'].where(response['Village - town']==place).dropna()\n",
    "    sns.distplot(temp,hist=False, kde=True, kde_kws={'shade':True,'linewidth':3}, label=place).set_title('Density plot for Finances across village and city')\n",
    "\n",
    "plt.legend(title = 'Place')\n",
    "plt.xlabel('Finances')\n",
    "plt.ylabel('Density')"
   ]
  },
  {
   "cell_type": "markdown",
   "metadata": {},
   "source": [
    "We can infer that the savings in city tends to be better in cities than in villages"
   ]
  },
  {
   "cell_type": "code",
   "execution_count": 112,
   "metadata": {},
   "outputs": [
    {
     "data": {
      "text/plain": [
       "Text(0, 0.5, 'Density')"
      ]
     },
     "execution_count": 112,
     "metadata": {},
     "output_type": "execute_result"
    },
    {
     "data": {
      "image/png": "[encoded data removed]",
      "text/plain": [
       "<Figure size 432x288 with 1 Axes>"
      ]
     },
     "metadata": {
      "needs_background": "light"
     },
     "output_type": "display_data"
    }
   ],
   "source": [
    "genders = ['female','male']\n",
    "\n",
    "for gender in genders:\n",
    "    temp = response['Healthy eating'].where(response['Gender']==gender).dropna()\n",
    "    sns.distplot(temp,hist=False, kde=True, kde_kws={'shade':True,'linewidth':3}, label=gender).set_title('Density plot for Healthy eating across Genders')\n",
    "\n",
    "plt.legend(title = 'Gender')\n",
    "plt.xlabel('Healthy eating')\n",
    "plt.ylabel('Density')\n"
   ]
  },
  {
   "cell_type": "markdown",
   "metadata": {},
   "source": [
    "Data does show that females tend to lead healthier lifestyles compared to men"
   ]
  },
  {
   "cell_type": "code",
   "execution_count": 113,
   "metadata": {},
   "outputs": [
    {
     "data": {
      "text/plain": [
       "Text(0, 0.5, 'Density')"
      ]
     },
     "execution_count": 113,
     "metadata": {},
     "output_type": "execute_result"
    },
    {
     "data": {
      "image/png": "[encoded data removed]",
      "text/plain": [
       "<Figure size 432x288 with 1 Axes>"
      ]
     },
     "metadata": {
      "needs_background": "light"
     },
     "output_type": "display_data"
    }
   ],
   "source": [
    "places = ['village','city']\n",
    "\n",
    "for place in places:\n",
    "    temp = response['Healthy eating'].where(response['Village - town']==place).dropna()\n",
    "    sns.distplot(temp,hist=False, kde=True, kde_kws={'shade':True,'linewidth':3}, label=place).set_title('Density plot for Healthy eating across village and city')\n",
    "\n",
    "plt.legend(title = 'Place')\n",
    "plt.xlabel('Healthy eating')\n",
    "plt.ylabel('Density')"
   ]
  },
  {
   "cell_type": "markdown",
   "metadata": {},
   "source": [
    "From the data we can infer that city people lead a slightly healthier life compared to villages "
   ]
  },
  {
   "cell_type": "markdown",
   "metadata": {},
   "source": [
    "# Hypothesis testing:"
   ]
  },
  {
   "cell_type": "markdown",
   "metadata": {},
   "source": [
    "Is saving money (finances) gender dependant?"
   ]
  },
  {
   "cell_type": "markdown",
   "metadata": {},
   "source": [
    "Ho = Null hypothesis - There is no significant difference between genders <br>\n",
    "H1 = Alternate hypothesis - There is significant difference between genders"
   ]
  },
  {
   "cell_type": "code",
   "execution_count": 114,
   "metadata": {},
   "outputs": [
    {
     "name": "stdout",
     "output_type": "stream",
     "text": [
      "p value is 0.058. We failed to reject null hypothesis.\n"
     ]
    }
   ],
   "source": [
    "Fin_Fem = response['Finances'].where(response['Gender']=='female').dropna()\n",
    "Fin_Mal = response['Finances'].where(response['Gender']=='male').dropna()\n",
    "t_statistic, p_value = stats.ttest_ind(Fin_Mal,Fin_Fem)\n",
    "if p_value < 0.05:\n",
    "    print(f\"p value is {round(p_value,3)}. We reject null hypothesis. There is a significant difference between genders\")\n",
    "else:\n",
    "     print(f\"p value is {round(p_value,3)}. We failed to reject null hypothesis.\")"
   ]
  },
  {
   "cell_type": "markdown",
   "metadata": {},
   "source": [
    "Is there any differences in money saving (finances) between people from city or village?"
   ]
  },
  {
   "cell_type": "markdown",
   "metadata": {},
   "source": [
    "Ho = Null Hypothesis - There is no significant difference in savings between people from city and villages<br>\n",
    "H1 = Alternate Hypothesis - There is significant difference in savings between people from city and villages"
   ]
  },
  {
   "cell_type": "code",
   "execution_count": 115,
   "metadata": {},
   "outputs": [
    {
     "name": "stdout",
     "output_type": "stream",
     "text": [
      "p value is 0.008. We reject null hypothesis. There is a significant difference in savings between city and village\n"
     ]
    }
   ],
   "source": [
    "Fin_Vil = response['Finances'].where(response['Village - town']=='village').dropna()\n",
    "Fin_Cit = response['Finances'].where(response['Village - town']=='city').dropna()\n",
    "t_statistic, p_value = stats.ttest_ind(Fin_Cit,Fin_Vil)\n",
    "if p_value < 0.05:\n",
    "    print(f\"p value is {round(p_value,3)}. We reject null hypothesis. There is a significant difference in savings between city and village\")\n",
    "else:\n",
    "     print(f\"p value is {round(p_value,3)}. We failed to reject null hypothesis.\")"
   ]
  },
  {
   "cell_type": "markdown",
   "metadata": {},
   "source": [
    "Do Women have a Healthier Lifestyle than Men?"
   ]
  },
  {
   "cell_type": "markdown",
   "metadata": {},
   "source": [
    "Ho = Null Hypothesis - There is no significant difference in lifestyles between men and women<br>\n",
    "H1 = Alternate Hypothesis - There is significant difference in lifestyles between men and women"
   ]
  },
  {
   "cell_type": "code",
   "execution_count": 116,
   "metadata": {},
   "outputs": [
    {
     "name": "stdout",
     "output_type": "stream",
     "text": [
      "p value is 0.047. We reject null hypothesis. There is a significant difference in lifestyles between men and women\n"
     ]
    }
   ],
   "source": [
    "Hea_Mal = response['Healthy eating'].where(response['Gender']=='male').dropna()\n",
    "Hea_Fem = response['Healthy eating'].where(response['Gender']=='female').dropna()\n",
    "t_statistic, p_value = stats.ttest_ind(Hea_Mal,Hea_Fem)\n",
    "if p_value < 0.05:\n",
    "    print(f\"p value is {round(p_value,3)}. We reject null hypothesis. There is a significant difference in lifestyles between men and women\")\n",
    "else:\n",
    "     print(f\"p value is {round(p_value,3)}. We failed to reject null hypothesis.\")"
   ]
  },
  {
   "cell_type": "markdown",
   "metadata": {},
   "source": [
    "Are Village People Healthier than City People?"
   ]
  },
  {
   "cell_type": "markdown",
   "metadata": {},
   "source": [
    "Ho = Null Hypothesis - There is no significant difference in lifestyles between people in city and village<br>\n",
    "H1 = Alternate Hypothesis - There is significant difference in lifestyles between people in city and village\n"
   ]
  },
  {
   "cell_type": "code",
   "execution_count": 117,
   "metadata": {},
   "outputs": [
    {
     "name": "stdout",
     "output_type": "stream",
     "text": [
      "p value is 0.286. We failed to reject null hypothesis.\n"
     ]
    }
   ],
   "source": [
    "Hea_Cit = response['Healthy eating'].where(response['Village - town']=='city').dropna()\n",
    "Hea_Vil = response['Healthy eating'].where(response['Village - town']=='village').dropna()\n",
    "t_statistic, p_value = stats.ttest_ind(Hea_Cit,Hea_Vil)\n",
    "if p_value < 0.05:\n",
    "    print(f\"p value is {round(p_value,3)}. We reject null hypothesis. There is a significant difference in lifestyles between people in city and village\")\n",
    "else:\n",
    "     print(f\"p value is {round(p_value,3)}. We failed to reject null hypothesis.\")"
   ]
  },
  {
   "cell_type": "markdown",
   "metadata": {},
   "source": [
    "# Conclusions:\n"
   ]
  },
  {
   "cell_type": "markdown",
   "metadata": {},
   "source": [
    "1 - Women might manage finance better than men but there is no significant difference across genders"
   ]
  },
  {
   "cell_type": "markdown",
   "metadata": {},
   "source": [
    "2 - People in city save better than people in villages and the difference is significant"
   ]
  },
  {
   "cell_type": "markdown",
   "metadata": {},
   "source": [
    "3 - There is significant difference in lifestyle between men and women and according to the given data women lead a better lifestyle"
   ]
  },
  {
   "cell_type": "markdown",
   "metadata": {},
   "source": [
    "4 - Data might suggest city people might lead a slightly healthier lifestyle but the differnce isn't significant"
   ]
  },
  {
   "cell_type": "code",
   "execution_count": null,
   "metadata": {},
   "outputs": [],
   "source": []
  }
 ],
 "metadata": {
  "kernelspec": {
   "display_name": "Python 3",
   "language": "python",
   "name": "python3"
  },
  "language_info": {
   "codemirror_mode": {
    "name": "ipython",
    "version": 3
   },
   "file_extension": ".py",
   "mimetype": "text/x-python",
   "name": "python",
   "nbconvert_exporter": "python",
   "pygments_lexer": "ipython3",
   "version": "3.7.3"
  }
 },
 "nbformat": 4,
 "nbformat_minor": 2
}

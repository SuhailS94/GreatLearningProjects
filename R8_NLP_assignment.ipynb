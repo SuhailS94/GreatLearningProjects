{
 "cells": [
  {
   "cell_type": "code",
   "execution_count": 34,
   "metadata": {},
   "outputs": [],
   "source": [
    "import numpy as np\n",
    "import pandas as pd\n",
    "import matplotlib.pyplot as plt\n",
    "import re\n",
    "from sklearn.model_selection import train_test_split\n",
    "from sklearn.feature_extraction.text import CountVectorizer\n",
    "from sklearn import metrics"
   ]
  },
  {
   "cell_type": "code",
   "execution_count": 2,
   "metadata": {},
   "outputs": [],
   "source": [
    "df = pd.read_csv('blogtext.csv')"
   ]
  },
  {
   "cell_type": "code",
   "execution_count": 3,
   "metadata": {},
   "outputs": [
    {
     "data": {
      "text/html": [
       "<div>\n",
       "<style scoped>\n",
       "    .dataframe tbody tr th:only-of-type {\n",
       "        vertical-align: middle;\n",
       "    }\n",
       "\n",
       "    .dataframe tbody tr th {\n",
       "        vertical-align: top;\n",
       "    }\n",
       "\n",
       "    .dataframe thead th {\n",
       "        text-align: right;\n",
       "    }\n",
       "</style>\n",
       "<table border=\"1\" class=\"dataframe\">\n",
       "  <thead>\n",
       "    <tr style=\"text-align: right;\">\n",
       "      <th></th>\n",
       "      <th>id</th>\n",
       "      <th>gender</th>\n",
       "      <th>age</th>\n",
       "      <th>topic</th>\n",
       "      <th>sign</th>\n",
       "      <th>date</th>\n",
       "      <th>text</th>\n",
       "    </tr>\n",
       "  </thead>\n",
       "  <tbody>\n",
       "    <tr>\n",
       "      <td>0</td>\n",
       "      <td>2059027</td>\n",
       "      <td>male</td>\n",
       "      <td>15</td>\n",
       "      <td>Student</td>\n",
       "      <td>Leo</td>\n",
       "      <td>14,May,2004</td>\n",
       "      <td>Info has been found (+/- 100 pages,...</td>\n",
       "    </tr>\n",
       "    <tr>\n",
       "      <td>1</td>\n",
       "      <td>2059027</td>\n",
       "      <td>male</td>\n",
       "      <td>15</td>\n",
       "      <td>Student</td>\n",
       "      <td>Leo</td>\n",
       "      <td>13,May,2004</td>\n",
       "      <td>These are the team members:   Drewe...</td>\n",
       "    </tr>\n",
       "    <tr>\n",
       "      <td>2</td>\n",
       "      <td>2059027</td>\n",
       "      <td>male</td>\n",
       "      <td>15</td>\n",
       "      <td>Student</td>\n",
       "      <td>Leo</td>\n",
       "      <td>12,May,2004</td>\n",
       "      <td>In het kader van kernfusie op aarde...</td>\n",
       "    </tr>\n",
       "    <tr>\n",
       "      <td>3</td>\n",
       "      <td>2059027</td>\n",
       "      <td>male</td>\n",
       "      <td>15</td>\n",
       "      <td>Student</td>\n",
       "      <td>Leo</td>\n",
       "      <td>12,May,2004</td>\n",
       "      <td>testing!!!  testing!!!</td>\n",
       "    </tr>\n",
       "    <tr>\n",
       "      <td>4</td>\n",
       "      <td>3581210</td>\n",
       "      <td>male</td>\n",
       "      <td>33</td>\n",
       "      <td>InvestmentBanking</td>\n",
       "      <td>Aquarius</td>\n",
       "      <td>11,June,2004</td>\n",
       "      <td>Thanks to Yahoo!'s Toolbar I can ...</td>\n",
       "    </tr>\n",
       "  </tbody>\n",
       "</table>\n",
       "</div>"
      ],
      "text/plain": [
       "        id gender  age              topic      sign          date  \\\n",
       "0  2059027   male   15            Student       Leo   14,May,2004   \n",
       "1  2059027   male   15            Student       Leo   13,May,2004   \n",
       "2  2059027   male   15            Student       Leo   12,May,2004   \n",
       "3  2059027   male   15            Student       Leo   12,May,2004   \n",
       "4  3581210   male   33  InvestmentBanking  Aquarius  11,June,2004   \n",
       "\n",
       "                                                text  \n",
       "0             Info has been found (+/- 100 pages,...  \n",
       "1             These are the team members:   Drewe...  \n",
       "2             In het kader van kernfusie op aarde...  \n",
       "3                   testing!!!  testing!!!            \n",
       "4               Thanks to Yahoo!'s Toolbar I can ...  "
      ]
     },
     "execution_count": 3,
     "metadata": {},
     "output_type": "execute_result"
    }
   ],
   "source": [
    "df.head()"
   ]
  },
  {
   "cell_type": "code",
   "execution_count": 4,
   "metadata": {},
   "outputs": [
    {
     "data": {
      "text/plain": [
       "(681284, 7)"
      ]
     },
     "execution_count": 4,
     "metadata": {},
     "output_type": "execute_result"
    }
   ],
   "source": [
    "df.shape"
   ]
  },
  {
   "cell_type": "markdown",
   "metadata": {},
   "source": [
    "The dataset is too large, we will be reducing the dataset for faster computation"
   ]
  },
  {
   "cell_type": "markdown",
   "metadata": {},
   "source": [
    "taking a random sample of 3400 rows"
   ]
  },
  {
   "cell_type": "code",
   "execution_count": 7,
   "metadata": {},
   "outputs": [],
   "source": [
    "df_new = df.sample(frac=0.005)"
   ]
  },
  {
   "cell_type": "code",
   "execution_count": 8,
   "metadata": {},
   "outputs": [
    {
     "data": {
      "text/plain": [
       "(3406, 7)"
      ]
     },
     "execution_count": 8,
     "metadata": {},
     "output_type": "execute_result"
    }
   ],
   "source": [
    "df_new.shape"
   ]
  },
  {
   "cell_type": "markdown",
   "metadata": {},
   "source": [
    "Data pre-processing"
   ]
  },
  {
   "cell_type": "code",
   "execution_count": 9,
   "metadata": {},
   "outputs": [],
   "source": [
    "df_text = df_new[['text']]\n",
    "df_text = df_text.applymap(lambda x: re.sub(r\"[^0-9A-Za-z ]+\",\"\",str(x)))"
   ]
  },
  {
   "cell_type": "code",
   "execution_count": 10,
   "metadata": {},
   "outputs": [
    {
     "data": {
      "text/html": [
       "<div>\n",
       "<style scoped>\n",
       "    .dataframe tbody tr th:only-of-type {\n",
       "        vertical-align: middle;\n",
       "    }\n",
       "\n",
       "    .dataframe tbody tr th {\n",
       "        vertical-align: top;\n",
       "    }\n",
       "\n",
       "    .dataframe thead th {\n",
       "        text-align: right;\n",
       "    }\n",
       "</style>\n",
       "<table border=\"1\" class=\"dataframe\">\n",
       "  <thead>\n",
       "    <tr style=\"text-align: right;\">\n",
       "      <th></th>\n",
       "      <th>text</th>\n",
       "    </tr>\n",
       "  </thead>\n",
       "  <tbody>\n",
       "    <tr>\n",
       "      <td>343424</td>\n",
       "      <td>1 What food do you like that most peopl...</td>\n",
       "    </tr>\n",
       "    <tr>\n",
       "      <td>295263</td>\n",
       "      <td>Mood  Content  Music  Phone ringing   ...</td>\n",
       "    </tr>\n",
       "    <tr>\n",
       "      <td>385392</td>\n",
       "      <td>ORGANIZING   I think I need to u...</td>\n",
       "    </tr>\n",
       "    <tr>\n",
       "      <td>646772</td>\n",
       "      <td>It was soo weird seeing Canada 72nd on ...</td>\n",
       "    </tr>\n",
       "    <tr>\n",
       "      <td>355964</td>\n",
       "      <td>Yesterday moved quickly I spoke to ...</td>\n",
       "    </tr>\n",
       "  </tbody>\n",
       "</table>\n",
       "</div>"
      ],
      "text/plain": [
       "                                                     text\n",
       "343424         1 What food do you like that most peopl...\n",
       "295263          Mood  Content  Music  Phone ringing   ...\n",
       "385392                ORGANIZING   I think I need to u...\n",
       "646772         It was soo weird seeing Canada 72nd on ...\n",
       "355964             Yesterday moved quickly I spoke to ..."
      ]
     },
     "execution_count": 10,
     "metadata": {},
     "output_type": "execute_result"
    }
   ],
   "source": [
    "df_text.head()"
   ]
  },
  {
   "cell_type": "markdown",
   "metadata": {},
   "source": [
    "Converting gender, age, topic and sign as one column - labels"
   ]
  },
  {
   "cell_type": "code",
   "execution_count": 11,
   "metadata": {},
   "outputs": [],
   "source": [
    "df_labels = df_new['gender'].astype(str)+ \", \"+df_new['age'].astype(str)+ \", \"+df_new['topic'].astype(str)+\", \"+df_new['sign'].astype(str)"
   ]
  },
  {
   "cell_type": "code",
   "execution_count": 12,
   "metadata": {},
   "outputs": [],
   "source": [
    "df_labels = pd.DataFrame(df_labels, columns = ['labels'])"
   ]
  },
  {
   "cell_type": "code",
   "execution_count": 13,
   "metadata": {},
   "outputs": [],
   "source": [
    "df_final = df_text.join(df_labels)"
   ]
  },
  {
   "cell_type": "code",
   "execution_count": 14,
   "metadata": {},
   "outputs": [
    {
     "data": {
      "text/html": [
       "<div>\n",
       "<style scoped>\n",
       "    .dataframe tbody tr th:only-of-type {\n",
       "        vertical-align: middle;\n",
       "    }\n",
       "\n",
       "    .dataframe tbody tr th {\n",
       "        vertical-align: top;\n",
       "    }\n",
       "\n",
       "    .dataframe thead th {\n",
       "        text-align: right;\n",
       "    }\n",
       "</style>\n",
       "<table border=\"1\" class=\"dataframe\">\n",
       "  <thead>\n",
       "    <tr style=\"text-align: right;\">\n",
       "      <th></th>\n",
       "      <th>text</th>\n",
       "      <th>labels</th>\n",
       "    </tr>\n",
       "  </thead>\n",
       "  <tbody>\n",
       "    <tr>\n",
       "      <td>343424</td>\n",
       "      <td>1 What food do you like that most peopl...</td>\n",
       "      <td>male, 26, Fashion, Cancer</td>\n",
       "    </tr>\n",
       "    <tr>\n",
       "      <td>295263</td>\n",
       "      <td>Mood  Content  Music  Phone ringing   ...</td>\n",
       "      <td>female, 23, Advertising, Cancer</td>\n",
       "    </tr>\n",
       "    <tr>\n",
       "      <td>385392</td>\n",
       "      <td>ORGANIZING   I think I need to u...</td>\n",
       "      <td>female, 26, indUnk, Taurus</td>\n",
       "    </tr>\n",
       "    <tr>\n",
       "      <td>646772</td>\n",
       "      <td>It was soo weird seeing Canada 72nd on ...</td>\n",
       "      <td>male, 16, Student, Pisces</td>\n",
       "    </tr>\n",
       "    <tr>\n",
       "      <td>355964</td>\n",
       "      <td>Yesterday moved quickly I spoke to ...</td>\n",
       "      <td>male, 33, indUnk, Taurus</td>\n",
       "    </tr>\n",
       "  </tbody>\n",
       "</table>\n",
       "</div>"
      ],
      "text/plain": [
       "                                                     text  \\\n",
       "343424         1 What food do you like that most peopl...   \n",
       "295263          Mood  Content  Music  Phone ringing   ...   \n",
       "385392                ORGANIZING   I think I need to u...   \n",
       "646772         It was soo weird seeing Canada 72nd on ...   \n",
       "355964             Yesterday moved quickly I spoke to ...   \n",
       "\n",
       "                                 labels  \n",
       "343424        male, 26, Fashion, Cancer  \n",
       "295263  female, 23, Advertising, Cancer  \n",
       "385392       female, 26, indUnk, Taurus  \n",
       "646772        male, 16, Student, Pisces  \n",
       "355964         male, 33, indUnk, Taurus  "
      ]
     },
     "execution_count": 14,
     "metadata": {},
     "output_type": "execute_result"
    }
   ],
   "source": [
    "df_final.head()"
   ]
  },
  {
   "cell_type": "code",
   "execution_count": 15,
   "metadata": {},
   "outputs": [
    {
     "data": {
      "text/plain": [
       "(3406, 2)"
      ]
     },
     "execution_count": 15,
     "metadata": {},
     "output_type": "execute_result"
    }
   ],
   "source": [
    "df_final.shape"
   ]
  },
  {
   "cell_type": "code",
   "execution_count": 18,
   "metadata": {},
   "outputs": [],
   "source": [
    "genderCount = df_new['gender'].value_counts().to_dict()\n",
    "ageCount = df_new['age'].value_counts().to_dict()\n",
    "topicCount = df_new['topic'].value_counts().to_dict()\n",
    "signCount = df_new['sign'].value_counts().to_dict()"
   ]
  },
  {
   "cell_type": "code",
   "execution_count": 19,
   "metadata": {},
   "outputs": [],
   "source": [
    "label_counts = {**genderCount , **ageCount, **topicCount, **signCount}"
   ]
  },
  {
   "cell_type": "code",
   "execution_count": 20,
   "metadata": {},
   "outputs": [
    {
     "data": {
      "text/plain": [
       "{'female': 1721,\n",
       " 'male': 1685,\n",
       " 17: 429,\n",
       " 24: 393,\n",
       " 23: 370,\n",
       " 25: 364,\n",
       " 16: 361,\n",
       " 26: 269,\n",
       " 27: 226,\n",
       " 15: 206,\n",
       " 14: 131,\n",
       " 34: 110,\n",
       " 33: 88,\n",
       " 35: 79,\n",
       " 13: 64,\n",
       " 36: 63,\n",
       " 37: 48,\n",
       " 38: 33,\n",
       " 40: 28,\n",
       " 39: 21,\n",
       " 43: 21,\n",
       " 41: 20,\n",
       " 45: 19,\n",
       " 47: 17,\n",
       " 48: 15,\n",
       " 42: 15,\n",
       " 46: 9,\n",
       " 44: 7,\n",
       " 'indUnk': 1243,\n",
       " 'Student': 798,\n",
       " 'Technology': 220,\n",
       " 'Arts': 168,\n",
       " 'Education': 145,\n",
       " 'Communications-Media': 95,\n",
       " 'Non-Profit': 73,\n",
       " 'Internet': 69,\n",
       " 'Engineering': 64,\n",
       " 'Law': 47,\n",
       " 'Publishing': 41,\n",
       " 'Science': 35,\n",
       " 'Consulting': 32,\n",
       " 'Government': 30,\n",
       " 'BusinessServices': 28,\n",
       " 'Advertising': 24,\n",
       " 'Marketing': 23,\n",
       " 'Religion': 23,\n",
       " 'Accounting': 22,\n",
       " 'Fashion': 22,\n",
       " 'HumanResources': 22,\n",
       " 'Sports-Recreation': 20,\n",
       " 'Chemicals': 19,\n",
       " 'Banking': 18,\n",
       " 'RealEstate': 15,\n",
       " 'Military': 14,\n",
       " 'Telecommunications': 12,\n",
       " 'Manufacturing': 12,\n",
       " 'Museums-Libraries': 9,\n",
       " 'Tourism': 8,\n",
       " 'Transportation': 8,\n",
       " 'LawEnforcement-Security': 8,\n",
       " 'Architecture': 8,\n",
       " 'Biotech': 7,\n",
       " 'Construction': 6,\n",
       " 'Automotive': 6,\n",
       " 'Agriculture': 4,\n",
       " 'InvestmentBanking': 3,\n",
       " 'Environment': 3,\n",
       " 'Maritime': 2,\n",
       " 'Aries': 338,\n",
       " 'Cancer': 331,\n",
       " 'Libra': 323,\n",
       " 'Taurus': 321,\n",
       " 'Scorpio': 287,\n",
       " 'Virgo': 281,\n",
       " 'Pisces': 260,\n",
       " 'Sagittarius': 260,\n",
       " 'Gemini': 259,\n",
       " 'Leo': 258,\n",
       " 'Capricorn': 256,\n",
       " 'Aquarius': 232}"
      ]
     },
     "execution_count": 20,
     "metadata": {},
     "output_type": "execute_result"
    }
   ],
   "source": [
    "label_counts"
   ]
  },
  {
   "cell_type": "markdown",
   "metadata": {},
   "source": [
    "Seperating as features and labels"
   ]
  },
  {
   "cell_type": "code",
   "execution_count": 21,
   "metadata": {},
   "outputs": [],
   "source": [
    "X = df_final['text']\n",
    "y = df_final['labels']"
   ]
  },
  {
   "cell_type": "markdown",
   "metadata": {},
   "source": [
    "Splitting into train and test"
   ]
  },
  {
   "cell_type": "code",
   "execution_count": 22,
   "metadata": {},
   "outputs": [],
   "source": [
    "X_train, X_test, y_train, y_test= train_test_split(X,y, random_state=42, test_size = 0.2)"
   ]
  },
  {
   "cell_type": "markdown",
   "metadata": {},
   "source": [
    "Vectorizing the features"
   ]
  },
  {
   "cell_type": "code",
   "execution_count": 23,
   "metadata": {},
   "outputs": [],
   "source": [
    "vect = CountVectorizer(ngram_range=(1,2), stop_words='english', min_df=2)\n",
    "X_train_dtm = vect.fit_transform(X_train)\n",
    "X_test_dtm = vect.transform(X_test)"
   ]
  },
  {
   "cell_type": "code",
   "execution_count": 24,
   "metadata": {},
   "outputs": [
    {
     "name": "stdout",
     "output_type": "stream",
     "text": [
      "['zeal', 'zealand', 'zen', 'zero', 'zillion', 'zines', 'zip', 'zodiac', 'zoe', 'zombie', 'zombies', 'zone', 'zones', 'zoo', 'zoo visit']\n"
     ]
    }
   ],
   "source": [
    "print(vect.get_feature_names()[-15:])"
   ]
  },
  {
   "cell_type": "markdown",
   "metadata": {},
   "source": [
    "Transforming the labels using MultiLabelBinarizer\n"
   ]
  },
  {
   "cell_type": "code",
   "execution_count": 25,
   "metadata": {},
   "outputs": [],
   "source": [
    "y_train_new = [set(i.split(',')) for i in y_train]\n",
    "y_test_new = [set(i.split(',')) for i in y_test]"
   ]
  },
  {
   "cell_type": "code",
   "execution_count": 26,
   "metadata": {},
   "outputs": [],
   "source": [
    "from sklearn.preprocessing import MultiLabelBinarizer\n",
    "mlb = MultiLabelBinarizer()\n",
    "y_train = mlb.fit_transform(y_train_new)\n",
    "y_test = mlb.transform(y_test_new)"
   ]
  },
  {
   "cell_type": "markdown",
   "metadata": {},
   "source": [
    "Using One Vs Rest classifier"
   ]
  },
  {
   "cell_type": "code",
   "execution_count": 27,
   "metadata": {},
   "outputs": [
    {
     "data": {
      "text/plain": [
       "OneVsRestClassifier(estimator=LogisticRegression(C=1, class_weight=None,\n",
       "                                                 dual=False, fit_intercept=True,\n",
       "                                                 intercept_scaling=1,\n",
       "                                                 l1_ratio=None,\n",
       "                                                 max_iter=1000000,\n",
       "                                                 multi_class='warn',\n",
       "                                                 n_jobs=None, penalty='l2',\n",
       "                                                 random_state=None,\n",
       "                                                 solver='lbfgs', tol=0.0001,\n",
       "                                                 verbose=0, warm_start=False),\n",
       "                    n_jobs=None)"
      ]
     },
     "execution_count": 27,
     "metadata": {},
     "output_type": "execute_result"
    }
   ],
   "source": [
    "from sklearn.multiclass import OneVsRestClassifier\n",
    "from sklearn.linear_model import LogisticRegression\n",
    "\n",
    "model = LogisticRegression(C=1, solver='lbfgs', max_iter = 1000000)\n",
    "model = OneVsRestClassifier(model)\n",
    "model.fit(X_train_dtm, y_train)"
   ]
  },
  {
   "cell_type": "code",
   "execution_count": 29,
   "metadata": {},
   "outputs": [],
   "source": [
    "y_pred = model.predict(X_test_dtm)"
   ]
  },
  {
   "cell_type": "markdown",
   "metadata": {},
   "source": [
    "Accuracy score:"
   ]
  },
  {
   "cell_type": "code",
   "execution_count": 53,
   "metadata": {},
   "outputs": [
    {
     "data": {
      "text/plain": [
       "0.002932551319648094"
      ]
     },
     "execution_count": 53,
     "metadata": {},
     "output_type": "execute_result"
    }
   ],
   "source": [
    "metrics.accuracy_score(y_test, y_pred)"
   ]
  },
  {
   "cell_type": "markdown",
   "metadata": {},
   "source": [
    "F1 score:"
   ]
  },
  {
   "cell_type": "code",
   "execution_count": 54,
   "metadata": {},
   "outputs": [
    {
     "data": {
      "text/plain": [
       "0.267867616254713"
      ]
     },
     "execution_count": 54,
     "metadata": {},
     "output_type": "execute_result"
    }
   ],
   "source": [
    "metrics.f1_score(y_test, y_pred, average = 'samples')"
   ]
  },
  {
   "cell_type": "markdown",
   "metadata": {},
   "source": [
    "Precision score:"
   ]
  },
  {
   "cell_type": "code",
   "execution_count": 55,
   "metadata": {},
   "outputs": [
    {
     "data": {
      "text/plain": [
       "0.5035679374389052"
      ]
     },
     "execution_count": 55,
     "metadata": {},
     "output_type": "execute_result"
    }
   ],
   "source": [
    "metrics.precision_score(y_test, y_pred, average='samples')"
   ]
  },
  {
   "cell_type": "markdown",
   "metadata": {},
   "source": [
    "Recall score:"
   ]
  },
  {
   "cell_type": "code",
   "execution_count": 56,
   "metadata": {},
   "outputs": [
    {
     "data": {
      "text/plain": [
       "0.1935483870967742"
      ]
     },
     "execution_count": 56,
     "metadata": {},
     "output_type": "execute_result"
    }
   ],
   "source": [
    "metrics.recall_score(y_test, y_pred, average = 'samples')"
   ]
  },
  {
   "cell_type": "code",
   "execution_count": 63,
   "metadata": {},
   "outputs": [
    {
     "name": "stdout",
     "output_type": "stream",
     "text": [
      "Title:\t       Somehow I neglected to mention the phone call I got a couple of weeks ago just after Id begun to see what a jackass my commander is It was from the FBI I filled out an online background form and the recruiter in Albany called to arrange for me to take the Special Agents Exam Which is June 23 at least a week after we leave  So as soon as we get back Ill finish that process She said theyd already done a preliminary background check based on the internet thing and that my military and intelligence experience make me more or less a shooin  Im already making plans for dropping my paperwork Its best to do it from over there when there will be too many distractions for anyone to take much notice If I drop the separation paperwork now it will earn me a great deal of animosity   But you know after last week I dont know that I  care  What are you gonna do to me stamp my mealcard No Dessert Send me to Iraq   Maybe this deployment is exactly what needed to happen give me the impetus to finally get out and go FBI before its too late In fact if I waited another year it  would  be too late they have an age restriction I often find it irritating to hear chirpy little people say that everything happens for a reason but perhaps in this case its true Ill save enough money to cover whatever move Id have to make and I know Ill be so burned out Ill be motivated to stay the course get to and through the Academyand after Officer Candidate School how tough could it be         \n",
      "True labels:\t 33, Military, Virgo,female\n",
      "Predicted labels:\tfemale\n",
      "\n",
      "\n",
      "Title:\t        Ok  now Im pissed off   After going to see my tutor today for my progress meeting which happened to be 15 minutes late and last 25 minutes too long I met up with Kirstie and went down to the park  We were having lunch blah blah blah and Kirstie who sadly bought Harry Potter stickers and has a crush on Alan Rickman who plays Snape was looking through her stickers and got all excited when she found one of Snape Ok  Its not cool to blag it But these PikeysTowniesChavsKevs whatever you want to call them told her to shut up   I quite frankly thinks its none of their business what we do in a public park The two boys looked like they were going to pass out probably too much information from school How do you spell AND again and the girls hair was so bleached it looked like she permanantley has her hair in a bucked of bleach  So  I have now come to decision  eventually  that these sort of people need to be taken care of  There are a number of options  1 We shoot them all  The Bang Bang  all gone strategy would give me so much pleasure Without them we wouldnt have hooligans pay less benefits and all be safe knowing that when we go to get our wallet its still there Marks out of 10    I give it 7 I dont want to be sent to jail  2 We leave them alone  What a stupid idea Less said the better    I give it 3 marks I wont give it a high mark as I suspect pikeys cant count past 4   3 We start beating them up  Now this sounds like fun The Squish Squish method sounds very tempting However I am not a bully so I give this one 5  So it looks like Ive found a strategy  Let the shooting begin         \n",
      "True labels:\t 17, Taurus, indUnk,male\n",
      "Predicted labels:\t indUnk,male\n",
      "\n",
      "\n",
      "Title:\t       This week is  urlLink Lisas  birthday week too  urlLink The Age Thing           \n",
      "True labels:\t 38, Virgo, indUnk,female\n",
      "Predicted labels:\tmale\n",
      "\n",
      "\n",
      "Title:\t                 Yeah its me  Cannot get enough of Gregs long expressive fingers  Leslie You know I am a Mississippi girl Sheps home state  He is pretty hot  Did you see him in People  Welcome Jan okay if Gregs reports are a little sterile as long as hes not               \n",
      "True labels:\t 46, Accounting, Sagittarius,female\n",
      "Predicted labels:\t indUnk,female\n",
      "\n",
      "\n",
      "Title:\t             I think this is something at least majority of you can enjoy however I must warn you that not everything here I wrote Ill put a dash in front of everything that I wrote   When the Charlotte Bobcats open their 265 million arena next year Barry Silberman expects there will be skepticism about the invisible innovation that will be floating all around the fans  Hes talking about WiFi which stands for wireless fidelity and allows users to wirelessly access the Internet via laptops and PDAs Hotels airports and coffee shops have become commonplaces for these WiFi Hotspots   Hes suggesting its going to be common in sports too In about five years he says any arena or stadium that hasnt gone WiFi will be the exception  While venues testing WiFi have already ranged from  Purdues football stadium  the Sacramento River Cats minor league baseball park and the NFL Pittsburgh Steelers stadium the San Francisco Giants stadium might be the most WiFienabled sports site   Says Giants chief information officer Bill Schlough Its like walking into Starbucks Except our WiFi is free   The idea is that fans can go online and access content such as historical videos trivia games and realtime statistics thats on the Internet or through customized material available only in the stadium Eventually the club hopes to let fans order concessions by WiFi Just to noteMcDonalds is supposed to do this the year we graduate   Although only about 200 fans a games now use the Giants WiFi Schlough admits there is backlash Theres a lot of purist fans who scoff at anybody bringing laptops to games Ive been heckled when I go in the stands But then theyll end up wanting to look over your shoulder  But even Schlough isnt always pleased The real problem is business people coming and doing their office emails at the game  Rich Mayberry a cofounder of Orlandobased Kosmos Studios worked with the Giants and the Steelers In 2003 the Steelers equipped luxury suites and club seats with WiFi allowing fans to wirelessly call up four different TV camera angles But the big WiFi use he says came from kids playing online games And when the parents wanted to see things the kids wouldnt let them on  Silberman notes the WiFi arena also could help first responders communicate in an emergency and even improve cell phone reception throughout the venue He suggests a WiFi killer app as in the winning option will be a fans access to TV replays that might not even be available on TV although he wants to avoid any unnecessary intrusions on fans  Nowwhats funny about this is that our own High School now has WiFi in the CAVE that is accessible to anyone who comes to the basketball games or anything held in there now  Sodoes that make us special and sport historymaking too   Just thought some of you might enjoy this  NowIm not going to overdo it but I figured I could add some of my character to this blog by bringing in technology news from around the world maybe once a week  If you get bored with ittell me  Not all of them will be this long of coursethis just seemed special because of the amount of interest it would bring in from everyone on the site           \n",
      "True labels:\t 16, Education, Taurus,male\n",
      "Predicted labels:\t 24, Technology,male\n",
      "\n",
      "\n"
     ]
    }
   ],
   "source": [
    "y_test_pred_inversed = mlb.inverse_transform(y_pred_class)\n",
    "y_test_inversed = mlb.inverse_transform(y_test)\n",
    "for i in range(350,355):\n",
    "    print('Title:\\t{}\\nTrue labels:\\t{}\\nPredicted labels:\\t{}\\n\\n'.format(\n",
    "        X_test.iloc[i],\n",
    "        ','.join(y_test_inversed[i]),\n",
    "        ','.join(y_test_pred_inversed[i])\n",
    "    ))"
   ]
  },
  {
   "cell_type": "code",
   "execution_count": null,
   "metadata": {},
   "outputs": [],
   "source": []
  }
 ],
 "metadata": {
  "kernelspec": {
   "display_name": "Python 3",
   "language": "python",
   "name": "python3"
  },
  "language_info": {
   "codemirror_mode": {
    "name": "ipython",
    "version": 3
   },
   "file_extension": ".py",
   "mimetype": "text/x-python",
   "name": "python",
   "nbconvert_exporter": "python",
   "pygments_lexer": "ipython3",
   "version": "3.7.4"
  }
 },
 "nbformat": 4,
 "nbformat_minor": 4
}
